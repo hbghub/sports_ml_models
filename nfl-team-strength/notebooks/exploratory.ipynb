{
 "cells": [
  {
   "cell_type": "code",
   "execution_count": 1,
   "metadata": {},
   "outputs": [],
   "source": [
    "# Change directory so that code in \"src\" directory is easily importable.\n",
    "import os\n",
    "os.chdir('../')"
   ]
  },
  {
   "cell_type": "code",
   "execution_count": 2,
   "metadata": {},
   "outputs": [],
   "source": [
    "import pandas as pd\n",
    "import numpy as np\n",
    "import matplotlib.pyplot as plt\n",
    "\n",
    "from pyathena import connect\n",
    "from pyathena.pandas_cursor import PandasCursor\n",
    "\n",
    "from sklearn.metrics import mean_absolute_error, mean_squared_error, roc_auc_score, accuracy_score,\\\n",
    "                            precision_score, recall_score, f1_score\n",
    "\n",
    "pd.options.display.max_columns = 60\n",
    "pd.options.display.max_rows = 600\n",
    "\n",
    "# Define connection to DB\n",
    "conn = connect(\n",
    "    s3_staging_dir='s3://aws-athena-query-results-323906537337-us-east-1/',\n",
    "    region_name='us-east-1',\n",
    "    cursor_class=PandasCursor\n",
    "    )\n",
    "cursor = conn.cursor()"
   ]
  },
  {
   "cell_type": "markdown",
   "metadata": {},
   "source": [
    "# 0 Data"
   ]
  },
  {
   "cell_type": "markdown",
   "metadata": {},
   "source": [
    "## 0.1 loading 538 elo rating data"
   ]
  },
  {
   "cell_type": "code",
   "execution_count": 3,
   "metadata": {
    "collapsed": true,
    "jupyter": {
     "outputs_hidden": true
    }
   },
   "outputs": [
    {
     "name": "stdout",
     "output_type": "stream",
     "text": [
      "<class 'pandas.core.frame.DataFrame'>\n",
      "Int64Index: 267 entries, 16274 to 16540\n",
      "Data columns (total 30 columns):\n",
      " #   Column          Non-Null Count  Dtype  \n",
      "---  ------          --------------  -----  \n",
      " 0   date            267 non-null    object \n",
      " 1   season          267 non-null    int64  \n",
      " 2   neutral         267 non-null    int64  \n",
      " 3   playoff         11 non-null     object \n",
      " 4   team1           267 non-null    object \n",
      " 5   team2           267 non-null    object \n",
      " 6   elo1_pre        267 non-null    float64\n",
      " 7   elo2_pre        267 non-null    float64\n",
      " 8   elo_prob1       267 non-null    float64\n",
      " 9   elo_prob2       267 non-null    float64\n",
      " 10  elo1_post       267 non-null    float64\n",
      " 11  elo2_post       267 non-null    float64\n",
      " 12  qbelo1_pre      267 non-null    float64\n",
      " 13  qbelo2_pre      267 non-null    float64\n",
      " 14  qb1             267 non-null    object \n",
      " 15  qb2             267 non-null    object \n",
      " 16  qb1_value_pre   267 non-null    float64\n",
      " 17  qb2_value_pre   267 non-null    float64\n",
      " 18  qb1_adj         267 non-null    float64\n",
      " 19  qb2_adj         267 non-null    float64\n",
      " 20  qbelo_prob1     267 non-null    float64\n",
      " 21  qbelo_prob2     267 non-null    float64\n",
      " 22  qb1_game_value  267 non-null    float64\n",
      " 23  qb2_game_value  267 non-null    float64\n",
      " 24  qb1_value_post  267 non-null    float64\n",
      " 25  qb2_value_post  267 non-null    float64\n",
      " 26  qbelo1_post     267 non-null    float64\n",
      " 27  qbelo2_post     267 non-null    float64\n",
      " 28  score1          267 non-null    float64\n",
      " 29  score2          267 non-null    float64\n",
      "dtypes: float64(22), int64(2), object(6)\n",
      "memory usage: 64.7+ KB\n"
     ]
    }
   ],
   "source": [
    "elo_data = pd.read_csv('runtime/datasets/nfl_elo.csv')\n",
    "elo_data = elo_data[(elo_data.season == 2019)]\n",
    "elo_data.info()"
   ]
  },
  {
   "cell_type": "code",
   "execution_count": 4,
   "metadata": {
    "collapsed": true,
    "jupyter": {
     "outputs_hidden": true
    }
   },
   "outputs": [
    {
     "data": {
      "text/html": [
       "<div>\n",
       "<style scoped>\n",
       "    .dataframe tbody tr th:only-of-type {\n",
       "        vertical-align: middle;\n",
       "    }\n",
       "\n",
       "    .dataframe tbody tr th {\n",
       "        vertical-align: top;\n",
       "    }\n",
       "\n",
       "    .dataframe thead th {\n",
       "        text-align: right;\n",
       "    }\n",
       "</style>\n",
       "<table border=\"1\" class=\"dataframe\">\n",
       "  <thead>\n",
       "    <tr style=\"text-align: right;\">\n",
       "      <th></th>\n",
       "      <th>team</th>\n",
       "      <th>team_id</th>\n",
       "    </tr>\n",
       "  </thead>\n",
       "  <tbody>\n",
       "    <tr>\n",
       "      <th>0</th>\n",
       "      <td>ARI</td>\n",
       "      <td>355</td>\n",
       "    </tr>\n",
       "    <tr>\n",
       "      <th>1</th>\n",
       "      <td>ATL</td>\n",
       "      <td>323</td>\n",
       "    </tr>\n",
       "    <tr>\n",
       "      <th>2</th>\n",
       "      <td>BAL</td>\n",
       "      <td>366</td>\n",
       "    </tr>\n",
       "    <tr>\n",
       "      <th>3</th>\n",
       "      <td>BUF</td>\n",
       "      <td>324</td>\n",
       "    </tr>\n",
       "    <tr>\n",
       "      <th>4</th>\n",
       "      <td>CAR</td>\n",
       "      <td>364</td>\n",
       "    </tr>\n",
       "    <tr>\n",
       "      <th>5</th>\n",
       "      <td>CHI</td>\n",
       "      <td>326</td>\n",
       "    </tr>\n",
       "    <tr>\n",
       "      <th>6</th>\n",
       "      <td>CIN</td>\n",
       "      <td>327</td>\n",
       "    </tr>\n",
       "    <tr>\n",
       "      <th>7</th>\n",
       "      <td>CLE</td>\n",
       "      <td>329</td>\n",
       "    </tr>\n",
       "    <tr>\n",
       "      <th>8</th>\n",
       "      <td>DAL</td>\n",
       "      <td>331</td>\n",
       "    </tr>\n",
       "    <tr>\n",
       "      <th>9</th>\n",
       "      <td>DEN</td>\n",
       "      <td>332</td>\n",
       "    </tr>\n",
       "    <tr>\n",
       "      <th>10</th>\n",
       "      <td>DET</td>\n",
       "      <td>334</td>\n",
       "    </tr>\n",
       "    <tr>\n",
       "      <th>11</th>\n",
       "      <td>GB</td>\n",
       "      <td>335</td>\n",
       "    </tr>\n",
       "    <tr>\n",
       "      <th>12</th>\n",
       "      <td>HOU</td>\n",
       "      <td>325</td>\n",
       "    </tr>\n",
       "    <tr>\n",
       "      <th>13</th>\n",
       "      <td>IND</td>\n",
       "      <td>338</td>\n",
       "    </tr>\n",
       "    <tr>\n",
       "      <th>14</th>\n",
       "      <td>JAX</td>\n",
       "      <td>365</td>\n",
       "    </tr>\n",
       "    <tr>\n",
       "      <th>15</th>\n",
       "      <td>KC</td>\n",
       "      <td>339</td>\n",
       "    </tr>\n",
       "    <tr>\n",
       "      <th>16</th>\n",
       "      <td>LAC</td>\n",
       "      <td>357</td>\n",
       "    </tr>\n",
       "    <tr>\n",
       "      <th>17</th>\n",
       "      <td>LAR</td>\n",
       "      <td>343</td>\n",
       "    </tr>\n",
       "    <tr>\n",
       "      <th>18</th>\n",
       "      <td>MIA</td>\n",
       "      <td>345</td>\n",
       "    </tr>\n",
       "    <tr>\n",
       "      <th>19</th>\n",
       "      <td>MIN</td>\n",
       "      <td>347</td>\n",
       "    </tr>\n",
       "    <tr>\n",
       "      <th>20</th>\n",
       "      <td>NE</td>\n",
       "      <td>348</td>\n",
       "    </tr>\n",
       "    <tr>\n",
       "      <th>21</th>\n",
       "      <td>NO</td>\n",
       "      <td>350</td>\n",
       "    </tr>\n",
       "    <tr>\n",
       "      <th>22</th>\n",
       "      <td>NYG</td>\n",
       "      <td>351</td>\n",
       "    </tr>\n",
       "    <tr>\n",
       "      <th>23</th>\n",
       "      <td>NYJ</td>\n",
       "      <td>352</td>\n",
       "    </tr>\n",
       "    <tr>\n",
       "      <th>24</th>\n",
       "      <td>OAK</td>\n",
       "      <td>341</td>\n",
       "    </tr>\n",
       "    <tr>\n",
       "      <th>25</th>\n",
       "      <td>PHI</td>\n",
       "      <td>354</td>\n",
       "    </tr>\n",
       "    <tr>\n",
       "      <th>26</th>\n",
       "      <td>PIT</td>\n",
       "      <td>356</td>\n",
       "    </tr>\n",
       "    <tr>\n",
       "      <th>27</th>\n",
       "      <td>SEA</td>\n",
       "      <td>361</td>\n",
       "    </tr>\n",
       "    <tr>\n",
       "      <th>28</th>\n",
       "      <td>SF</td>\n",
       "      <td>359</td>\n",
       "    </tr>\n",
       "    <tr>\n",
       "      <th>29</th>\n",
       "      <td>TB</td>\n",
       "      <td>362</td>\n",
       "    </tr>\n",
       "    <tr>\n",
       "      <th>30</th>\n",
       "      <td>TEN</td>\n",
       "      <td>336</td>\n",
       "    </tr>\n",
       "    <tr>\n",
       "      <th>31</th>\n",
       "      <td>WSH</td>\n",
       "      <td>363</td>\n",
       "    </tr>\n",
       "  </tbody>\n",
       "</table>\n",
       "</div>"
      ],
      "text/plain": [
       "   team  team_id\n",
       "0   ARI      355\n",
       "1   ATL      323\n",
       "2   BAL      366\n",
       "3   BUF      324\n",
       "4   CAR      364\n",
       "5   CHI      326\n",
       "6   CIN      327\n",
       "7   CLE      329\n",
       "8   DAL      331\n",
       "9   DEN      332\n",
       "10  DET      334\n",
       "11   GB      335\n",
       "12  HOU      325\n",
       "13  IND      338\n",
       "14  JAX      365\n",
       "15   KC      339\n",
       "16  LAC      357\n",
       "17  LAR      343\n",
       "18  MIA      345\n",
       "19  MIN      347\n",
       "20   NE      348\n",
       "21   NO      350\n",
       "22  NYG      351\n",
       "23  NYJ      352\n",
       "24  OAK      341\n",
       "25  PHI      354\n",
       "26  PIT      356\n",
       "27  SEA      361\n",
       "28   SF      359\n",
       "29   TB      362\n",
       "30  TEN      336\n",
       "31  WSH      363"
      ]
     },
     "execution_count": 4,
     "metadata": {},
     "output_type": "execute_result"
    }
   ],
   "source": [
    "# create a dictionary between team name and team id\n",
    "team_dict = {'ARI':355, 'ATL':323, 'BAL':366, 'BUF':324, 'CAR':364, 'CHI':326, 'CIN':327, 'CLE':329, 'DAL':331,\n",
    "       'DEN':332, 'DET':334, 'GB':335, 'HOU':325, 'IND':338, 'JAX':365, 'KC':339, 'LAC':357, 'LAR':343, 'MIA':345,\n",
    "       'MIN':347, 'NE':348, 'NO':350, 'NYG':351, 'NYJ':352, 'OAK':341, 'PHI':354, 'PIT':356, 'SEA':361, 'SF':359,\n",
    "       'TB':362, 'TEN':336, 'WSH':363}\n",
    "team_dict=pd.DataFrame(pd.Series(team_dict) ).reset_index()\n",
    "team_dict.columns = ['team','team_id']\n",
    "team_dict"
   ]
  },
  {
   "cell_type": "code",
   "execution_count": 5,
   "metadata": {},
   "outputs": [],
   "source": [
    "# add team id for home/away team\n",
    "elo_data = pd.merge(elo_data, team_dict, left_on='team1', right_on='team', how='left')\n",
    "elo_data.drop('team', axis=1, inplace=True)\n",
    "elo_data.rename(columns={'team_id':'team1_id'}, inplace=True)\n",
    "\n",
    "elo_data = pd.merge(elo_data, team_dict, left_on='team2', right_on='team', how='left')\n",
    "elo_data.drop('team', axis=1, inplace=True)\n",
    "elo_data.rename(columns={'team_id':'team2_id'}, inplace=True)"
   ]
  },
  {
   "cell_type": "code",
   "execution_count": 6,
   "metadata": {
    "collapsed": true,
    "jupyter": {
     "outputs_hidden": true
    }
   },
   "outputs": [
    {
     "name": "stdout",
     "output_type": "stream",
     "text": [
      "<class 'pandas.core.frame.DataFrame'>\n",
      "Int64Index: 267 entries, 0 to 266\n",
      "Data columns (total 37 columns):\n",
      " #   Column            Non-Null Count  Dtype  \n",
      "---  ------            --------------  -----  \n",
      " 0   date              267 non-null    object \n",
      " 1   season            267 non-null    int64  \n",
      " 2   neutral           267 non-null    int64  \n",
      " 3   playoff           11 non-null     object \n",
      " 4   team1             267 non-null    object \n",
      " 5   team2             267 non-null    object \n",
      " 6   elo1_pre          267 non-null    float64\n",
      " 7   elo2_pre          267 non-null    float64\n",
      " 8   elo_prob1         267 non-null    float64\n",
      " 9   elo_prob2         267 non-null    float64\n",
      " 10  elo1_post         267 non-null    float64\n",
      " 11  elo2_post         267 non-null    float64\n",
      " 12  qbelo1_pre        267 non-null    float64\n",
      " 13  qbelo2_pre        267 non-null    float64\n",
      " 14  qb1               267 non-null    object \n",
      " 15  qb2               267 non-null    object \n",
      " 16  qb1_value_pre     267 non-null    float64\n",
      " 17  qb2_value_pre     267 non-null    float64\n",
      " 18  qb1_adj           267 non-null    float64\n",
      " 19  qb2_adj           267 non-null    float64\n",
      " 20  qbelo_prob1       267 non-null    float64\n",
      " 21  qbelo_prob2       267 non-null    float64\n",
      " 22  qb1_game_value    267 non-null    float64\n",
      " 23  qb2_game_value    267 non-null    float64\n",
      " 24  qb1_value_post    267 non-null    float64\n",
      " 25  qb2_value_post    267 non-null    float64\n",
      " 26  qbelo1_post       267 non-null    float64\n",
      " 27  qbelo2_post       267 non-null    float64\n",
      " 28  score1            267 non-null    float64\n",
      " 29  score2            267 non-null    float64\n",
      " 30  team1_id          267 non-null    int64  \n",
      " 31  team2_id          267 non-null    int64  \n",
      " 32  team1_value_pre   267 non-null    float64\n",
      " 33  team2_value_pre   267 non-null    float64\n",
      " 34  team1_value_post  267 non-null    float64\n",
      " 35  team2_value_post  267 non-null    float64\n",
      " 36  home_win          267 non-null    bool   \n",
      "dtypes: bool(1), float64(26), int64(4), object(6)\n",
      "memory usage: 77.4+ KB\n"
     ]
    }
   ],
   "source": [
    "# calculate team rolling VALUE rating\n",
    "elo_data['team1_value_pre'] = elo_data.qb1_value_pre - elo_data.qb1_adj\n",
    "elo_data['team2_value_pre'] = elo_data.qb2_value_pre - elo_data.qb2_adj\n",
    "\n",
    "elo_data['team1_value_post'] = elo_data.team1_value_pre * 0.95 + elo_data.qb1_game_value * 0.05\n",
    "elo_data['team2_value_post'] = elo_data.team2_value_pre * 0.95 + elo_data.qb2_game_value * 0.05\n",
    "\n",
    "elo_data['home_win'] = elo_data.score1 > elo_data.score2\n",
    "\n",
    "elo_data.info()"
   ]
  },
  {
   "cell_type": "code",
   "execution_count": null,
   "metadata": {},
   "outputs": [],
   "source": [
    "elo_data.playoff.unique() # 's'-> superball, 'w'-> wild card, 'c'->conference final, 'd'->division final\n",
    "#elo_data.neutral.unique()"
   ]
  },
  {
   "cell_type": "markdown",
   "metadata": {},
   "source": [
    "## 0.2 loading game data from S3"
   ]
  },
  {
   "cell_type": "code",
   "execution_count": 11,
   "metadata": {
    "collapsed": true,
    "jupyter": {
     "outputs_hidden": true
    }
   },
   "outputs": [
    {
     "name": "stdout",
     "output_type": "stream",
     "text": [
      "<class 'pandas.core.frame.DataFrame'>\n",
      "RangeIndex: 267 entries, 0 to 266\n",
      "Data columns (total 9 columns):\n",
      " #   Column           Non-Null Count  Dtype \n",
      "---  ------           --------------  ----- \n",
      " 0   season           267 non-null    Int64 \n",
      " 1   date             267 non-null    object\n",
      " 2   week             267 non-null    Int64 \n",
      " 3   game_code        267 non-null    Int64 \n",
      " 4   event_type_id    267 non-null    Int64 \n",
      " 5   team1_id         267 non-null    Int64 \n",
      " 6   team2_id         267 non-null    Int64 \n",
      " 7   team1_prev_week  267 non-null    Int64 \n",
      " 8   team2_prev_week  267 non-null    Int64 \n",
      "dtypes: Int64(8), object(1)\n",
      "memory usage: 21.0+ KB\n",
      "None\n"
     ]
    }
   ],
   "source": [
    "# from datalake football to query game level information\n",
    "# query team game-level stats\n",
    "# \"team_aggregated_game_stats\" table doesn't provide home team info\n",
    "# \"not_stats_data_games\" table only contains one season data\n",
    "\n",
    "simple_query = f'''\n",
    "-- t1 and t2: ceate one record per game from pbp data\n",
    "with t1 as\n",
    "(\n",
    "select\n",
    "  ROW_NUMBER() OVER(partition by eventmetadata.gamecode) AS num_row, \n",
    "  season, eventmetadata, teammetadata\n",
    "from datalakefootball.pbp\n",
    "where leagueid='8'\n",
    "),\n",
    "\n",
    "t2 as\n",
    "(\n",
    "select\n",
    "  cast(season as integer) season,\n",
    "  --cast(FROM_UNIXTIME(eventmetadata.gamedateutcepoch) as DATE) date,\n",
    "  DATE_FORMAT(FROM_UNIXTIME(eventmetadata.gamedateutcepoch), '%Y-%m-%d') date,\n",
    "  eventmetadata.week, \n",
    "  eventmetadata.gamecode game_code, eventmetadata.eventtypeid as event_type_id,\n",
    "  teammetadata[1].teamid team1_id, \n",
    "  --teammetadata[1].abbreviation team1,\n",
    "  --teammetadata[1].score home_team_score,\n",
    "  teammetadata[2].teamid team2_id \n",
    "  --teammetadata[2].abbreviation team2,\n",
    "  --teammetadata[2].score away_team_score\n",
    "from t1\n",
    "where num_row=1 and eventmetadata.eventtypeid in (1,2) and season ='2019' \n",
    "order by game_code\n",
    "),\n",
    "\n",
    "-- t3 and t4 are created to decide previous game week for each team\n",
    "t3 as\n",
    "(\n",
    "select\n",
    "  *,\n",
    "  ROW_NUMBER() OVER(partition by season, team_id order by week) AS num_row\n",
    "from\n",
    "  (select * from (select season, team1_id as team_id, week from t2)\n",
    "   union\n",
    "   select * from (select season, team2_id as team_id, week from t2))\n",
    "),\n",
    "\n",
    "t4 as\n",
    "(\n",
    "select c.season, c.team_id, c.week, p.week prev_week\n",
    "from t3 as c\n",
    "  left join t3 as p\n",
    "  on c.season=p.season and c.team_id=p.team_id and c.num_row=p.num_row+1\n",
    " order by c.season, c.team_id, c.week\n",
    ")\n",
    "\n",
    "-- final game level table\n",
    "select \n",
    "  t2.*, \n",
    "  COALESCE(home_table.prev_week,0) as team1_prev_week,\n",
    "  COALESCE(away_table.prev_week,0) as team2_prev_week\n",
    "from t2 \n",
    "  left join t4 as home_table\n",
    "  on t2.season=home_table.season and t2.team1_id=home_table.team_id and t2.week=home_table.week\n",
    "  left join t4 as away_table\n",
    "  on t2.season=away_table.season and t2.team2_id=away_table.team_id and t2.week=away_table.week\n",
    "order by t2.season, t2.week\n",
    "'''\n",
    "\n",
    "if True:\n",
    "    game_df = cursor.execute(simple_query).as_pandas()\n",
    "    print(game_df.info())\n",
    "else:\n",
    "    print(\"Failed to query!\")\n",
    "    \n",
    "# totaloffensiveplays = totalrushingattempts + totalpassattempts + totalsacksallowed"
   ]
  },
  {
   "cell_type": "markdown",
   "metadata": {},
   "source": [
    "## 0.3 loading QB data from S3"
   ]
  },
  {
   "cell_type": "code",
   "execution_count": 12,
   "metadata": {
    "collapsed": true,
    "jupyter": {
     "outputs_hidden": true
    }
   },
   "outputs": [
    {
     "name": "stdout",
     "output_type": "stream",
     "text": [
      "<class 'pandas.core.frame.DataFrame'>\n",
      "RangeIndex: 540 entries, 0 to 539\n",
      "Data columns (total 6 columns):\n",
      " #   Column         Non-Null Count  Dtype  \n",
      "---  ------         --------------  -----  \n",
      " 0   game_code      540 non-null    Int64  \n",
      " 1   team_id        540 non-null    Int64  \n",
      " 2   player_id      540 non-null    Int64  \n",
      " 3   qb_first_name  540 non-null    object \n",
      " 4   qb_last_name   540 non-null    object \n",
      " 5   qb_value       538 non-null    float64\n",
      "dtypes: Int64(3), float64(1), object(2)\n",
      "memory usage: 27.0+ KB\n",
      "None\n"
     ]
    }
   ],
   "source": [
    "simple_query = f'''\n",
    "with stats as (\n",
    "select \n",
    "  --season, \n",
    "  eventmetadata.gamecode game_code, playerid player_id,\n",
    "  --playerstats,\n",
    "  playerstats.passingstats.completions pass_completions, \n",
    "  playerstats.passingstats.attempts pass_attempts,\n",
    "  playerstats.passingstats.interceptions interceptions,\n",
    "  playerstats.passingstats.yards pass_yards,\n",
    "  playerstats.passingstats.sacked sacks,\n",
    "  playerstats.passingstats.touchdowns pass_tds,\n",
    "  COALESCE(playerstats.rushingstats.attempts, 0) rush_attempts,\n",
    "  COALESCE(playerstats.rushingstats.yards, 0)rush_yards,\n",
    "  COALESCE(playerstats.rushingstats.touchdowns, 0) rush_tds\n",
    "from datalakefootball.player_stats_game\n",
    "where \n",
    "  playerstats.passingstats is not null and \n",
    "  eventmetadata.eventtypeid in (1,2) and\n",
    "  season='2019'\n",
    "),\n",
    "\n",
    "names as\n",
    "(\n",
    "select\n",
    "  eventmetadata.gamecode game_code, teamid team_id, player.playerid player_id, \n",
    "  player.firstname qb_first_name, player.lastname qb_last_name\n",
    "from \n",
    "  datalakefootball.player_aggregated_game_stats\n",
    "where \n",
    "  player.positionid=8 and \n",
    "  totalpassattempts>=0 and \n",
    "  isstartingqb=1 and \n",
    "  eventmetadata.eventtypeid in (1,2) and\n",
    "  season='2019'\n",
    ")\n",
    "\n",
    "select\n",
    "    names.game_code, names.team_id, names.player_id, names.qb_first_name, names.qb_last_name,\n",
    "    3.3 * (-2.2 * stats.pass_attempts + 3.7* stats.pass_completions + (stats.pass_yards / 5) + \n",
    "    11.3 * stats.pass_TDs - 14.1 * stats.interceptions - 8 * stats.sacks - \n",
    "    1.1 * stats.rush_attempts + 0.6 * stats.rush_yards + 15.9 * stats.rush_TDs)\n",
    "    as qb_value\n",
    "from \n",
    "  names\n",
    "  left join stats\n",
    "  on names.game_code=stats.game_code and names.player_id=stats.player_id\n",
    "\n",
    "'''\n",
    "\n",
    "if True:\n",
    "    qb_df = cursor.execute(simple_query).as_pandas()\n",
    "    print(qb_df.info())\n",
    "else:\n",
    "    print(\"Failed to query!\")"
   ]
  },
  {
   "cell_type": "code",
   "execution_count": 13,
   "metadata": {},
   "outputs": [
    {
     "name": "stdout",
     "output_type": "stream",
     "text": [
      "<class 'pandas.core.frame.DataFrame'>\n",
      "Int64Index: 273 entries, 0 to 272\n",
      "Data columns (total 17 columns):\n",
      " #   Column           Non-Null Count  Dtype  \n",
      "---  ------           --------------  -----  \n",
      " 0   season           273 non-null    Int64  \n",
      " 1   date             273 non-null    object \n",
      " 2   week             273 non-null    Int64  \n",
      " 3   game_code        273 non-null    Int64  \n",
      " 4   event_type_id    273 non-null    Int64  \n",
      " 5   team1_id         273 non-null    Int64  \n",
      " 6   team2_id         273 non-null    Int64  \n",
      " 7   team1_prev_week  273 non-null    Int64  \n",
      " 8   team2_prev_week  273 non-null    Int64  \n",
      " 9   qb1_id           273 non-null    Int64  \n",
      " 10  qb1_first_name   273 non-null    object \n",
      " 11  qb1_last_name    273 non-null    object \n",
      " 12  qb1_value        272 non-null    float64\n",
      " 13  qb2_id           273 non-null    Int64  \n",
      " 14  qb2_first_name   273 non-null    object \n",
      " 15  qb2_last_name    273 non-null    object \n",
      " 16  qb2_value        272 non-null    float64\n",
      "dtypes: Int64(10), float64(2), object(5)\n",
      "memory usage: 41.1+ KB\n"
     ]
    }
   ],
   "source": [
    "# merge game data with QB data\n",
    "s3_df = pd.merge(game_df, qb_df, left_on=['game_code','team1_id'], right_on=['game_code','team_id'], how='left')\n",
    "s3_df.rename(columns={'player_id':'qb1_id','qb_first_name':'qb1_first_name',\n",
    "                      'qb_last_name':'qb1_last_name','qb_value':'qb1_value'}, inplace=True)\n",
    "s3_df.drop(columns=('team_id'), inplace=True)\n",
    "\n",
    "s3_df = pd.merge(s3_df, qb_df, left_on=['game_code','team2_id'], right_on=['game_code','team_id'], how='left')\n",
    "s3_df.rename(columns={'player_id':'qb2_id','qb_first_name':'qb2_first_name',\n",
    "                      'qb_last_name':'qb2_last_name','qb_value':'qb2_value'}, inplace=True)\n",
    "s3_df.drop(columns=('team_id'), inplace=True)\n",
    "\n",
    "s3_df.info()"
   ]
  },
  {
   "cell_type": "markdown",
   "metadata": {},
   "source": [
    "## 0.4 merge elo-rating and s3 data"
   ]
  },
  {
   "cell_type": "code",
   "execution_count": 14,
   "metadata": {
    "collapsed": true,
    "jupyter": {
     "outputs_hidden": true
    }
   },
   "outputs": [
    {
     "name": "stdout",
     "output_type": "stream",
     "text": [
      "<class 'pandas.core.frame.DataFrame'>\n",
      "RangeIndex: 273 entries, 0 to 272\n",
      "Data columns (total 50 columns):\n",
      " #   Column            Non-Null Count  Dtype  \n",
      "---  ------            --------------  -----  \n",
      " 0   season            273 non-null    Int64  \n",
      " 1   date              273 non-null    object \n",
      " 2   week              273 non-null    Int64  \n",
      " 3   game_code         273 non-null    Int64  \n",
      " 4   event_type_id     273 non-null    Int64  \n",
      " 5   team1_id          273 non-null    Int64  \n",
      " 6   team2_id          273 non-null    Int64  \n",
      " 7   team1_prev_week   273 non-null    Int64  \n",
      " 8   team2_prev_week   273 non-null    Int64  \n",
      " 9   qb1_id            273 non-null    Int64  \n",
      " 10  qb1_first_name    273 non-null    object \n",
      " 11  qb1_last_name     273 non-null    object \n",
      " 12  qb1_value         272 non-null    float64\n",
      " 13  qb2_id            273 non-null    Int64  \n",
      " 14  qb2_first_name    273 non-null    object \n",
      " 15  qb2_last_name     273 non-null    object \n",
      " 16  qb2_value         272 non-null    float64\n",
      " 17  neutral           273 non-null    int64  \n",
      " 18  playoff           12 non-null     object \n",
      " 19  team1             273 non-null    object \n",
      " 20  team2             273 non-null    object \n",
      " 21  elo1_pre          273 non-null    float64\n",
      " 22  elo2_pre          273 non-null    float64\n",
      " 23  elo_prob1         273 non-null    float64\n",
      " 24  elo_prob2         273 non-null    float64\n",
      " 25  elo1_post         273 non-null    float64\n",
      " 26  elo2_post         273 non-null    float64\n",
      " 27  qbelo1_pre        273 non-null    float64\n",
      " 28  qbelo2_pre        273 non-null    float64\n",
      " 29  qb1               273 non-null    object \n",
      " 30  qb2               273 non-null    object \n",
      " 31  qb1_value_pre     273 non-null    float64\n",
      " 32  qb2_value_pre     273 non-null    float64\n",
      " 33  qb1_adj           273 non-null    float64\n",
      " 34  qb2_adj           273 non-null    float64\n",
      " 35  qbelo_prob1       273 non-null    float64\n",
      " 36  qbelo_prob2       273 non-null    float64\n",
      " 37  qb1_game_value    273 non-null    float64\n",
      " 38  qb2_game_value    273 non-null    float64\n",
      " 39  qb1_value_post    273 non-null    float64\n",
      " 40  qb2_value_post    273 non-null    float64\n",
      " 41  qbelo1_post       273 non-null    float64\n",
      " 42  qbelo2_post       273 non-null    float64\n",
      " 43  score1            273 non-null    float64\n",
      " 44  score2            273 non-null    float64\n",
      " 45  team1_value_pre   273 non-null    float64\n",
      " 46  team2_value_pre   273 non-null    float64\n",
      " 47  team1_value_post  273 non-null    float64\n",
      " 48  team2_value_post  273 non-null    float64\n",
      " 49  home_win          273 non-null    bool   \n",
      "dtypes: Int64(10), bool(1), float64(28), int64(1), object(10)\n",
      "memory usage: 107.6+ KB\n"
     ]
    }
   ],
   "source": [
    "#game_df.season.unique()\n",
    "df = pd.merge(s3_df, elo_data, left_on=['season','team1_id','team2_id'], \n",
    "              right_on=['season','team1_id','team2_id'], how='left')\n",
    "\n",
    "# Use approximation to handle game-date logging error\n",
    "delta_days = pd.to_datetime(df.date_x)-pd.to_datetime(df.date_y)\n",
    "df = df.loc[abs(delta_days.dt.days)<=1]\n",
    "df.reset_index(drop=True, inplace=True)\n",
    "df.drop(columns=('date_y'), inplace=True)\n",
    "df.rename(columns={'date_x':'date'}, inplace=True)\n",
    "\n",
    "df.info()"
   ]
  },
  {
   "cell_type": "code",
   "execution_count": 15,
   "metadata": {},
   "outputs": [
    {
     "data": {
      "text/plain": [
       "159.34056811091196"
      ]
     },
     "execution_count": 15,
     "metadata": {},
     "output_type": "execute_result"
    }
   ],
   "source": [
    "# estimate average QB values\n",
    "id=df.week>=1\n",
    "pd.concat([df[id].qb1_game_value, df[id].qb2_game_value], ignore_index=True).mean()"
   ]
  },
  {
   "cell_type": "code",
   "execution_count": 16,
   "metadata": {},
   "outputs": [
    {
     "data": {
      "text/plain": [
       "(267, 50)"
      ]
     },
     "execution_count": 16,
     "metadata": {},
     "output_type": "execute_result"
    }
   ],
   "source": [
    "# filter out game entries with secondary QBs\n",
    "# seems 538 got the starting QB for game 2142147 wrong!\n",
    "\n",
    "id=(df[['qb1', 'qb1_first_name']].apply(lambda x: x[0].find(x[1]), axis=1)==-1) |\\\n",
    "    (df[['qb2', 'qb2_first_name']].apply(lambda x: x[0].find(x[1]), axis=1)==-1)\n",
    "id = id & (df.game_code != 2142147)\n",
    "\n",
    "df = df[~id]\n",
    "df.shape"
   ]
  },
  {
   "cell_type": "code",
   "execution_count": null,
   "metadata": {},
   "outputs": [],
   "source": [
    "df[(df.team1_id==335) | (df.team2_id==335)][['team1','team2','qb1','qb2','qbelo1_pre','qbelo2_pre','qbelo1_post','qbelo2_post']]"
   ]
  },
  {
   "cell_type": "markdown",
   "metadata": {},
   "source": [
    "# 1. Seasonal simulation"
   ]
  },
  {
   "cell_type": "markdown",
   "metadata": {},
   "source": [
    "## 1.1 Version 1.0"
   ]
  },
  {
   "cell_type": "code",
   "execution_count": null,
   "metadata": {},
   "outputs": [],
   "source": [
    "# In this version, a few adjustments are added for elo_diff calculation: \n",
    "#   home field adjustment, rest adjustment, playoff adj\n",
    "# A simulation function is defined to calculate the results for each week of the season"
   ]
  },
  {
   "cell_type": "code",
   "execution_count": 17,
   "metadata": {},
   "outputs": [],
   "source": [
    "# the simulation algo:\n",
    "# one row represents one game\n",
    "#   once the processing is done, the newly updated elo rating is recorded for both teams of the game\n",
    "# when the whole season simulation is done, the simulation results are compared with those from 538\n",
    "\n",
    "def elo_rating_calculation(elo1_pre, elo2_pre, row, K, version=1, team1_value=0, team2_value=0, \n",
    "                                      qb1_value=0, qb2_value=0):\n",
    "    # calc basic elo diff rating\n",
    "    elo_diff = elo1_pre - elo2_pre\n",
    "        \n",
    "    # calc home court adj\n",
    "    if row.neutral == 0:\n",
    "        elo_diff = elo_diff + 55\n",
    "\n",
    "    # calc rest adj\n",
    "    if (row.week-row.team1_prev_week) > (row.week-row.team2_prev_week):\n",
    "        elo_diff = elo_diff + 25\n",
    "    elif (row.week-row.team1_prev_week) < (row.week-row.team2_prev_week):\n",
    "        elo_diff = elo_diff - 25\n",
    "\n",
    "    # calc playoff adj\n",
    "    if row.playoff==row.playoff:\n",
    "        elo_diff = 1.2 * elo_diff\n",
    "        \n",
    "    # QB adjustment\n",
    "    if version==2:\n",
    "        #qb_adj = row.qb1_adj - row.qb2_adj\n",
    "        qb1_adj = qb1_value - team1_value\n",
    "        qb2_adj = qb2_value - team2_value\n",
    "        qb_adj = qb1_adj - qb2_adj\n",
    "        elo_diff = elo_diff + qb_adj\n",
    "        qb1_value_post = 0.9 * qb1_value + 0.1 * row.qb1_value\n",
    "        qb2_value_post = 0.9 * qb2_value + 0.1 * row.qb2_value\n",
    "        team1_value_post = 0.95 * team1_value + 0.05 * row.qb1_value\n",
    "        team2_value_post = 0.95 * team2_value + 0.05 * row.qb2_value\n",
    "        if row.week==1:\n",
    "            print(qb1_adj, qb2_adj, qb_adj, elo_diff)\n",
    "    else:\n",
    "        qb1_value_post,qb2_value_post,team1_value_post,team2_value_post=0,0,0,0\n",
    "\n",
    "    # calc win-prob\n",
    "    elo1_prob_s = 1/(10**(-elo_diff/400) + 1)\n",
    "    elo2_prob_s = 1 - elo1_prob_s\n",
    "\n",
    "    # calc post-game elo rating based on the game outcome\n",
    "    score_delta = row.score1 - row.score2\n",
    "\n",
    "    if row.score1 > row.score2:\n",
    "        re1, re2 = 1, 0\n",
    "        MoV_multiplier = np.log(score_delta + 1) * 2.2 / (2.2 + (elo1_pre-elo2_pre)*0.001)\n",
    "    elif row.score1 < row.score2:\n",
    "        re1, re2 = 0, 1\n",
    "        MoV_multiplier = np.log(-score_delta + 1) * 2.2 / (2.2 + (elo2_pre-elo1_pre)*0.001)\n",
    "    # there is some issue with the original design, for tie, it will lead to no elo score adj\n",
    "    # but that is not in line with the original design\n",
    "    else:\n",
    "        re1, re2 = 0.5, 0.5            \n",
    "        MoV_multiplier = np.log(0.5 + 1) * 2.2 / (2.2 - abs(elo1_pre-elo2_pre)*0.001)\n",
    "\n",
    "    elo1_post = elo1_pre + K * (re1 - elo1_prob_s) * MoV_multiplier\n",
    "    elo2_post = elo2_pre + K * (re2 - elo2_prob_s) * MoV_multiplier\n",
    "\n",
    "    return (elo1_pre, elo2_pre, elo1_prob_s, elo2_prob_s, elo1_post, elo2_post,\n",
    "           team1_value, team1_value_post, team2_value, team2_value_post,\n",
    "           qb1_value, qb1_value_post, qb2_value, qb2_value_post)\n"
   ]
  },
  {
   "cell_type": "code",
   "execution_count": 18,
   "metadata": {},
   "outputs": [],
   "source": [
    "def elo_rating_in_season_simulation(df_in, K=20, version=1):\n",
    "    df = df_in.copy()\n",
    "    \n",
    "    df[['elo1_pre_s','elo2_pre_s', 'elo1_prob_s', 'elo2_prob_s', 'elo1_post_s','elo2_post_s']] = 0.0\n",
    "    \n",
    "    if version == 2:\n",
    "        df[['team1_value_pre_s','team1_value_post_s','team2_value_pre_s','team2_value_post_s']] = 0.0\n",
    "        df[['qb1_value_pre_s','qb1_value_post_s','qb2_value_pre_s','qb2_value_post_s']] = 0.0\n",
    "    \n",
    "    # A dictionary to keep currnet elo_rating states of each team\n",
    "    elo_ratings={}\n",
    "    \n",
    "    qb_values={}\n",
    "    team_values={}\n",
    "    \n",
    "    # defensive adjustment\n",
    "    defense_ratings={}\n",
    "    \n",
    "    # simulation for each game\n",
    "    for index, row in df.iterrows():\n",
    "        \n",
    "        # initialize elo_pre\n",
    "        if row.team1_id in elo_ratings:\n",
    "            elo1_pre = elo_ratings[row.team1_id]\n",
    "        else:\n",
    "            if version == 1:\n",
    "                elo1_pre = row.elo1_pre\n",
    "            else:\n",
    "                elo1_pre = row.qbelo1_pre\n",
    "            \n",
    "        if row.team2_id in elo_ratings:\n",
    "            elo2_pre = elo_ratings[row.team2_id]\n",
    "        else:\n",
    "            if version == 1:\n",
    "                elo2_pre = row.elo2_pre\n",
    "            else:\n",
    "                elo2_pre = row.qbelo2_pre\n",
    "        \n",
    "        # initialize team_values\n",
    "        team1_value, team2_value, qb1_value, qb2_value = 0, 0, 0, 0\n",
    "        if version == 2:\n",
    "            if row.team1_id in team_values:\n",
    "                team1_value = team_values[row.team1_id]\n",
    "                qb1_value   = qb_values[row.team1_id]\n",
    "            else:\n",
    "                team1_value = row.team1_value_pre\n",
    "                qb1_value   = row.qb1_value_pre\n",
    "                \n",
    "            if row.team2_id in team_values:\n",
    "                team2_value = team_values[row.team2_id]\n",
    "                qb2_value   = qb_values[row.team2_id]\n",
    "            else:\n",
    "                team2_value = row.team2_value_pre\n",
    "                qb2_value   = row.qb2_value_pre\n",
    "                \n",
    "        re=elo_rating_calculation(elo1_pre, elo2_pre, row, K, version, team1_value, team2_value, \n",
    "                                      qb1_value, qb2_value)\n",
    "        \n",
    "        elo_ratings[row.team1_id] = re[4] #elo1_post\n",
    "        elo_ratings[row.team2_id] = re[5] #elo2_post\n",
    "        \n",
    "        #store the state variables at the end of each game\n",
    "        df.loc[index:index,('elo1_pre_s','elo2_pre_s', 'elo1_prob_s', 'elo2_prob_s', \n",
    "                             'elo1_post_s','elo2_post_s',\n",
    "                           'team1_value_pre_s','team1_value_post_s','team2_value_pre_s','team2_value_post_s',\n",
    "                           'qb1_value_pre_s','qb1_value_post_s','qb2_value_pre_s','qb2_value_post_s')] = re\n",
    "        \n",
    "    return df"
   ]
  },
  {
   "cell_type": "code",
   "execution_count": 19,
   "metadata": {},
   "outputs": [],
   "source": [
    "df['team2_def_value_adj']=df.qb1_game_value - df.qb1_value\n",
    "df['team1_def_value_adj']=df.qb2_game_value - df.qb2_value"
   ]
  },
  {
   "cell_type": "code",
   "execution_count": null,
   "metadata": {},
   "outputs": [],
   "source": [
    "df[(df.week>=1) & ((df.team1_id==335) | (df.team2_id==335))]\\\n",
    "[['week','team1','team2','qb1','qb2','qb1_value','qb2_value','qb1_game_value','qb2_game_value',\n",
    "  #'team1_def_value_adj','team2_def_value_adj',\n",
    "  #'qb1_value_pre','qb2_value_pre','qb1_value_post','qb2_value_post',\n",
    "  #'qb1_adj','qb2_adj',\n",
    "  'qbelo1_pre','qbelo2_pre','qbelo1_post','qbelo2_post',\n",
    " 'team1_value_pre','team2_value_pre', 'team1_value_post','team2_value_post']]"
   ]
  },
  {
   "cell_type": "code",
   "execution_count": 23,
   "metadata": {
    "collapsed": true,
    "jupyter": {
     "outputs_hidden": true
    }
   },
   "outputs": [
    {
     "data": {
      "text/plain": [
       "season                         2019\n",
       "date                     2019-10-11\n",
       "week                              6\n",
       "game_code                   2142198\n",
       "event_type_id                     1\n",
       "team1_id                        348\n",
       "team2_id                        351\n",
       "team1_prev_week                   5\n",
       "team2_prev_week                   5\n",
       "qb1_id                        25347\n",
       "qb1_first_name                  Tom\n",
       "qb1_last_name                 Brady\n",
       "qb1_value                264.330000\n",
       "qb2_id                       879981\n",
       "qb2_first_name               Daniel\n",
       "qb2_last_name                 Jones\n",
       "qb2_value                -56.430000\n",
       "neutral                           0\n",
       "playoff                         NaN\n",
       "team1                            NE\n",
       "team2                           NYG\n",
       "elo1_pre                1704.784191\n",
       "elo2_pre                1404.589395\n",
       "elo_prob1                  0.891120\n",
       "elo_prob2                  0.108880\n",
       "elo1_post               1710.556989\n",
       "elo2_post               1398.816596\n",
       "qbelo1_pre              1693.952988\n",
       "qbelo2_pre              1398.437572\n",
       "qb1                       Tom Brady\n",
       "qb2                    Daniel Jones\n",
       "qb1_value_pre            221.562082\n",
       "qb2_value_pre            124.770313\n",
       "qb1_adj                    6.120041\n",
       "qb2_adj                  -19.573783\n",
       "qbelo_prob1                0.897483\n",
       "qbelo_prob2                0.102517\n",
       "qb1_game_value           256.960440\n",
       "qb2_game_value            -4.235658\n",
       "qb1_value_post           225.101918\n",
       "qb2_value_post           111.869716\n",
       "qbelo1_post             1699.363758\n",
       "qbelo2_post             1393.026801\n",
       "score1                    35.000000\n",
       "score2                    14.000000\n",
       "team1_value_pre          215.442041\n",
       "team2_value_pre          144.344097\n",
       "team1_value_post         217.517961\n",
       "team2_value_post         136.915109\n",
       "home_win                       True\n",
       "team2_def_value_adj       -7.369560\n",
       "team1_def_value_adj       52.194342\n",
       "Name: 92, dtype: object"
      ]
     },
     "execution_count": 23,
     "metadata": {},
     "output_type": "execute_result"
    }
   ],
   "source": [
    "df.iloc[91]"
   ]
  },
  {
   "cell_type": "code",
   "execution_count": 21,
   "metadata": {
    "collapsed": true,
    "jupyter": {
     "outputs_hidden": true
    }
   },
   "outputs": [
    {
     "data": {
      "text/plain": [
       "(1585.8,\n",
       " 1543.2,\n",
       " 0.6368760375291475,\n",
       " 0.36312396247085255,\n",
       " 1607.822201769589,\n",
       " 1521.177798230411,\n",
       " 0,\n",
       " 0,\n",
       " 0,\n",
       " 0,\n",
       " 0,\n",
       " 0,\n",
       " 0,\n",
       " 0)"
      ]
     },
     "execution_count": 21,
     "metadata": {},
     "output_type": "execute_result"
    }
   ],
   "source": [
    "# testing for 2017 season can show difference of QB\n",
    "elo_rating_calculation(elo1_pre=1585.8, elo2_pre=1543.2, row=df.iloc[91], K=20)"
   ]
  },
  {
   "cell_type": "code",
   "execution_count": 22,
   "metadata": {
    "collapsed": true,
    "jupyter": {
     "outputs_hidden": true
    }
   },
   "outputs": [
    {
     "data": {
      "text/plain": [
       "(1585.8,\n",
       " 1543.2,\n",
       " 0.6368760375291475,\n",
       " 0.36312396247085255,\n",
       " 1607.822201769589,\n",
       " 1521.177798230411,\n",
       " 0,\n",
       " 13.216500000000003,\n",
       " 0,\n",
       " -2.8215,\n",
       " 0,\n",
       " 26.433000000000007,\n",
       " 0,\n",
       " -5.643)"
      ]
     },
     "execution_count": 22,
     "metadata": {},
     "output_type": "execute_result"
    }
   ],
   "source": [
    "elo_rating_calculation(elo1_pre=1585.8, elo2_pre=1543.2, row=df.iloc[91], K=20, version=2)"
   ]
  },
  {
   "cell_type": "markdown",
   "metadata": {},
   "source": [
    "## 1.1 Version I"
   ]
  },
  {
   "cell_type": "code",
   "execution_count": 24,
   "metadata": {},
   "outputs": [],
   "source": [
    "# The input is a data-frame for one season\n",
    "re1 = elo_rating_in_season_simulation(df, version=1)"
   ]
  },
  {
   "cell_type": "code",
   "execution_count": 106,
   "metadata": {},
   "outputs": [],
   "source": [
    "df1 = re1.loc[:,['team1_id','date','elo1_pre','elo_prob1','elo1_post','elo1_pre_s','elo1_prob_s','elo1_post_s']]\n",
    "df2 = re1.loc[:,['team2_id','date','elo2_pre','elo_prob2','elo2_post','elo2_pre_s','elo2_prob_s','elo2_post_s']]\n",
    "\n",
    "df1.columns = ['team_id', 'date', 'elo_pre', 'prob', 'elo_post', 'elo_pre_s', 'prob_s', 'elo_post_s']\n",
    "df2.columns = ['team_id', 'date', 'elo_pre', 'prob', 'elo_post', 'elo_pre_s', 'prob_s', 'elo_post_s']\n",
    "\n",
    "df1['win']=re1.loc[:,'home_win']\n",
    "df2['win']=~re1.loc[:,'home_win']\n",
    "\n",
    "re1_summary = pd.concat([df1, df2], axis=0, ignore_index=True)\n",
    "re1_summary.sort_values(by=['team_id','date'], axis='index', inplace=True)"
   ]
  },
  {
   "cell_type": "code",
   "execution_count": null,
   "metadata": {},
   "outputs": [],
   "source": [
    "df_summary[df_summary.team_id==339]"
   ]
  },
  {
   "cell_type": "code",
   "execution_count": 107,
   "metadata": {},
   "outputs": [
    {
     "data": {
      "text/plain": [
       "[<matplotlib.axis.XTick at 0x13344e5f8>,\n",
       " <matplotlib.axis.XTick at 0x13344e198>,\n",
       " <matplotlib.axis.XTick at 0x133440da0>,\n",
       " <matplotlib.axis.XTick at 0x1334a6550>,\n",
       " <matplotlib.axis.XTick at 0x1334a6a20>,\n",
       " <matplotlib.axis.XTick at 0x1334a6e48>,\n",
       " <matplotlib.axis.XTick at 0x1334af320>,\n",
       " <matplotlib.axis.XTick at 0x1334a6198>,\n",
       " <matplotlib.axis.XTick at 0x1334af4a8>]"
      ]
     },
     "execution_count": 107,
     "metadata": {},
     "output_type": "execute_result"
    },
    {
     "data": {
      "image/png": "[encoded data removed]",
      "text/plain": [
       "<Figure size 1440x576 with 2 Axes>"
      ]
     },
     "metadata": {
      "needs_background": "light"
     },
     "output_type": "display_data"
    }
   ],
   "source": [
    "fig, (ax1, ax2) = plt.subplots(1, 2)\n",
    "fig.set_figheight(8)\n",
    "fig.set_figwidth(20)\n",
    "\n",
    "ax1.plot(np.arange(1,20),re1_summary[re1_summary.team_id==339].elo_post.values, marker='o', label='538')\n",
    "ax1.plot(np.arange(1,20),re1_summary[re1_summary.team_id==339].elo_post_s.values, marker='x', label='stats')\n",
    "ax1.legend()\n",
    "ax1.set_title(\"Elo-rating for Kansas Chief, Season 2019\", fontsize=20)\n",
    "ax1.set_xticks(np.arange(1,20,2))\n",
    "\n",
    "ax2.plot(np.arange(1,18),re1_summary[re1_summary.team_id==348].elo_post.values, marker='o', label='538')\n",
    "ax2.plot(np.arange(1,18),re1_summary[re1_summary.team_id==348].elo_post_s.values, marker='x', label='stats')\n",
    "ax2.legend()\n",
    "ax2.set_title(\"Elo-rating for Kansas Chief, Season 2019\", fontsize=20)\n",
    "ax2.set_xticks(np.arange(1,18,2))"
   ]
  },
  {
   "cell_type": "code",
   "execution_count": 108,
   "metadata": {},
   "outputs": [
    {
     "name": "stdout",
     "output_type": "stream",
     "text": [
      "mse: 0.225 0.225\n",
      "mae: 0.438 0.439\n",
      "roc_auc: 0.688 0.684\n",
      "\n",
      "accuracy: 0.64 0.644\n",
      "precision: 0.617 0.624\n",
      "recall: 0.813 0.799\n",
      "f1: 0.702 0.7\n"
     ]
    }
   ],
   "source": [
    "label = df1.win\n",
    "y1 = df1.prob\n",
    "y2 = df1.prob_s\n",
    "\n",
    "print(f'mse: {mean_squared_error(label, y1):.3} {mean_squared_error(label, y2):.3}')\n",
    "print(f'mae: {mean_absolute_error(label, y1):.3} {mean_absolute_error(label, y2):.3}')\n",
    "print(f\"roc_auc: {roc_auc_score(label, y1):.3} {roc_auc_score(label, y2):.3}\\n\")\n",
    "\n",
    "print(f\"accuracy: {accuracy_score(label, y1>0.5):.3} {accuracy_score(label, y2>0.5):.3}\")\n",
    "print(f\"precision: {precision_score(label, y1>0.5):.3} {precision_score(label, y2>0.5):.3}\")\n",
    "print(f\"recall: {recall_score(label, y1>0.5):.3} {recall_score(label, y2>0.5):.3}\")\n",
    "print(f\"f1: {f1_score(label, y1>0.5):.3} {f1_score(label, y2>0.5):.3}\")"
   ]
  },
  {
   "cell_type": "code",
   "execution_count": null,
   "metadata": {},
   "outputs": [],
   "source": [
    "# it is much easier to use datalake DB, compute the time interval (in weeks) for each team between current week and \n",
    "# previous game week. The team with larger interval means extra rest"
   ]
  },
  {
   "cell_type": "markdown",
   "metadata": {},
   "source": [
    "## 1.2 Version II"
   ]
  },
  {
   "cell_type": "code",
   "execution_count": 30,
   "metadata": {
    "collapsed": true,
    "jupyter": {
     "outputs_hidden": true
    }
   },
   "outputs": [
    {
     "name": "stdout",
     "output_type": "stream",
     "text": [
      "1.428019208879988 -1.2221746056299878 2.6501938145099757 186.54841748450986\n",
      "-0.07271733215999632 12.82243458572998 -12.895151917889976 31.021806412109967\n",
      "2.6008034101500073 3.41230339560002 -0.8114999854500127 213.78500705455\n",
      "14.39234981910002 6.970182024299959 7.42216779480006 -61.5738465251998\n",
      "7.679015260289987 5.778882856559989 1.900132403729998 126.21775184373004\n",
      "4.648537297800004 -1.3907580149099772 6.0392953127099815 178.81346359271012\n",
      "5.383617580440017 11.744404700490009 -6.3607871200499915 126.38514213995015\n",
      "-2.3921679483900107 -27.587566727490014 25.195398779100003 155.91084694909995\n",
      "5.7083328201899945 -4.964783410620015 10.67311623081001 -13.991813089190046\n",
      "-3.553793322420006 2.1593142954899918 -5.713107617909998 5.948086162090078\n",
      "5.972961817350011 2.878459528890005 3.0945022884600064 99.35228577845984\n",
      "1.4555715309300012 -2.0256502975500155 3.4812218284800167 -18.15733260151987\n",
      "2.1512597515200014 0.6191984472299907 1.5320613042900106 21.511259264289976\n",
      "12.770916508679989 -9.249038325779992 22.01995483445998 -83.4965771855399\n",
      "7.658327563260002 -0.985090701870007 8.643418265130009 69.57365528512983\n",
      "0.3678196001700087 10.920207228480024 -10.552387628310015 61.64163484168992\n"
     ]
    }
   ],
   "source": [
    "re2 = elo_rating_in_season_simulation(df, version=2)"
   ]
  },
  {
   "cell_type": "code",
   "execution_count": 109,
   "metadata": {},
   "outputs": [],
   "source": [
    "df1 = re2.loc[:,['team1_id','date','qbelo1_pre','qbelo_prob1','qbelo1_post','elo1_pre_s','elo1_prob_s','elo1_post_s']]\n",
    "df2 = re2.loc[:,['team2_id','date','qbelo2_pre','qbelo_prob2','qbelo2_post','elo2_pre_s','elo2_prob_s','elo2_post_s']]\n",
    "\n",
    "df1.columns = ['team_id', 'date', 'elo_pre', 'prob', 'elo_post', 'elo_pre_s', 'prob_s', 'elo_post_s']\n",
    "df2.columns = ['team_id', 'date', 'elo_pre', 'prob', 'elo_post', 'elo_pre_s', 'prob_s', 'elo_post_s']\n",
    "\n",
    "df1.loc[:,'win']=re2.loc[:,'home_win']\n",
    "df2.loc[:,'win']=~re2.loc[:,'home_win']\n",
    "\n",
    "re2_summary = pd.concat([df1, df2], axis=0, ignore_index=True)\n",
    "re2_summary.sort_values(by=['team_id','date'], axis='index', inplace=True)"
   ]
  },
  {
   "cell_type": "code",
   "execution_count": 104,
   "metadata": {},
   "outputs": [
    {
     "data": {
      "text/plain": [
       "[<matplotlib.axis.XTick at 0x13336a400>,\n",
       " <matplotlib.axis.XTick at 0x13335ff60>,\n",
       " <matplotlib.axis.XTick at 0x13335fba8>,\n",
       " <matplotlib.axis.XTick at 0x1333c1048>,\n",
       " <matplotlib.axis.XTick at 0x1333c14a8>,\n",
       " <matplotlib.axis.XTick at 0x1333c1940>,\n",
       " <matplotlib.axis.XTick at 0x1333c1dd8>,\n",
       " <matplotlib.axis.XTick at 0x1333c82b0>,\n",
       " <matplotlib.axis.XTick at 0x1333c8748>]"
      ]
     },
     "execution_count": 104,
     "metadata": {},
     "output_type": "execute_result"
    },
    {
     "data": {
      "image/png": "[encoded data removed]",
      "text/plain": [
       "<Figure size 1440x576 with 2 Axes>"
      ]
     },
     "metadata": {
      "needs_background": "light"
     },
     "output_type": "display_data"
    }
   ],
   "source": [
    "fig, (ax1, ax2) = plt.subplots(1, 2)\n",
    "fig.set_figheight(8)\n",
    "fig.set_figwidth(20)\n",
    "\n",
    "ax1.plot(np.arange(1,20),re2_summary[re1_summary.team_id==339].elo_post.values, marker='o', label='538')\n",
    "ax1.plot(np.arange(1,20),re2_summary[re1_summary.team_id==339].elo_post_s.values, marker='x', label='stats')\n",
    "ax1.legend()\n",
    "ax1.set_title(\"Elo-rating for Kansas Chief, Season 2019\", fontsize=20)\n",
    "ax1.set_xticks(np.arange(1,20,2))\n",
    "\n",
    "ax2.plot(np.arange(1,18),re2_summary[re1_summary.team_id==348].elo_post.values, marker='o', label='538')\n",
    "ax2.plot(np.arange(1,18),re2_summary[re1_summary.team_id==348].elo_post_s.values, marker='x', label='stats')\n",
    "ax2.legend()\n",
    "ax2.set_title(\"Elo-rating for Kansas Chief, Season 2019\", fontsize=20)\n",
    "ax2.set_xticks(np.arange(1,18,2))"
   ]
  },
  {
   "cell_type": "code",
   "execution_count": 110,
   "metadata": {},
   "outputs": [
    {
     "name": "stdout",
     "output_type": "stream",
     "text": [
      "mse: 0.22 0.22\n",
      "mae: 0.43 0.431\n",
      "roc_auc: 0.7 0.7\n",
      "\n",
      "accuracy: 0.644 0.648\n",
      "precision: 0.626 0.632\n",
      "recall: 0.784 0.777\n",
      "f1: 0.696 0.697\n"
     ]
    }
   ],
   "source": [
    "label = df1.win\n",
    "y1 = df1.prob\n",
    "y2 = df1.prob_s\n",
    "\n",
    "print(f'mse: {mean_squared_error(label, y1):.3} {mean_squared_error(label, y2):.3}')\n",
    "print(f'mae: {mean_absolute_error(label, y1):.3} {mean_absolute_error(label, y2):.3}')\n",
    "print(f\"roc_auc: {roc_auc_score(label, y1):.3} {roc_auc_score(label, y2):.3}\\n\")\n",
    "\n",
    "print(f\"accuracy: {accuracy_score(label, y1>0.5):.3} {accuracy_score(label, y2>0.5):.3}\")\n",
    "print(f\"precision: {precision_score(label, y1>0.5):.3} {precision_score(label, y2>0.5):.3}\")\n",
    "print(f\"recall: {recall_score(label, y1>0.5):.3} {recall_score(label, y2>0.5):.3}\")\n",
    "print(f\"f1: {f1_score(label, y1>0.5):.3} {f1_score(label, y2>0.5):.3}\")"
   ]
  }
 ],
 "metadata": {
  "kernelspec": {
   "display_name": "nfl-team-strength",
   "language": "python",
   "name": "nfl-team-strength"
  },
  "language_info": {
   "codemirror_mode": {
    "name": "ipython",
    "version": 3
   },
   "file_extension": ".py",
   "mimetype": "text/x-python",
   "name": "python",
   "nbconvert_exporter": "python",
   "pygments_lexer": "ipython3",
   "version": "3.7.3"
  }
 },
 "nbformat": 4,
 "nbformat_minor": 4
}
