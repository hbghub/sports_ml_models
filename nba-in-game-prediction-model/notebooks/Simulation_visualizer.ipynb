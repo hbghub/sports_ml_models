{
 "cells": [
  {
   "cell_type": "code",
   "execution_count": 726,
   "id": "common-establishment",
   "metadata": {},
   "outputs": [
    {
     "data": {
      "text/html": [
       "<script>\n",
       "code_show=true; \n",
       "function code_toggle() {\n",
       " if (code_show){\n",
       " $('div.input').hide();\n",
       " } else {\n",
       " $('div.input').show();\n",
       " }\n",
       " code_show = !code_show\n",
       "} \n",
       "$( document ).ready(code_toggle);\n",
       "</script>\n",
       "<form action=\"javascript:code_toggle()\"><input type=\"submit\" value=\"Click here to toggle on/off the raw code.\"></form>"
      ],
      "text/plain": [
       "<IPython.core.display.HTML object>"
      ]
     },
     "execution_count": 726,
     "metadata": {},
     "output_type": "execute_result"
    }
   ],
   "source": [
    "from IPython.display import HTML\n",
    "\n",
    "HTML('''<script>\n",
    "code_show=true; \n",
    "function code_toggle() {\n",
    " if (code_show){\n",
    " $('div.input').hide();\n",
    " } else {\n",
    " $('div.input').show();\n",
    " }\n",
    " code_show = !code_show\n",
    "} \n",
    "$( document ).ready(code_toggle);\n",
    "</script>\n",
    "<form action=\"javascript:code_toggle()\"><input type=\"submit\" value=\"Click here to toggle on/off the raw code.\"></form>''')"
   ]
  },
  {
   "cell_type": "code",
   "execution_count": 730,
   "id": "creative-gateway",
   "metadata": {},
   "outputs": [
    {
     "data": {
      "text/plain": [
       "'/Users/binhu/projects/nba-in-game-prediction-models'"
      ]
     },
     "execution_count": 730,
     "metadata": {},
     "output_type": "execute_result"
    }
   ],
   "source": [
    "# Change directory so that code in \"src\" directory is easily importable.\n",
    "import os\n",
    "os.chdir('/Users/binhu/projects/nba-in-game-prediction-models')\n",
    "os.getcwd()"
   ]
  },
  {
   "cell_type": "code",
   "execution_count": 376,
   "id": "surrounded-pressing",
   "metadata": {},
   "outputs": [],
   "source": [
    "import pandas as pd\n",
    "import numpy as np\n",
    "import matplotlib.pyplot as plt\n",
    "\n",
    "from IPython.display import display, Markdown, Latex, HTML\n",
    "import ipywidgets as widgets\n",
    "from ipywidgets import interact, interact_manual\n",
    "\n",
    "from joblib import load\n",
    "transform_pipeline_player = load('transform_pipeline.joblib') \n",
    "model_logistic = load('model_logistic.joblib')\n",
    "\n",
    "pd.set_option('display.max_rows', 20)\n",
    "pd.set_option('display.max_columns', 100)"
   ]
  },
  {
   "cell_type": "code",
   "execution_count": 643,
   "id": "emotional-morrison",
   "metadata": {},
   "outputs": [],
   "source": [
    "team_dict = {'ATL':1, 'BOS':2, 'BRK':17, 'CHI':4, 'CHO':5312, 'CLE':5, 'DAL':6, 'DEN':7, 'DET':8,\n",
    "       'GSW':9, 'HOU':10, 'IND':11, 'LAC':12, 'LAL':13, 'MEM':29, 'MIA':14, 'MIL':15, 'MIN':16,\n",
    "       'NOP':3, 'NYK':18, 'OKC':25, 'ORL':19, 'PHI':20, 'PHO':21, 'POR':22,\n",
    "       'SAC':23, 'SAS':24, 'TOR':28, 'UTA':26, 'WAS':27}\n",
    "\n",
    "team_id_dict = { v:k for k,v in team_dict.items()}\n",
    "\n",
    "player_feature_names = ['team_id', 'player_id', \n",
    "                        'minutes', 'points', 'fg_attempt', 'fg_made',\n",
    "                       'ft_attempt', 'ft_made', 'point_3_attempt', 'point_3_made',\n",
    "                       'offensive_rebounds', 'defensive_rebounds', 'assists', 'blocks',\n",
    "                       'turnovers', #'team_id', #'at_home', 'game_code', 'season', 'game_time', \n",
    "                       'position_id', 'draft_year', 'game_started', 'minutes_l10',\n",
    "                       'points_l10', 'fg_attempt_l10', 'fg_made_l10', 'ft_attempt_l10',\n",
    "                       'ft_made_l10', 'point_3_attempt_l10', 'point_3_made_l10',\n",
    "                       'offensive_rebounds_l10', 'defensive_rebounds_l10', 'assists_l10',\n",
    "                       'blocks_l10', 'turnovers_l10']\n",
    "\n",
    "feature_names = ['season', 'player_id', 'minutes', 'points', 'fg_attempt', 'fg_made',\n",
    "                   'ft_attempt', 'ft_made', 'point_3_attempt', 'point_3_made',\n",
    "                   'offensive_rebounds', 'defensive_rebounds', 'assists', 'blocks',\n",
    "                   'turnovers', 'game_time', 'game_started', 'game_code', 'team_id',\n",
    "                   'at_home', 'position_id', 'draft_year', 'minutes_l10', 'points_l10',\n",
    "                   'fg_attempt_l10', 'fg_made_l10', 'ft_attempt_l10', 'ft_made_l10',\n",
    "                   'point_3_attempt_l10', 'point_3_made_l10', 'offensive_rebounds_l10',\n",
    "                   'defensive_rebounds_l10', 'assists_l10', 'blocks_l10', 'turnovers_l10',\n",
    "                   'opp_id', 'team_elo', 'team_o_rebounds_l5', 'team_d_rebounds_l5',\n",
    "                   'team_o_rebounds_conceded_l5', 'team_d_rebounds_conceded_l5', 'opp_elo',\n",
    "                   'opp_o_rebounds_l5', 'opp_d_rebounds_l5', 'opp_o_rebounds_conceded_l5',\n",
    "                   'opp_d_rebounds_conceded_l5']"
   ]
  },
  {
   "cell_type": "code",
   "execution_count": 577,
   "id": "established-moses",
   "metadata": {},
   "outputs": [],
   "source": [
    "def get_current_team_features(data, game_time):\n",
    "    x = data.loc[data.game_time >= game_time]\n",
    "    \n",
    "    x1 = x[['team_id', 'game_time', 'team_o_rebounds_l5', 'team_d_rebounds_l5',\n",
    "           'team_o_rebounds_conceded_l5', 'team_d_rebounds_conceded_l5']]\n",
    "    x2 = x[['opp_id', 'game_time', 'opp_o_rebounds_l5', 'opp_d_rebounds_l5', \n",
    "            'opp_o_rebounds_conceded_l5', 'opp_d_rebounds_conceded_l5']]\n",
    "\n",
    "    x1.columns = x2.columns = ['team_id', 'game_time',\n",
    "                                  'team_o_rebounds_l5', 'team_d_rebounds_l5',\n",
    "                                  'team_o_rebounds_conceded_l5', 'team_d_rebounds_conceded_l5']\n",
    "\n",
    "    # x contains all the up-to-date team features\n",
    "    x = pd.concat([x1, x2], axis=0)\n",
    "    \n",
    "    g = x.groupby(['team_id'])\n",
    "    team_features = g.apply(lambda x: x.sort_values(by='game_time', ascending=True).head(1))\n",
    "    team_features.reset_index(drop=True, inplace=True)\n",
    "    \n",
    "    team_features.drop(columns=('game_time'), inplace=True)\n",
    "    \n",
    "    return team_features"
   ]
  },
  {
   "cell_type": "code",
   "execution_count": 717,
   "id": "assumed-supplement",
   "metadata": {},
   "outputs": [],
   "source": [
    "def add_team_player_features(features, one_team, game_code):\n",
    "    player_features = one_team.loc[one_team.game_code==game_code, player_feature_names]\n",
    "    \n",
    "    # For each player,\n",
    "    # predict probability for each game of the season\n",
    "    # sample from each game once and sum up to get one seasonal result\n",
    "    # after n such sample turns, we can get the empirical distribution of NBA player stats\n",
    "    features = features.merge(player_features, on='team_id',how='left')\n",
    "    \n",
    "    features = features[feature_names]\n",
    "    \n",
    "    features = features.astype({'position_id':'float64', 'draft_year':'float64'}, errors='raise')\n",
    "    \n",
    "    return features"
   ]
  },
  {
   "cell_type": "code",
   "execution_count": 510,
   "id": "tired-alfred",
   "metadata": {},
   "outputs": [],
   "source": [
    "def player_box_plot(props):\n",
    "    \n",
    "    props['game_num'] = props.groupby('player_id').cumcount()\n",
    "    y = props.pivot(columns='game_num',index='player_id')\n",
    "\n",
    "    y.columns = y.columns.get_level_values(1)\n",
    "\n",
    "    y['mean'] = y.mean(axis=1)\n",
    "    y = y.sort_values(by='mean', ascending=False)\n",
    "    y = y.loc[:, ~y.isnull().any(axis=0)]\n",
    "    y.drop(columns='mean', inplace=True)\n",
    "\n",
    "    plt.figure(figsize=(12,8))\n",
    "    plt.boxplot(y.T, labels=y.index)\n",
    "    plt.xlabel('Players')\n",
    "    plt.ylabel('Points per Game')\n",
    "    plt.show()"
   ]
  },
  {
   "cell_type": "code",
   "execution_count": 722,
   "id": "protecting-inspection",
   "metadata": {},
   "outputs": [],
   "source": [
    "def update_player_plot(team_name, prop_name, game_num, n_runs):\n",
    "    \n",
    "    n_runs = int(n_runs)\n",
    "    \n",
    "    print(team_name, prop_name, game_num, n_runs)\n",
    "    \n",
    "    if prop_name != 'points':\n",
    "        print(prop_name, \"is not implemented yet!\")\n",
    "        return\n",
    "    \n",
    "    game_num = game_num - 1\n",
    "    \n",
    "    data = pd.read_csv('./notebooks/player_2018.csv')\n",
    "    data.sort_values(by=['season','team_id','game_time'], inplace=True)\n",
    "    \n",
    "    team_id = team_dict[team_name]\n",
    "    one_team = data.loc[data.team_id == team_id].reset_index(drop=True)\n",
    "    \n",
    "    game_codes = one_team.game_code.unique()\n",
    "    game_code = game_codes[game_num]\n",
    "    \n",
    "    # create season schedule with elo ratings\n",
    "    schedule = get_season_schedule(one_team, game_num)\n",
    "    \n",
    "    \n",
    "    # team strength extraction\n",
    "    # need a snapshot of all individual team stats up-to-date, the last row of team parts\n",
    "    game_time = schedule.game_time.iloc[0]\n",
    "    team_features = get_current_team_features(data, game_time)\n",
    "    \n",
    "    # merge team_features into elo_ratings\n",
    "    features = add_team_features(schedule, team_features)\n",
    "    \n",
    "    # add players features into one game\n",
    "    features = add_team_player_features(features, one_team, game_code)\n",
    "    \n",
    "    features_player = transform_pipeline_player.transform(features)\n",
    "    \n",
    "    pred = model_logistic.predict_proba(features_player)\n",
    "    pred = np.dot(pred, np.array(range(46)) )\n",
    "    \n",
    "    pred = pd.DataFrame({'player_id':features.player_id, 'pred':pred})\n",
    "    \n",
    "    player_box_plot(pred)\n",
    "    \n",
    "\n",
    "    return"
   ]
  },
  {
   "cell_type": "markdown",
   "id": "packed-saturn",
   "metadata": {},
   "source": [
    "# (1) NBA Player Seasonal Props Simulation "
   ]
  },
  {
   "cell_type": "code",
   "execution_count": 723,
   "id": "prime-machine",
   "metadata": {},
   "outputs": [
    {
     "data": {
      "application/vnd.jupyter.widget-view+json": {
       "model_id": "633d835d7a274ea38f1398fc73c5852b",
       "version_major": 2,
       "version_minor": 0
      },
      "text/plain": [
       "interactive(children=(Dropdown(description='Team', options=('ATL', 'BOS', 'BRK', 'CHI', 'CHO', 'CLE', 'DAL', '…"
      ]
     },
     "metadata": {},
     "output_type": "display_data"
    }
   ],
   "source": [
    "# select team_id\n",
    "\n",
    "team_picker = widgets.Dropdown(\n",
    "    options=team_dict.keys(),\n",
    "    description='Team'\n",
    ")\n",
    "prop_picker = widgets.Dropdown(\n",
    "    options=['points','assists'],\n",
    "    description='Props'\n",
    ")\n",
    "game_picker = widgets.BoundedIntText(\n",
    "    value=1,\n",
    "    min=1,\n",
    "    max=82,\n",
    "    step=1,\n",
    "    description='Game #:',\n",
    "    #disabled=False\n",
    ")\n",
    "n_runs_picker = widgets.FloatLogSlider(\n",
    "    value=1000,\n",
    "    base=10,\n",
    "    min=2,\n",
    "    max=5,\n",
    "    step=1,\n",
    "    description='# runs'\n",
    ")\n",
    "\n",
    "_ = interact_manual(update_player_plot, team_name=team_picker, prop_name=prop_picker, \n",
    "                    game_num=game_picker, n_runs=n_runs_picker)"
   ]
  },
  {
   "cell_type": "code",
   "execution_count": null,
   "id": "amended-anthony",
   "metadata": {},
   "outputs": [],
   "source": []
  },
  {
   "cell_type": "markdown",
   "id": "wrapped-wonder",
   "metadata": {},
   "source": [
    "# (2) NBA Player Trade Simulation"
   ]
  },
  {
   "cell_type": "code",
   "execution_count": 724,
   "id": "toxic-georgia",
   "metadata": {},
   "outputs": [
    {
     "data": {
      "application/vnd.jupyter.widget-view+json": {
       "model_id": "7c55c2fa3ecc427388d1e972ad188ab7",
       "version_major": 2,
       "version_minor": 0
      },
      "text/plain": [
       "interactive(children=(Dropdown(description='Team', options=('ATL', 'BOS', 'BRK', 'CHI', 'CHO', 'CLE', 'DAL', '…"
      ]
     },
     "metadata": {},
     "output_type": "display_data"
    }
   ],
   "source": [
    "team_picker = widgets.Dropdown(\n",
    "    options=team_dict.keys(),\n",
    "    description='Team'\n",
    ")\n",
    "player_picker = widgets.BoundedIntText(\n",
    "    value = 395388, # James Harden\n",
    "    min = 0,\n",
    "    max = 900000,\n",
    "    step = 1,\n",
    "    description='player id'\n",
    ")\n",
    "prop_picker = widgets.Dropdown(\n",
    "    options=['points','assists'],\n",
    "    description='Props'\n",
    ")\n",
    "game_picker = widgets.BoundedIntText(\n",
    "    value=1,\n",
    "    min=1,\n",
    "    max=82,\n",
    "    step=1,\n",
    "    description='Game #',\n",
    "    #disabled=False\n",
    ")\n",
    "n_runs_picker = widgets.FloatLogSlider(\n",
    "    value=1000,\n",
    "    base=10,\n",
    "    min=2,\n",
    "    max=5,\n",
    "    step=1,\n",
    "    description='# runs'\n",
    ")\n",
    "\n",
    "# plot one team first, add other comparison later\n",
    "_ = interact_manual(update_player_trade_plot, team_name=team_picker, player_id=player_picker, prop_name=prop_picker, \n",
    "                    game_num=game_picker, n_runs=n_runs_picker)"
   ]
  },
  {
   "cell_type": "code",
   "execution_count": 553,
   "id": "smoking-party",
   "metadata": {},
   "outputs": [],
   "source": [
    "def get_season_schedule(data, game_num):\n",
    "    schedule = data[['season','game_code','game_time','team_id','opp_id','at_home','team_elo','opp_elo']].\\\n",
    "                        groupby(['game_code']).first().reset_index()\n",
    "    schedule.sort_values(by=['season','game_time'], inplace=True, ignore_index=True)\n",
    "    \n",
    "    # remaining season schedule\n",
    "    return schedule[game_num:]"
   ]
  },
  {
   "cell_type": "code",
   "execution_count": 596,
   "id": "prompt-david",
   "metadata": {},
   "outputs": [],
   "source": [
    "def add_team_features(schedule, team_features):\n",
    "    t = team_features.copy()\n",
    "    features = schedule.merge(t, on='team_id', how='left')\n",
    "\n",
    "    t.columns = ['opp_id', 'opp_o_rebounds_l5', 'opp_d_rebounds_l5', \n",
    "                            'opp_o_rebounds_conceded_l5', 'opp_d_rebounds_conceded_l5']\n",
    "\n",
    "    features = features.merge(t, on=['opp_id'], how='left')\n",
    "\n",
    "    return features"
   ]
  },
  {
   "cell_type": "code",
   "execution_count": 702,
   "id": "solar-perry",
   "metadata": {},
   "outputs": [],
   "source": [
    "def add_one_player_features(features, one_team, team_id, player_id, game_code):\n",
    "    player_features = one_team.loc[(one_team.game_code==game_code) & (one_team.player_id==player_id), \n",
    "                                   player_feature_names]\n",
    "    \n",
    "    player_features.team_id = team_id\n",
    "    \n",
    "    # For each player,\n",
    "    # predict probability for each game of the season\n",
    "    # sample from each game once and sum up to get one seasonal result\n",
    "    # after n such sample turns, we can get the empirical distribution of NBA player stats\n",
    "    features = features.merge(player_features, on='team_id',how='left')\n",
    "    \n",
    "    # re-order features sequence\n",
    "    features = features[feature_names]\n",
    "    \n",
    "    features = features.astype({'position_id':'float64', 'draft_year':'float64'}, errors='raise')\n",
    "    \n",
    "    return features"
   ]
  },
  {
   "cell_type": "code",
   "execution_count": 710,
   "id": "cooked-hampton",
   "metadata": {},
   "outputs": [],
   "source": [
    "def player_team_comparison_plot(pred_0, pred_1, team_0_id, team_1_id):\n",
    "    team_0_name = team_id_dict[team_0_id]\n",
    "    team_1_name = team_id_dict[team_1_id]\n",
    "    \n",
    "    plt.figure(figsize=(12,8))\n",
    "    plt.plot(pred_0, linestyle='-', marker='o', label=team_0_name+\", avg=\"+str(round(pred_0.mean(),1)) )\n",
    "    plt.plot(pred_1, linestyle='-', marker='o', label=team_1_name+\", avg=\"+str(round(pred_1.mean(),1)) )\n",
    "    plt.xlabel('games')\n",
    "    plt.ylabel('point')\n",
    "    plt.title('James Harden 2018 season simulation')\n",
    "    plt.legend()\n",
    "    plt.show()\n",
    "    \n",
    "    return"
   ]
  },
  {
   "cell_type": "code",
   "execution_count": 711,
   "id": "incorrect-pocket",
   "metadata": {},
   "outputs": [],
   "source": [
    "def update_player_trade_plot(team_name, player_id, prop_name, game_num, n_runs):\n",
    "    n_runs = int(n_runs)\n",
    "    #print(team_name, player_id, prop_name, game_num, n_runs)\n",
    "    \n",
    "    # load data\n",
    "    if prop_name != 'points':\n",
    "        print(prop_name, \"is not implemented yet!\")\n",
    "        return\n",
    "    \n",
    "    game_num = game_num - 1\n",
    "    \n",
    "    data = pd.read_csv('./notebooks/player_2018.csv')\n",
    "    data.sort_values(by=['season', 'team_id', 'game_time'], inplace=True)\n",
    "    \n",
    "    # player's original team id\n",
    "    team_0_id = data.loc[data.player_id==395388, 'team_id'].values[0]\n",
    "    team_0 = data.loc[data.team_id == team_0_id].reset_index(drop=True)\n",
    "    \n",
    "    team_1_id = team_dict[team_name]\n",
    "    team_1 = data.loc[data.team_id == team_1_id].reset_index(drop=True)\n",
    "    \n",
    "    game_codes = team_0.game_code.unique()\n",
    "    game_code = game_codes[game_num]\n",
    "    \n",
    "    # create season schedule, get elo ratings\n",
    "    schedule_0 = get_season_schedule(team_0, game_num)\n",
    "    schedule_1 = get_season_schedule(team_1, game_num)\n",
    "    \n",
    "    # get team features\n",
    "    game_time = schedule_0.game_time.iloc[0]\n",
    "    team_features = get_current_team_features(data, game_time)\n",
    "    \n",
    "    # merge team_features into elo_ratings\n",
    "    features_0 = add_team_features(schedule_0, team_features)\n",
    "    features_1 = add_team_features(schedule_1, team_features)\n",
    "    \n",
    "    # get player features\n",
    "    features_0 = add_one_player_features(features_0, team_0, team_0_id, player_id, game_code)\n",
    "    features_1 = add_one_player_features(features_1, team_0, team_1_id, player_id, game_code)\n",
    "    \n",
    "    # merge all features together (now the player's team_id is switched) \n",
    "    # 2 feature set: one for team to be traded, one for the player's current team!\n",
    "    features_0_player = transform_pipeline_player.transform(features_0)\n",
    "    features_1_player = transform_pipeline_player.transform(features_1)\n",
    "    \n",
    "    pred_0 = model_logistic.predict_proba(features_0_player)\n",
    "    pred_0 = np.dot(pred_0, np.array(range(46)) )\n",
    "    \n",
    "    pred_1 = model_logistic.predict_proba(features_1_player)\n",
    "    pred_1 = np.dot(pred_1, np.array(range(46)) )\n",
    "    \n",
    "    # generate graph\n",
    "    player_team_comparison_plot(pred_0, pred_1, team_0_id, team_1_id)\n",
    "\n",
    "    return"
   ]
  }
 ],
 "metadata": {
  "kernelspec": {
   "display_name": "Python 3",
   "language": "python",
   "name": "python3"
  },
  "language_info": {
   "codemirror_mode": {
    "name": "ipython",
    "version": 3
   },
   "file_extension": ".py",
   "mimetype": "text/x-python",
   "name": "python",
   "nbconvert_exporter": "python",
   "pygments_lexer": "ipython3",
   "version": "3.7.3"
  }
 },
 "nbformat": 4,
 "nbformat_minor": 5
}
