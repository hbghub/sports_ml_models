{
 "cells": [
  {
   "cell_type": "code",
   "execution_count": 3,
   "id": "included-consumer",
   "metadata": {},
   "outputs": [],
   "source": [
    "# Change directory so that code in \"src\" directory is easily importable.\n",
    "import os\n",
    "os.chdir('../')"
   ]
  },
  {
   "cell_type": "code",
   "execution_count": 4,
   "id": "automated-diamond",
   "metadata": {
    "tags": []
   },
   "outputs": [],
   "source": [
    "import pandas as pd\n",
    "import numpy as np\n",
    "import re\n",
    "\n",
    "from pyathena import connect\n",
    "from pyathena.pandas_cursor import PandasCursor\n",
    "\n",
    "from sklearn.linear_model import LogisticRegression, SGDClassifier, SGDRegressor\n",
    "from sklearn.svm import LinearSVR, LinearSVC\n",
    "from sklearn.ensemble import RandomForestRegressor, RandomForestClassifier\n",
    "from sklearn.multiclass import OneVsRestClassifier\n",
    "\n",
    "from mord import LogisticAT\n",
    "\n",
    "from sklearn.compose import ColumnTransformer\n",
    "from sklearn.preprocessing import StandardScaler, OneHotEncoder\n",
    "\n",
    "from sklearn.model_selection import cross_val_score, cross_validate\n",
    "from sklearn.metrics import mean_absolute_error, mean_squared_error, roc_auc_score, accuracy_score, balanced_accuracy_score\n",
    "from sklearn.metrics import make_scorer, SCORERS, f1_score, precision_score, recall_score\n",
    "\n",
    "import tensorflow as tf\n",
    "from tensorflow import keras\n",
    "\n",
    "pd.set_option('display.max_rows', 100)\n",
    "pd.set_option('display.max_columns', 100)\n",
    "\n",
    "# Define connection to DB\n",
    "conn = connect(\n",
    "    s3_staging_dir='s3://aws-athena-query-results-323906537337-us-east-1/',\n",
    "    region_name='us-east-1',\n",
    "    cursor_class=PandasCursor\n",
    "    )\n",
    "cursor = conn.cursor()"
   ]
  },
  {
   "cell_type": "markdown",
   "id": "danish-mexican",
   "metadata": {},
   "source": [
    "# 0 Data"
   ]
  },
  {
   "cell_type": "markdown",
   "id": "infrared-cooler",
   "metadata": {},
   "source": [
    "## 0.1 get player data"
   ]
  },
  {
   "cell_type": "code",
   "execution_count": 6,
   "id": "improved-effort",
   "metadata": {},
   "outputs": [
    {
     "name": "stdout",
     "output_type": "stream",
     "text": [
      "<class 'pandas.core.frame.DataFrame'>\n",
      "RangeIndex: 568590 entries, 0 to 568589\n",
      "Data columns (total 20 columns):\n",
      " #   Column              Non-Null Count   Dtype\n",
      "---  ------              --------------   -----\n",
      " 0   season              568590 non-null  Int64\n",
      " 1   game_code           568590 non-null  Int64\n",
      " 2   player_id           568590 non-null  Int64\n",
      " 3   team_id             568590 non-null  Int64\n",
      " 4   position_id         234360 non-null  Int64\n",
      " 5   game_played         568590 non-null  bool \n",
      " 6   game_started        568590 non-null  bool \n",
      " 7   minutes             568590 non-null  Int64\n",
      " 8   points              568590 non-null  Int64\n",
      " 9   fg_attempt          568590 non-null  Int64\n",
      " 10  fg_made             568590 non-null  Int64\n",
      " 11  ft_attempt          568590 non-null  Int64\n",
      " 12  ft_made             568590 non-null  Int64\n",
      " 13  point_3_attempt     568590 non-null  Int64\n",
      " 14  point_3_made        568590 non-null  Int64\n",
      " 15  offensive_rebounds  568590 non-null  Int64\n",
      " 16  defensive_rebounds  568590 non-null  Int64\n",
      " 17  assists             568590 non-null  Int64\n",
      " 18  blocks              568590 non-null  Int64\n",
      " 19  turnovers           568590 non-null  Int64\n",
      "dtypes: Int64(18), bool(2)\n",
      "memory usage: 88.9 MB\n",
      "None\n"
     ]
    }
   ],
   "source": [
    "simple_query = f'''\n",
    "SELECT\n",
    "    CAST(season AS INTEGER) season,\n",
    "    eventmetadata.gamecode game_code,\n",
    "    player.playerid player_id, team.teamid team_id, positionid position_id, \n",
    "    isgameplayed game_played, \n",
    "    isgamestarted game_started,\n",
    "    minutesplayed minutes,\n",
    "    points,\n",
    "    fieldgoals.attempted fg_attempt, \n",
    "    fieldgoals.made fg_made,\n",
    "    freethrows.attempted ft_attempt, \n",
    "    freethrows.made ft_made,\n",
    "    threepointfieldgoals.attempted point_3_attempt, \n",
    "    threepointfieldgoals.made point_3_made,\n",
    "    rebounds.offensive offensive_rebounds, \n",
    "    rebounds.defensive defensive_rebounds, \n",
    "    assists, \n",
    "    blockedshots blocks, \n",
    "    turnovers\n",
    "FROM \n",
    "    datalakebasketball.player_stats_game\n",
    "WHERE \n",
    "    leagueid='1' \n",
    "    and eventmetadata.eventtypeid=1 \n",
    "    and season>='2004'\n",
    "ORDER BY \n",
    "    season, player_id, eventmetadata.gamedateutcepoch\n",
    "'''\n",
    "\n",
    "if True:\n",
    "    player_df = cursor.execute(simple_query).as_pandas()\n",
    "    print(player_df.info())\n",
    "else:\n",
    "    print(\"Failed to query!\")"
   ]
  }
 ],
 "metadata": {
  "kernelspec": {
   "display_name": "nba-in-game-prediction-models",
   "language": "python",
   "name": "nba-in-game-prediction-models"
  },
  "language_info": {
   "codemirror_mode": {
    "name": "ipython",
    "version": 3
   },
   "file_extension": ".py",
   "mimetype": "text/x-python",
   "name": "python",
   "nbconvert_exporter": "python",
   "pygments_lexer": "ipython3",
   "version": "3.7.3"
  }
 },
 "nbformat": 4,
 "nbformat_minor": 5
}
