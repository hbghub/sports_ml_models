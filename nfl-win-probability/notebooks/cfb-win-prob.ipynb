{
 "cells": [
  {
   "cell_type": "code",
   "execution_count": 1,
   "metadata": {},
   "outputs": [],
   "source": [
    "import pandas as pd\n",
    "import numpy as np\n",
    "import matplotlib.pyplot as plt\n",
    "\n",
    "import requests\n",
    "\n",
    "from pyathena import connect\n",
    "from pyathena.pandas_cursor import PandasCursor\n",
    "\n",
    "#from sklearn.linear_model import LinearRegression, SGDRegressor\n",
    "from sklearn.linear_model import LogisticRegression, SGDClassifier\n",
    "from sklearn.svm import LinearSVR, LinearSVC\n",
    "from sklearn.ensemble import RandomForestRegressor, RandomForestClassifier\n",
    "from sklearn.multiclass import OneVsRestClassifier\n",
    "\n",
    "from sklearn.model_selection import cross_val_score, cross_validate\n",
    "from sklearn.metrics import mean_absolute_error, mean_squared_error, roc_auc_score, accuracy_score, balanced_accuracy_score\n",
    "from sklearn.metrics import make_scorer, SCORERS, f1_score, precision_score, recall_score\n",
    "\n",
    "from sklearn.compose import ColumnTransformer\n",
    "from sklearn.preprocessing import StandardScaler, OneHotEncoder\n",
    "\n",
    "import tensorflow as tf\n",
    "from tensorflow import keras\n",
    "\n",
    "import warnings\n",
    "import time\n",
    "\n",
    "#warnings.simplefilter(action='ignore', category=FutureWarning)\n",
    "\n",
    "pd.options.mode.chained_assignment = 'raise'  # default='warn'\n",
    "#pd.options.display.max_columns = 30\n",
    "#pd.options.display.max_rows = 50\n",
    "\n",
    "pd.set_option('display.max_rows', 200)\n",
    "pd.set_option('display.max_columns', 200)\n",
    "\n",
    "# Define connection to DB\n",
    "conn = connect(\n",
    "    s3_staging_dir='s3://aws-athena-query-results-323906537337-us-east-1/',\n",
    "    region_name='us-east-1',\n",
    "    cursor_class=PandasCursor\n",
    "    )\n",
    "cursor = conn.cursor()"
   ]
  },
  {
   "cell_type": "markdown",
   "metadata": {},
   "source": [
    "# 0 Data"
   ]
  },
  {
   "cell_type": "markdown",
   "metadata": {},
   "source": [
    "## 0.1 pbp data"
   ]
  },
  {
   "cell_type": "code",
   "execution_count": null,
   "metadata": {},
   "outputs": [],
   "source": [
    "# Note: NCAA football could have many many OT periods"
   ]
  },
  {
   "cell_type": "code",
   "execution_count": 2,
   "metadata": {},
   "outputs": [
    {
     "name": "stdout",
     "output_type": "stream",
     "text": [
      "<class 'pandas.core.frame.DataFrame'>\n",
      "RangeIndex: 662259 entries, 0 to 662258\n",
      "Data columns (total 27 columns):\n",
      " #   Column                    Non-Null Count   Dtype  \n",
      "---  ------                    --------------   -----  \n",
      " 0   season                    662259 non-null  Int64  \n",
      " 1   week                      662259 non-null  Int64  \n",
      " 2   gamecode                  662259 non-null  Int64  \n",
      " 3   eventtypeid               662259 non-null  Int64  \n",
      " 4   homeTeam                  662259 non-null  Int64  \n",
      " 5   awayTeam                  662259 non-null  Int64  \n",
      " 6   offenseTeam               662259 non-null  Int64  \n",
      " 7   defenseTeam               662259 non-null  Int64  \n",
      " 8   playid                    662259 non-null  Int64  \n",
      " 9   driveid                   662259 non-null  Int64  \n",
      " 10  period                    662259 non-null  Int64  \n",
      " 11  secondsremaininginperiod  590343 non-null  Int64  \n",
      " 12  halfGame                  662259 non-null  Int64  \n",
      " 13  down                      662259 non-null  Int64  \n",
      " 14  yardsToGo                 662259 non-null  float64\n",
      " 15  yardsFromGoal             662259 non-null  float64\n",
      " 16  awayScore                 662259 non-null  Int64  \n",
      " 17  homeScore                 662259 non-null  Int64  \n",
      " 18  awayScoreAfter            662259 non-null  Int64  \n",
      " 19  homeScoreAfter            662259 non-null  Int64  \n",
      " 20  homeFinalScore            662259 non-null  Int64  \n",
      " 21  awayFinalScore            662259 non-null  Int64  \n",
      " 22  offenseScore              662259 non-null  Int64  \n",
      " 23  playtypeid                662255 non-null  Int64  \n",
      " 24  playName                  662259 non-null  object \n",
      " 25  offenseTimeout            662259 non-null  Int64  \n",
      " 26  defenseTimeout            662259 non-null  Int64  \n",
      "dtypes: Int64(24), float64(2), object(1)\n",
      "memory usage: 151.6+ MB\n",
      "None\n"
     ]
    }
   ],
   "source": [
    "# playtypeid:\n",
    "# 1 = pass attempt\n",
    "# 2 = incomplete pass attempt\n",
    "# 3 = sack\n",
    "# 4 = designed rush OR scramble\n",
    "# 9 = intercepted pass attempt\n",
    "\n",
    "simple_query = f'''\n",
    "select \n",
    "    cast(season as integer) season, \n",
    "    eventmetadata.week, eventmetadata.eventid gamecode, eventmetadata.eventtypeid,\n",
    "    if(teammetadata[1].ishometeam, teammetadata[1].teamid, teammetadata[2].teamid) homeTeam,\n",
    "    if(teammetadata[2].ishometeam, teammetadata[1].teamid, teammetadata[2].teamid) awayTeam,\n",
    "    \n",
    "    pbp.startpossessionteamid offenseTeam,\n",
    "    if(pbp.startpossessionteamid = teammetadata[1].teamid, teammetadata[2].teamid, teammetadata[1].teamid) defenseTeam,\n",
    "    \n",
    "    cast(pbp.playid as integer) playid, pbp.driveid, pbp.period,\n",
    "    pbp.secondsremaininginperiod,\n",
    "    \n",
    "    case \n",
    "        when pbp.period in (1,2) then 1\n",
    "        when pbp.period in (3,4) then 2\n",
    "        else pbp.period - 2\n",
    "        end halfGame,\n",
    "    \n",
    "    case \n",
    "        when pbp.down is null then 0\n",
    "        else pbp.down\n",
    "        end down,\n",
    "        \n",
    "    case\n",
    "        when pbp.distance is null then 0.0\n",
    "        else cast(pbp.distance as double) \n",
    "        end yardsToGo,\n",
    "        \n",
    "    cast(pbp.startyardsfromgoal as double) yardsFromGoal, \n",
    "\n",
    "    pbp.awayscorebefore awayScore, \n",
    "    pbp.homescorebefore homeScore,\n",
    "    pbp.awayscoreafter  awayScoreAfter, \n",
    "    pbp.homescoreafter  homeScoreAfter,\n",
    "    if(teammetadata[1].ishometeam, teammetadata[1].score, teammetadata[2].score) homeFinalScore,\n",
    "    if(teammetadata[2].ishometeam, teammetadata[1].score, teammetadata[2].score) awayFinalScore,\n",
    "    \n",
    "    case\n",
    "        when teammetadata[1].teamid = pbp.startpossessionteamid and teammetadata[1].ishometeam then pbp.homescorebefore\n",
    "        when teammetadata[2].teamid = pbp.startpossessionteamid and teammetadata[2].ishometeam then pbp.homescorebefore\n",
    "        else pbp.awayscorebefore\n",
    "        end as offenseScore,\n",
    "    \n",
    "    pbp.playtype.playtypeid, pbp.playtype.name playName,\n",
    "    \n",
    "    case \n",
    "        when pbp.playtype.playtypeid = 57 then 1\n",
    "        else 0\n",
    "        end offenseTimeout,\n",
    "        \n",
    "    case \n",
    "        when pbp.playtype.playtypeid = 58 then 1\n",
    "        else 0\n",
    "        end defenseTimeout\n",
    "    \n",
    "from datalakefootball.pbp\n",
    "where \n",
    "    leagueid='16'\n",
    "    and season>='2015' --and season<='2019'\n",
    "    and eventmetadata.eventtypeid in (1,2)\n",
    "    -- and pbp.period <= 4\n",
    "    -- and pbp.down is not null -- this will elliminate field goal attempts and a few other actions\n",
    "    -- and pbp.playtype.playtypeid not in (5,13) -- 2-min warning, kickoff\n",
    "order by season, eventmetadata.week, eventmetadata.eventid, pbp.period, playid --, secondsremaininginperiod desc\n",
    "'''\n",
    "\n",
    "if True:\n",
    "    pbp_df = cursor.execute(simple_query).as_pandas()\n",
    "    print(pbp_df.info())\n",
    "else:\n",
    "    print(\"Failed to query!\")"
   ]
  },
  {
   "cell_type": "code",
   "execution_count": 3,
   "metadata": {},
   "outputs": [
    {
     "data": {
      "text/plain": [
       "<IntegerArray>\n",
       "[2015, 2016, 2017, 2018]\n",
       "Length: 4, dtype: Int64"
      ]
     },
     "execution_count": 3,
     "metadata": {},
     "output_type": "execute_result"
    }
   ],
   "source": [
    "pbp_df.season.unique()"
   ]
  },
  {
   "cell_type": "code",
   "execution_count": 4,
   "metadata": {},
   "outputs": [],
   "source": [
    "# Fill in missing game time for regular period\n",
    "\n",
    "gd = pbp_df.groupby(['gamecode','period'])\n",
    "\n",
    "pbp_df.secondsremaininginperiod = gd['secondsremaininginperiod'].fillna(method='ffill')\n",
    "\n",
    "gd = pbp_df.groupby(['gamecode','period'])\n",
    "\n",
    "pbp_df.secondsremaininginperiod = gd['secondsremaininginperiod'].fillna(method='bfill')\n",
    "\n",
    "pbp_df['remainingGameTime'] = pbp_df.secondsremaininginperiod + (4 - pbp_df.period).clip(0,) * 900\n",
    "\n",
    "# overtime the clock is off, we may artificially assign a value of 1 min\n",
    "id = (pbp_df.secondsremaininginperiod.isnull()) & (pbp_df.period > 4)\n",
    "pbp_df.loc[id, 'secondsremaininginperiod'] = 120\n",
    "pbp_df.loc[id, 'remainingGameTime'] = 120"
   ]
  },
  {
   "cell_type": "code",
   "execution_count": 5,
   "metadata": {},
   "outputs": [],
   "source": [
    "# calculate scoreDiff\n",
    "\n",
    "pbp_df['scoreDiff'] = pbp_df.homeScore - pbp_df.awayScore\n",
    "pbp_df.loc[pbp_df.offenseTeam==pbp_df.awayTeam, 'scoreDiff'] = pbp_df.awayScore - pbp_df.homeScore\n",
    "pbp_df.scoreDiff = pbp_df.scoreDiff.astype('float64') #important for num features\n",
    "\n",
    "pbp_df['scoreDiffAfter'] = pbp_df.homeScoreAfter - pbp_df.awayScoreAfter\n",
    "pbp_df.loc[pbp_df.offenseTeam==pbp_df.awayTeam, 'scoreDiffAfter'] = pbp_df.awayScoreAfter - pbp_df.homeScoreAfter\n",
    "pbp_df.scoreDiffAfter = pbp_df.scoreDiffAfter.astype('float64') #important for num features\n",
    "\n",
    "pbp_df['adjScoreDiff'] = pbp_df.scoreDiff / np.power(pbp_df.remainingGameTime+1, 0.5)"
   ]
  },
  {
   "cell_type": "code",
   "execution_count": 6,
   "metadata": {},
   "outputs": [],
   "source": [
    "# calculate remaining TO, no sure if this works for CFB\n",
    "# > calculate timeout used in each half game\n",
    "\n",
    "pbp_df[['homeTO','awayTO','remainingHomeTOs','remainingHomeTOs']] = 0\n",
    "\n",
    "id = ((pbp_df.offenseTimeout == 1) & (pbp_df.offenseTeam == pbp_df.homeTeam)) | \\\n",
    "        ((pbp_df.defenseTimeout == 1) & (pbp_df.defenseTeam == pbp_df.homeTeam))\n",
    "pbp_df.loc[id, 'homeTO'] = 1\n",
    "\n",
    "id = ((pbp_df.offenseTimeout == 1) & (pbp_df.offenseTeam == pbp_df.awayTeam)) | \\\n",
    "        ((pbp_df.defenseTimeout == 1) & (pbp_df.defenseTeam == pbp_df.awayTeam))\n",
    "pbp_df.loc[id, 'awayTO'] = 1\n",
    "\n",
    "gd = pbp_df.groupby(['gamecode','halfGame'])\n",
    "\n",
    "pbp_df[['remainingHomeTOs','remainingAwayTOs']] = gd[['homeTO','awayTO']].cumsum()\n",
    "pbp_df[['remainingHomeTOs','remainingAwayTOs']] = gd[['homeTO','awayTO']].cumsum()\n",
    "\n",
    "\n",
    "id = pbp_df.period <= 4\n",
    "pbp_df.loc[id, ['remainingHomeTOs','remainingAwayTOs']] = 3 - pbp_df[['remainingHomeTOs','remainingAwayTOs']]\n",
    "pbp_df.loc[~id, ['remainingHomeTOs','remainingAwayTOs']] = 1 -  pbp_df[['remainingHomeTOs','remainingAwayTOs']]\n",
    "\n",
    "\n",
    "pbp_df[['remainingOffenseTOs','remainingDefenseTOs']] = pbp_df[['remainingHomeTOs','remainingAwayTOs']].copy()\n",
    "\n",
    "id = (pbp_df.offenseTeam == pbp_df.awayTeam)\n",
    "\n",
    "pbp_df.loc[id, 'remainingOffenseTOs'] = pbp_df.loc[id, 'remainingAwayTOs'].values.astype('float64')\n",
    "pbp_df.loc[id, 'remainingDefenseTOs'] = pbp_df.loc[id, 'remainingHomeTOs'].values.astype('float64')\n",
    "\n",
    "pbp_df.loc[pbp_df.remainingOffenseTOs < 0, 'remainingOffenseTOs'] = 0\n",
    "pbp_df.loc[pbp_df.remainingDefenseTOs < 0, 'remainingDefenseTOs'] = 0"
   ]
  },
  {
   "cell_type": "code",
   "execution_count": 7,
   "metadata": {},
   "outputs": [],
   "source": [
    "# ceate known playtype pre-play\n",
    "\n",
    "pbp_df['playDesign'] = 0 # unknown play\n",
    "pbp_df.loc[pbp_df.playtypeid.isin([22]), 'playDesign'] = 1 # extra point\n",
    "pbp_df.loc[pbp_df.playtypeid.isin([52,53,54,55,56]), 'playDesign'] = 2 # 2-point attempt\n",
    "pbp_df.loc[pbp_df.playtypeid.isin([42,35,36]), 'playDesign'] = 3 # field goal attempt"
   ]
  },
  {
   "cell_type": "code",
   "execution_count": 8,
   "metadata": {},
   "outputs": [
    {
     "data": {
      "text/html": [
       "<div>\n",
       "<style scoped>\n",
       "    .dataframe tbody tr th:only-of-type {\n",
       "        vertical-align: middle;\n",
       "    }\n",
       "\n",
       "    .dataframe tbody tr th {\n",
       "        vertical-align: top;\n",
       "    }\n",
       "\n",
       "    .dataframe thead th {\n",
       "        text-align: right;\n",
       "    }\n",
       "</style>\n",
       "<table border=\"1\" class=\"dataframe\">\n",
       "  <thead>\n",
       "    <tr style=\"text-align: right;\">\n",
       "      <th></th>\n",
       "      <th>gamecode</th>\n",
       "      <th>period</th>\n",
       "      <th>driveid</th>\n",
       "      <th>offenseTeam</th>\n",
       "      <th>scoreDiffAfter</th>\n",
       "      <th>driveScoreDiffChange</th>\n",
       "      <th>driveOutcome</th>\n",
       "    </tr>\n",
       "  </thead>\n",
       "  <tbody>\n",
       "    <tr>\n",
       "      <th>0</th>\n",
       "      <td>1522535</td>\n",
       "      <td>1</td>\n",
       "      <td>1</td>\n",
       "      <td>3442</td>\n",
       "      <td>0.0</td>\n",
       "      <td>0.0</td>\n",
       "      <td>0</td>\n",
       "    </tr>\n",
       "    <tr>\n",
       "      <th>1</th>\n",
       "      <td>1522535</td>\n",
       "      <td>1</td>\n",
       "      <td>1</td>\n",
       "      <td>3478</td>\n",
       "      <td>0.0</td>\n",
       "      <td>0.0</td>\n",
       "      <td>0</td>\n",
       "    </tr>\n",
       "    <tr>\n",
       "      <th>2</th>\n",
       "      <td>1522535</td>\n",
       "      <td>1</td>\n",
       "      <td>2</td>\n",
       "      <td>3442</td>\n",
       "      <td>0.0</td>\n",
       "      <td>0.0</td>\n",
       "      <td>0</td>\n",
       "    </tr>\n",
       "    <tr>\n",
       "      <th>3</th>\n",
       "      <td>1522535</td>\n",
       "      <td>1</td>\n",
       "      <td>3</td>\n",
       "      <td>3478</td>\n",
       "      <td>7.0</td>\n",
       "      <td>7.0</td>\n",
       "      <td>5</td>\n",
       "    </tr>\n",
       "    <tr>\n",
       "      <th>4</th>\n",
       "      <td>1522535</td>\n",
       "      <td>1</td>\n",
       "      <td>4</td>\n",
       "      <td>3478</td>\n",
       "      <td>7.0</td>\n",
       "      <td>0.0</td>\n",
       "      <td>0</td>\n",
       "    </tr>\n",
       "  </tbody>\n",
       "</table>\n",
       "</div>"
      ],
      "text/plain": [
       "   gamecode  period  driveid  offenseTeam  scoreDiffAfter  \\\n",
       "0   1522535       1        1         3442             0.0   \n",
       "1   1522535       1        1         3478             0.0   \n",
       "2   1522535       1        2         3442             0.0   \n",
       "3   1522535       1        3         3478             7.0   \n",
       "4   1522535       1        4         3478             7.0   \n",
       "\n",
       "   driveScoreDiffChange  driveOutcome  \n",
       "0                   0.0             0  \n",
       "1                   0.0             0  \n",
       "2                   0.0             0  \n",
       "3                   7.0             5  \n",
       "4                   0.0             0  "
      ]
     },
     "execution_count": 8,
     "metadata": {},
     "output_type": "execute_result"
    },
    {
     "data": {
      "image/png": "[encoded data removed]",
      "text/plain": [
       "<Figure size 432x288 with 1 Axes>"
      ]
     },
     "metadata": {
      "needs_background": "light"
     },
     "output_type": "display_data"
    }
   ],
   "source": [
    "# calculate outcome for each drive - applied for over-time model\n",
    "eScoreDiff = pbp_df.groupby(['gamecode','driveid','offenseTeam'])[['gamecode','period','driveid','offenseTeam','scoreDiffAfter']].tail(1).\\\n",
    "                reset_index(drop=True)\n",
    "sScoreDiff = pbp_df.groupby(['gamecode','driveid','offenseTeam'])[['gamecode','driveid','offenseTeam','scoreDiff']].head(1).reset_index(drop=True)\n",
    "\n",
    "eScoreDiff['driveScoreDiffChange'] = (eScoreDiff.scoreDiffAfter - sScoreDiff.scoreDiff)\n",
    "eScoreDiff['driveOutcome'] = 0  # no-score\n",
    "eScoreDiff.loc[eScoreDiff.driveScoreDiffChange ==1, 'driveOutcome'] = 1  # FG\n",
    "eScoreDiff.loc[eScoreDiff.driveScoreDiffChange ==2, 'driveOutcome'] = 2  # FG\n",
    "eScoreDiff.loc[eScoreDiff.driveScoreDiffChange ==3, 'driveOutcome'] = 3  # FG\n",
    "eScoreDiff.loc[eScoreDiff.driveScoreDiffChange ==6, 'driveOutcome'] = 4  # TD w.o. extra point\n",
    "eScoreDiff.loc[eScoreDiff.driveScoreDiffChange ==7, 'driveOutcome'] = 5  # TD w extra point\n",
    "eScoreDiff.loc[eScoreDiff.driveScoreDiffChange ==8, 'driveOutcome'] = 6  # TD w extra point\n",
    "eScoreDiff.loc[eScoreDiff.driveScoreDiffChange ==-2, 'driveOutcome'] = 7 # defense points from offense turn-over\n",
    "eScoreDiff.loc[eScoreDiff.driveScoreDiffChange ==-6, 'driveOutcome'] = 8 # defense points from offense turn-over\n",
    "\n",
    "plt.hist(eScoreDiff.driveScoreDiffChange, bins=range(-7,9))\n",
    "eScoreDiff.head()"
   ]
  },
  {
   "cell_type": "code",
   "execution_count": 9,
   "metadata": {},
   "outputs": [
    {
     "name": "stdout",
     "output_type": "stream",
     "text": [
      "              gamecode  period  driveid  offenseTeam  scoreDiffAfter  \\\n",
      "driveOutcome                                                           \n",
      "0                96165   96165    96165        96165           96165   \n",
      "1                  847     847      847          847             847   \n",
      "2                   36      36       36           36              36   \n",
      "3                 7484    7484     7484         7484            7484   \n",
      "4                 1348    1348     1348         1348            1348   \n",
      "5                21443   21443    21443        21443           21443   \n",
      "6                  431     431      431          431             431   \n",
      "7                  248     248      248          248             248   \n",
      "8                  819     819      819          819             819   \n",
      "\n",
      "              driveScoreDiffChange  \n",
      "driveOutcome                        \n",
      "0                            96165  \n",
      "1                              847  \n",
      "2                               36  \n",
      "3                             7484  \n",
      "4                             1348  \n",
      "5                            21443  \n",
      "6                              431  \n",
      "7                              248  \n",
      "8                              819  \n",
      "              gamecode  period  driveid  offenseTeam  scoreDiffAfter  \\\n",
      "driveOutcome                                                           \n",
      "0                  119     119      119          119             119   \n",
      "3                   95      95       95           95              95   \n",
      "4                   71      71       71           71              71   \n",
      "5                  171     171      171          171             171   \n",
      "6                   19      19       19           19              19   \n",
      "8                    1       1        1            1               1   \n",
      "\n",
      "              driveScoreDiffChange  \n",
      "driveOutcome                        \n",
      "0                              119  \n",
      "3                               95  \n",
      "4                               71  \n",
      "5                              171  \n",
      "6                               19  \n",
      "8                                1  \n"
     ]
    },
    {
     "data": {
      "image/png": "[encoded data removed]",
      "text/plain": [
       "<Figure size 432x288 with 1 Axes>"
      ]
     },
     "metadata": {
      "needs_background": "light"
     },
     "output_type": "display_data"
    }
   ],
   "source": [
    "# drive-outcome between regular time and overtime\n",
    "id = eScoreDiff.period > 4\n",
    "plt.hist(eScoreDiff.driveOutcome[id], bins=range(0, 10))\n",
    "print(eScoreDiff[~id].groupby('driveOutcome').count())\n",
    "print(eScoreDiff[id].groupby('driveOutcome').count())"
   ]
  },
  {
   "cell_type": "code",
   "execution_count": 10,
   "metadata": {},
   "outputs": [],
   "source": [
    "pbp_df = pd.merge(pbp_df, eScoreDiff[['gamecode','driveid','offenseTeam','driveScoreDiffChange','driveOutcome']], on=['gamecode','driveid','offenseTeam'])\n",
    "sScoreDiff.rename(columns={'scoreDiff':'driveStartScoreDiff'}, inplace=True)\n",
    "pbp_df = pd.merge(pbp_df, sScoreDiff[['gamecode','driveid','offenseTeam','driveStartScoreDiff']], on=['gamecode','driveid','offenseTeam'])"
   ]
  },
  {
   "cell_type": "code",
   "execution_count": 11,
   "metadata": {},
   "outputs": [],
   "source": [
    "# period start offense team: for OT modeling\n",
    "gb = pbp_df.groupby(['gamecode','period']).head(1)[['gamecode','period','offenseTeam']]\n",
    "gb.rename(columns={'offenseTeam':'period_start_offense_team'}, inplace=True)\n",
    "pbp_df = pd.merge(pbp_df, gb, on=['gamecode','period'], how='left')"
   ]
  },
  {
   "cell_type": "code",
   "execution_count": 12,
   "metadata": {},
   "outputs": [],
   "source": [
    "# NCAA not allowing for tie\n",
    "id = (pbp_df.homeTeam==pbp_df.offenseTeam) & (pbp_df.homeFinalScore>pbp_df.awayFinalScore)\n",
    "id = id | ((pbp_df.awayTeam==pbp_df.offenseTeam) & (pbp_df.homeFinalScore<pbp_df.awayFinalScore))\n",
    "\n",
    "pbp_df['offenseWin'] = id.astype('bool')"
   ]
  },
  {
   "cell_type": "code",
   "execution_count": 16,
   "metadata": {},
   "outputs": [
    {
     "data": {
      "text/plain": [
       "count    662259.000000\n",
       "mean          1.895357\n",
       "std           2.297549\n",
       "min           0.000000\n",
       "25%           0.000000\n",
       "50%           0.000000\n",
       "75%           5.000000\n",
       "max           8.000000\n",
       "Name: driveOutcome, dtype: float64"
      ]
     },
     "execution_count": 16,
     "metadata": {},
     "output_type": "execute_result"
    }
   ],
   "source": [
    "pbp_df.driveOutcome.describe()"
   ]
  },
  {
   "cell_type": "markdown",
   "metadata": {},
   "source": [
    "## 0.2 pre-game odds"
   ]
  },
  {
   "cell_type": "code",
   "execution_count": null,
   "metadata": {},
   "outputs": [],
   "source": [
    "pbp_df['offenseFavoritePoints'] = 0.0"
   ]
  },
  {
   "cell_type": "markdown",
   "metadata": {},
   "source": [
    "# 1 Features / label creation"
   ]
  },
  {
   "cell_type": "markdown",
   "metadata": {},
   "source": [
    "## 1.1 Features / label for drive outcome"
   ]
  },
  {
   "cell_type": "code",
   "execution_count": 19,
   "metadata": {},
   "outputs": [],
   "source": [
    "num_fields_drive = [\n",
    "                'scoreDiff',\n",
    "                'adjScoreDiff', \n",
    "                'secondsremaininginperiod',\n",
    "                'remainingGameTime',\n",
    "                'yardsToGo',\n",
    "                'yardsFromGoal',\n",
    "                #'offenseFavoritePoints', # place holder\n",
    "                'offenseScore',\n",
    "                'remainingOffenseTOs',\n",
    "                'remainingDefenseTOs',\n",
    "             ]\n",
    "\n",
    "cat_fields_drive = [\n",
    "                'eventtypeid',\n",
    "                 'period',\n",
    "                 'down',\n",
    "                 'playDesign'\n",
    "             ]"
   ]
  },
  {
   "cell_type": "markdown",
   "metadata": {},
   "source": [
    "## (1) regular time"
   ]
  },
  {
   "cell_type": "code",
   "execution_count": 27,
   "metadata": {},
   "outputs": [
    {
     "name": "stdout",
     "output_type": "stream",
     "text": [
      "(501545, 31) (160714, 31)\n"
     ]
    }
   ],
   "source": [
    "id_train = (pbp_df.season < 2018)  #& (pbp_df.period <= 4) #| (win_df.week < 22)) \n",
    "id_test  = (pbp_df.season == 2018) #& (pbp_df.period <= 4) # & (~win_df['winProbability.before'].isnull())\n",
    "\n",
    "# None-StandardScaler version\n",
    "transform_pipeline_drive = ColumnTransformer(transformers=[\n",
    "                                            ('num', 'passthrough', num_fields_drive),\n",
    "                                            ('cat', OneHotEncoder(categories='auto'), cat_fields_drive)\n",
    "                                        ])\n",
    "\n",
    "features_train_drive = transform_pipeline_drive.fit_transform(pbp_df[id_train])\n",
    "features_test_drive  = transform_pipeline_drive.transform(pbp_df[id_test])\n",
    "\n",
    "feature_names_drive = num_fields_drive.copy()\n",
    "cat_one_hot_fields = list(transform_pipeline_drive.named_transformers_.cat.get_feature_names(input_features=cat_fields_drive))\n",
    "feature_names_drive.extend(cat_one_hot_fields)\n",
    "\n",
    "print(features_train_drive.shape, features_test_drive.shape)"
   ]
  },
  {
   "cell_type": "code",
   "execution_count": 28,
   "metadata": {},
   "outputs": [],
   "source": [
    "# classification label for the whole game\n",
    "label_train_drive = pbp_df.driveOutcome[id_train]\n",
    "label_test_drive  = pbp_df.driveOutcome[id_test]"
   ]
  },
  {
   "cell_type": "code",
   "execution_count": null,
   "metadata": {},
   "outputs": [],
   "source": [
    "model_RFC_drive = RandomForestClassifier(n_estimators=500, max_depth=15, min_samples_leaf=20, random_state=42)\n",
    "model_RFC_drive.fit(features_train_drive, label_train_drive) # features is from section 1.0\n",
    "#pred_d = model_RFC_drive.predict_proba(features)"
   ]
  },
  {
   "cell_type": "code",
   "execution_count": null,
   "metadata": {},
   "outputs": [],
   "source": [
    "# feature importance study\n",
    "feature_score = pd.DataFrame([feature_names_drive, model_RFC_drive.feature_importances_], index=['feature','importance']).transpose()\n",
    "feature_score.sort_values(by='importance', ascending=False)"
   ]
  },
  {
   "cell_type": "code",
   "execution_count": null,
   "metadata": {},
   "outputs": [],
   "source": [
    "# use drive outcome model to create new features \n",
    "# calculate expected score\n",
    "\n",
    "features_drive = transform_pipeline_drive.transform(pbp_df)\n",
    "\n",
    "if type(features_drive) == np.ndarray:\n",
    "    features_drive = pd.DataFrame(features_drive, columns=feature_names_drive, dtype=np.float)\n",
    "else:\n",
    "    features_drive = pd.DataFrame(features_drive.toarray(), columns=feature_names_drive, dtype=np.float)\n",
    "\n",
    "pred_d = model_RFC_drive.predict_proba(features_drive)\n",
    "\n",
    "pbp_df['expectedDriveScore'] = np.dot(pred_d, np.array([0,1,2,3,6,7,8,-2,-6]))\n",
    "pbp_df['expectedScoreDiff'] = pbp_df.driveStartScoreDiff + pbp_df.expectedDriveScore\n",
    "pbp_df['adjExpectedScoreDiff'] = pbp_df.expectedScoreDiff / np.power(pbp_df.remainingGameTime+1, 0.5)\n",
    "\n",
    "pbp_df['expectedExtraScore'] = pbp_df.driveStartScoreDiff - ( pbp_df.expectedDriveScore - pbp_df.scoreDiff)"
   ]
  },
  {
   "cell_type": "markdown",
   "metadata": {},
   "source": [
    "## (2) overtime "
   ]
  },
  {
   "cell_type": "code",
   "execution_count": 20,
   "metadata": {},
   "outputs": [],
   "source": [
    "# the features and label for overtime basically relies on drive outcome model!\n",
    "#\n",
    "# Due to limited data, no train/test split\n",
    "\n",
    "# None-StandardScaler version\n",
    "transform_pipeline_drive_o = ColumnTransformer(transformers=[\n",
    "                                            ('num', 'passthrough', num_fields_drive),\n",
    "                                            ('cat', OneHotEncoder(categories='auto'), cat_fields_drive)\n",
    "                                        ])\n",
    "\n",
    "id = (pbp_df.period>=5)\n",
    "features_drive_o  = transform_pipeline_drive_o.fit_transform(pbp_df[id])\n",
    "\n",
    "feature_names_drive_o = num_fields_drive.copy()\n",
    "cat_one_hot_fields = list(transform_pipeline_drive_o.named_transformers_.cat.get_feature_names(input_features=cat_fields_drive))\n",
    "feature_names_drive_o.extend(cat_one_hot_fields)\n",
    "\n",
    "if type(features_drive_o) == np.ndarray:\n",
    "    features_drive_o = pd.DataFrame(features_drive_o, columns=feature_names_drive_o, dtype=np.float)\n",
    "else:\n",
    "    features_drive_o = pd.DataFrame(features_drive_o.toarray(), columns=feature_names_drive_o, dtype=np.float)\n",
    "\n",
    "label_drive_o = pbp_df.driveOutcome[id]"
   ]
  },
  {
   "cell_type": "markdown",
   "metadata": {},
   "source": [
    "## 1.2 Features / label for regular time game outcome"
   ]
  },
  {
   "cell_type": "code",
   "execution_count": null,
   "metadata": {},
   "outputs": [],
   "source": [
    "id_train = (pbp_df.season < 2018) & (pbp_df.period <= 4) #| (win_df.week < 22)) \n",
    "id_test  = (pbp_df.season == 2018) & (pbp_df.period <= 4) # & (~win_df['winProbability.before'].isnull())\n",
    "id_championship = (pbp_df.gamecode == 1984143) & (pbp_df.period <= 4)\n",
    "\n",
    "num_fields = [\n",
    "                'scoreDiff',\n",
    "                'expectedExtraScore',\n",
    "                #'adjScoreDiff',\n",
    "                #'expectedScoreDiff',\n",
    "                #'expectedAdjScoreDiff',\n",
    "                #'expectedDriveScoreDiff',\n",
    "                #'driveStartScoreDiff',\n",
    "                #'expectedDriveScore',\n",
    "                'adjExpectedScoreDiff', \n",
    "                'secondsremaininginperiod',\n",
    "                'remainingGameTime',\n",
    "                'yardsToGo',\n",
    "                'yardsFromGoal',\n",
    "                #'offenseFavoritePoints', #place holder\n",
    "                'offenseScore',\n",
    "                'remainingOffenseTOs',\n",
    "                'remainingDefenseTOs',\n",
    "             ]\n",
    "\n",
    "cat_fields = [\n",
    "                'eventtypeid',\n",
    "                 'period',\n",
    "                 'down',\n",
    "                 'playDesign'\n",
    "             ] \n",
    "\n",
    "# None-StandardScaler version\n",
    "transform_pipeline = ColumnTransformer(transformers=[\n",
    "                                            ('num', 'passthrough', num_fields),\n",
    "                                            ('cat', OneHotEncoder(categories='auto'), cat_fields)\n",
    "                                        ])\n",
    "features_train = transform_pipeline.fit_transform(pbp_df[id_train])\n",
    "features_test  = transform_pipeline.transform(pbp_df[id_test])\n",
    "features_champion  = transform_pipeline.transform(pbp_df[id_champion])\n",
    "\n",
    "feature_names = num_fields.copy()\n",
    "cat_one_hot_fields = list(transform_pipeline.named_transformers_.cat.get_feature_names(input_features=cat_fields))\n",
    "feature_names.extend(cat_one_hot_fields)\n",
    "cat_one_hot_fields\n",
    "\n",
    "if type(features_train) == np.ndarray:\n",
    "    features_train = pd.DataFrame(features_train, columns=feature_names, dtype=np.float)\n",
    "    features_test  = pd.DataFrame(features_test,  columns=feature_names, dtype=np.float)\n",
    "    features_champion  = pd.DataFrame(features_champion,  columns=feature_names, dtype=np.float)\n",
    "else:\n",
    "    features_train = pd.DataFrame(features_train.toarray(), columns=feature_names, dtype=np.float)\n",
    "    features_test  = pd.DataFrame(features_test.toarray(),  columns=feature_names, dtype=np.float)\n",
    "    features_champion  = pd.DataFrame(features_champion.toarray(),  columns=feature_names, dtype=np.float)\n",
    "\n",
    "print(features_train.shape, features_test.shape, features_champion.shape)"
   ]
  },
  {
   "cell_type": "code",
   "execution_count": null,
   "metadata": {},
   "outputs": [],
   "source": [
    "# classification label for the whole game\n",
    "label_train = pbp_df.offenseWin[id_train]\n",
    "label_test  = pbp_df.offenseWin[id_test]\n",
    "label_champion  = pbp_df.offenseWin[id_championship]"
   ]
  },
  {
   "cell_type": "markdown",
   "metadata": {},
   "source": [
    "# 2 Model Study"
   ]
  },
  {
   "cell_type": "markdown",
   "metadata": {},
   "source": [
    "## 2.1 Regular time win-prob model"
   ]
  },
  {
   "cell_type": "code",
   "execution_count": 29,
   "metadata": {},
   "outputs": [],
   "source": [
    "# instantiate models\n",
    "folds = 5\n",
    "\n",
    "model_logistic = LogisticRegression(solver='lbfgs', fit_intercept=True, max_iter=10000, tol=1e-4, random_state=42)\n",
    "\n",
    "# depth of 10 seems better than 15\n",
    "model_RFC = RandomForestClassifier(n_estimators=100, max_depth=10, min_samples_leaf=10, random_state=42)\n",
    "\n",
    "model_SGD = SGDClassifier(loss='log', penalty=None, fit_intercept=True, max_iter=10000, tol=1e-4, random_state=42)\n",
    "\n",
    "model_SVC = LinearSVC(max_iter=10000, tol=1e-4, random_state=42)\n",
    "\n",
    "model_RFR = RandomForestRegressor(n_estimators=100, max_depth=20, min_samples_leaf=10, random_state=42)"
   ]
  },
  {
   "cell_type": "code",
   "execution_count": null,
   "metadata": {},
   "outputs": [],
   "source": [
    "from tensorflow.keras.wrappers.scikit_learn import KerasClassifier\n",
    "\n",
    "def create_DL_model():\n",
    "    model_DL = keras.models.Sequential([\n",
    "        keras.layers.Flatten(input_shape=[25,]),\n",
    "        keras.layers.Dropout(rate=0.2),\n",
    "        keras.layers.BatchNormalization(),\n",
    "        keras.layers.Dense(250, activation='elu', kernel_initializer=\"he_normal\"),\n",
    "        keras.layers.Dropout(rate=0.2),\n",
    "        keras.layers.BatchNormalization(),\n",
    "        keras.layers.Dense(150, activation='elu', kernel_initializer=\"he_normal\"),\n",
    "        keras.layers.Dropout(rate=0.2),\n",
    "        keras.layers.BatchNormalization(),\n",
    "        keras.layers.Dense(80, activation='elu', kernel_initializer=\"he_normal\"),\n",
    "        keras.layers.Dropout(rate=0.2),\n",
    "        keras.layers.BatchNormalization(),\n",
    "        keras.layers.Dense(30, activation='elu', kernel_initializer=\"he_normal\"),\n",
    "        keras.layers.Dropout(rate=0.2),\n",
    "        keras.layers.BatchNormalization(),\n",
    "        keras.layers.Dense(1, activation='sigmoid')\n",
    "    ])\n",
    "\n",
    "    # multi-nomial classification\n",
    "    #model.compile(loss='sparse_categorical_crossentropy', optimizer='sgd', metrics=['AUC'])\n",
    "\n",
    "    # binary classification\n",
    "    optimizer = keras.optimizers.SGD(learning_rate=0.01, decay=1e-4)\n",
    "    model_DL.compile(loss='binary_crossentropy', optimizer=optimizer, metrics=[['accuracy', 'AUC']])\n",
    "\n",
    "    #model_DL.summary()\n",
    "    \n",
    "    return model_DL\n",
    "\n",
    "model_DL = KerasClassifier(build_fn=create_DL_model, epochs=20, verbose=1)"
   ]
  },
  {
   "cell_type": "code",
   "execution_count": null,
   "metadata": {},
   "outputs": [],
   "source": [
    "def create_DL_2_model():\n",
    "    input_ = keras.layers.Input(shape=features_train_drive.shape[1:], name='input')\n",
    "    input_a = keras.layers.Input(shape=features_train_drive.shape[1:], name='input_a')\n",
    "\n",
    "    hidden_1 = keras.layers.BatchNormalization()(input_)\n",
    "\n",
    "    hidden_a1 = keras.layers.BatchNormalization()(input_a)\n",
    "    hidden_a2 = keras.layers.Dense(100, activation='elu', kernel_initializer=\"he_normal\")(hidden_a1)\n",
    "    hidden_a3 = keras.layers.BatchNormalization()(hidden_a2)\n",
    "    hidden_a4 = keras.layers.Dense(20, activation='elu', kernel_initializer=\"he_normal\")(hidden_a3)\n",
    "    hidden_a5 = keras.layers.BatchNormalization()(hidden_a4)\n",
    "\n",
    "    aux_output = keras.layers.Dense(9, name='aux_output', activation='softmax')(hidden_a5)\n",
    "\n",
    "    concat = keras.layers.concatenate([hidden_1, aux_output])\n",
    "\n",
    "\n",
    "    hidden_2 = keras.layers.Dense(250, activation='elu', kernel_initializer=\"he_normal\")(concat)\n",
    "    hidden_3 = keras.layers.BatchNormalization()(hidden_2)\n",
    "\n",
    "    hidden_4 = keras.layers.Dense(150, activation='elu', kernel_initializer=\"he_normal\")(hidden_3)\n",
    "    hidden_5 = keras.layers.BatchNormalization()(hidden_4)\n",
    "\n",
    "    hidden_6 = keras.layers.Dense(80, activation='elu', kernel_initializer=\"he_normal\")(hidden_5)\n",
    "    hidden_7 = keras.layers.BatchNormalization()(hidden_6)\n",
    "\n",
    "    hidden_8 = keras.layers.Dense(80, activation='elu', kernel_initializer=\"he_normal\")(hidden_7)\n",
    "    hidden_9 = keras.layers.BatchNormalization()(hidden_8)\n",
    "\n",
    "    #concat = keras.layers.concatenate([hidden_7, aux_output])\n",
    "\n",
    "    output = keras.layers.Dense(1, name='main_output', activation='sigmoid')(hidden_9)\n",
    "\n",
    "    model_DL_2 = keras.Model(inputs=[input_, input_a], outputs=[output, aux_output])\n",
    "\n",
    "    optimizer = keras.optimizers.SGD(learning_rate=0.01, decay=1e-4)\n",
    "    model_DL_2.compile(loss=['binary_crossentropy','sparse_categorical_crossentropy'], loss_weights=[0.90, 0.10], \n",
    "                    optimizer=optimizer, metrics=[['accuracy'],['accuracy']])\n",
    "\n",
    "    return model_DL_2\n",
    "\n",
    "model_DL_2 = KerasClassifier(build_fn=create_DL_2_model, epochs=70, verbose=1)"
   ]
  },
  {
   "cell_type": "code",
   "execution_count": null,
   "metadata": {},
   "outputs": [],
   "source": [
    "# Logistic regression model\n",
    "\n",
    "scores_logistic = cross_validate(model_logistic,\n",
    "    features_train,\n",
    "    label_train,\n",
    "    cv=folds,\n",
    "    scoring=(['recall','precision','f1','roc_auc']))\n",
    "print('Pass - Linear logistic regression (P/R/F1/ROC): {:.1%}  {:.1%}  {:.1%} {:.1%}'.format(scores_logistic['test_recall'].mean(), \n",
    "                                                                                   scores_logistic['test_precision'].mean(), \n",
    "                                                                                   scores_logistic['test_f1'].mean(),\n",
    "                                                                                  scores_logistic['test_roc_auc'].mean()))"
   ]
  },
  {
   "cell_type": "code",
   "execution_count": 30,
   "metadata": {},
   "outputs": [
    {
     "ename": "NameError",
     "evalue": "name 'features_train' is not defined",
     "output_type": "error",
     "traceback": [
      "\u001b[0;31m---------------------------------------------------------------------------\u001b[0m",
      "\u001b[0;31mNameError\u001b[0m                                 Traceback (most recent call last)",
      "\u001b[0;32m<ipython-input-30-39db6a4878c1>\u001b[0m in \u001b[0;36m<module>\u001b[0;34m\u001b[0m\n\u001b[1;32m      2\u001b[0m \u001b[0;34m\u001b[0m\u001b[0m\n\u001b[1;32m      3\u001b[0m scores_RFC = cross_validate(model_RFC,\n\u001b[0;32m----> 4\u001b[0;31m     \u001b[0mfeatures_train\u001b[0m\u001b[0;34m,\u001b[0m\u001b[0;34m\u001b[0m\u001b[0;34m\u001b[0m\u001b[0m\n\u001b[0m\u001b[1;32m      5\u001b[0m     \u001b[0mlabel_train\u001b[0m\u001b[0;34m,\u001b[0m\u001b[0;34m\u001b[0m\u001b[0;34m\u001b[0m\u001b[0m\n\u001b[1;32m      6\u001b[0m     \u001b[0mcv\u001b[0m\u001b[0;34m=\u001b[0m\u001b[0mfolds\u001b[0m\u001b[0;34m,\u001b[0m\u001b[0;34m\u001b[0m\u001b[0;34m\u001b[0m\u001b[0m\n",
      "\u001b[0;31mNameError\u001b[0m: name 'features_train' is not defined"
     ]
    }
   ],
   "source": [
    "# Random forest classification\n",
    "\n",
    "scores_RFC = cross_validate(model_RFC,\n",
    "    features_train,\n",
    "    label_train,\n",
    "    cv=folds,\n",
    "    scoring=(['recall','precision','f1','roc_auc']))\n",
    "print('Win Probability - Random Forest Classifier (P/R/F1/ROC): {:.2%}  {:.2%}  {:.2%} {:.2%}'.format(scores_RFC['test_recall'].mean(), \n",
    "                                                                                scores_RFC['test_precision'].mean(), \n",
    "                                                                                scores_RFC['test_f1'].mean(),\n",
    "                                                                                scores_RFC['test_roc_auc'].mean()))"
   ]
  },
  {
   "cell_type": "code",
   "execution_count": null,
   "metadata": {},
   "outputs": [],
   "source": [
    "# Deep learning classification\n",
    "\n",
    "scores_DL = cross_validate(model_DL,\n",
    "    features_train,\n",
    "    label_train,\n",
    "    cv=folds,\n",
    "    scoring=(['recall','precision','f1','roc_auc']))\n",
    "print('Win Probability - Random Forest Classifier (P/R/F1/ROC): {:.2%}  {:.2%}  {:.2%} {:.2%}'.format(scores_DL['test_recall'].mean(), \n",
    "                                                                                scores_DL['test_precision'].mean(), \n",
    "                                                                                scores_DL['test_f1'].mean(),\n",
    "                                                                                scores_DL['test_roc_auc'].mean()))"
   ]
  },
  {
   "cell_type": "code",
   "execution_count": null,
   "metadata": {},
   "outputs": [],
   "source": [
    "# Deep learning classification\n",
    "\n",
    "scores_DL2 = cross_validate(model_DL_2,\n",
    "    features_train,\n",
    "    label_train,\n",
    "    cv=folds,\n",
    "    scoring=(['recall','precision','f1','roc_auc']))\n",
    "print('Win Probability - Random Forest Classifier (P/R/F1/ROC): {:.2%}  {:.2%}  {:.2%} {:.2%}'.format(scores_DL2['test_recall'].mean(), \n",
    "                                                                                scores_DL2['test_precision'].mean(), \n",
    "                                                                                scores_DL2['test_f1'].mean(),\n",
    "                                                                                scores_DL2['test_roc_auc'].mean()))"
   ]
  },
  {
   "cell_type": "code",
   "execution_count": null,
   "metadata": {},
   "outputs": [],
   "source": [
    "# feature importance study\n",
    "model_RFC.fit(features_train, label_train)\n",
    "feature_score = pd.DataFrame([feature_names, model_RFC.feature_importances_], index=['feature','importance']).transpose()\n",
    "feature_score.sort_values(by='importance', ascending=False)"
   ]
  },
  {
   "cell_type": "markdown",
   "metadata": {},
   "source": [
    "## 2.2 drive outcome model -  regular time"
   ]
  },
  {
   "cell_type": "code",
   "execution_count": 31,
   "metadata": {},
   "outputs": [],
   "source": [
    "# instantiate models\n",
    "folds = 5\n",
    "\n",
    "model_RFC_d = RandomForestClassifier(n_estimators=100, max_depth=15, min_samples_leaf=10, random_state=42)\n",
    "\n",
    "model_logistic_d = OneVsRestClassifier(LogisticRegression(solver='lbfgs', fit_intercept=True, max_iter=5000, tol=1e-3, random_state=42))"
   ]
  },
  {
   "cell_type": "code",
   "execution_count": 33,
   "metadata": {},
   "outputs": [
    {
     "data": {
      "text/plain": [
       "0.906806898382756"
      ]
     },
     "execution_count": 33,
     "metadata": {},
     "output_type": "execute_result"
    }
   ],
   "source": [
    "model_RFC_d.fit(features_train_drive, label_train_drive)\n",
    "train_probs = pd.DataFrame(model_RFC_d.predict_proba(features_train_drive))\n",
    "roc_auc_score(label_train_drive, train_probs, multi_class='ovr')"
   ]
  },
  {
   "cell_type": "code",
   "execution_count": 41,
   "metadata": {},
   "outputs": [
    {
     "name": "stdout",
     "output_type": "stream",
     "text": [
      "<class 'pandas.core.frame.DataFrame'>\n",
      "Int64Index: 662259 entries, 0 to 662258\n",
      "Data columns (total 43 columns):\n",
      " #   Column                     Non-Null Count   Dtype  \n",
      "---  ------                     --------------   -----  \n",
      " 0   season                     662259 non-null  Int64  \n",
      " 1   week                       662259 non-null  Int64  \n",
      " 2   gamecode                   662259 non-null  Int64  \n",
      " 3   eventtypeid                662259 non-null  Int64  \n",
      " 4   homeTeam                   662259 non-null  Int64  \n",
      " 5   awayTeam                   662259 non-null  Int64  \n",
      " 6   offenseTeam                662259 non-null  Int64  \n",
      " 7   defenseTeam                662259 non-null  Int64  \n",
      " 8   playid                     662259 non-null  Int64  \n",
      " 9   driveid                    662259 non-null  Int64  \n",
      " 10  period                     662259 non-null  Int64  \n",
      " 11  secondsremaininginperiod   662259 non-null  Int64  \n",
      " 12  halfGame                   662259 non-null  Int64  \n",
      " 13  down                       662259 non-null  Int64  \n",
      " 14  yardsToGo                  662259 non-null  float64\n",
      " 15  yardsFromGoal              662259 non-null  float64\n",
      " 16  awayScore                  662259 non-null  Int64  \n",
      " 17  homeScore                  662259 non-null  Int64  \n",
      " 18  awayScoreAfter             662259 non-null  Int64  \n",
      " 19  homeScoreAfter             662259 non-null  Int64  \n",
      " 20  homeFinalScore             662259 non-null  Int64  \n",
      " 21  awayFinalScore             662259 non-null  Int64  \n",
      " 22  offenseScore               662259 non-null  Int64  \n",
      " 23  playtypeid                 662255 non-null  Int64  \n",
      " 24  playName                   662259 non-null  object \n",
      " 25  offenseTimeout             662259 non-null  Int64  \n",
      " 26  defenseTimeout             662259 non-null  Int64  \n",
      " 27  remainingGameTime          662259 non-null  Int64  \n",
      " 28  scoreDiff                  662259 non-null  float64\n",
      " 29  scoreDiffAfter             662259 non-null  float64\n",
      " 30  adjScoreDiff               662259 non-null  float64\n",
      " 31  homeTO                     662259 non-null  int64  \n",
      " 32  awayTO                     662259 non-null  int64  \n",
      " 33  remainingHomeTOs           662259 non-null  int64  \n",
      " 34  remainingAwayTOs           662259 non-null  int64  \n",
      " 35  remainingOffenseTOs        662259 non-null  float64\n",
      " 36  remainingDefenseTOs        662259 non-null  float64\n",
      " 37  playDesign                 662259 non-null  int64  \n",
      " 38  driveScoreDiffChange       662259 non-null  float64\n",
      " 39  driveOutcome               662259 non-null  int64  \n",
      " 40  driveStartScoreDiff        662259 non-null  float64\n",
      " 41  period_start_offense_team  662259 non-null  Int64  \n",
      " 42  offenseWin                 662259 non-null  bool   \n",
      "dtypes: Int64(26), bool(1), float64(9), int64(6), object(1)\n",
      "memory usage: 234.3+ MB\n"
     ]
    }
   ],
   "source": [
    "label_train_drive.describe()\n",
    "pbp_df.info()"
   ]
  },
  {
   "cell_type": "code",
   "execution_count": null,
   "metadata": {},
   "outputs": [],
   "source": [
    "# Logistic regression model\n",
    "\n",
    "scores_logistic_d = cross_validate(model_logistic_d,\n",
    "    features_train_drive,\n",
    "    label_train_drive, \n",
    "    cv=folds,\n",
    "    scoring=(['recall_micro','precision_micro','f1_micro','roc_auc_ovr_weighted']))\n",
    "print('Drive outcome - logistic regression Classifier (P/R/F1/ROC): {:.1%}  {:.1%}  {:.1%} {:.1%}'.format(scores_logistic_d['test_recall_micro'].mean(), \n",
    "                                                                                scores_logistic_d['test_precision_micro'].mean(), \n",
    "                                                                                scores_logistic_d['test_f1_micro'].mean(),\n",
    "                                                                                scores_logistic_d['test_roc_auc_ovr_weighted'].mean()))"
   ]
  },
  {
   "cell_type": "code",
   "execution_count": 32,
   "metadata": {},
   "outputs": [
    {
     "name": "stdout",
     "output_type": "stream",
     "text": [
      "Drive outcome - Random Forest Classifier (P/R/F1/ROC): 68.0%  68.0%  68.0% 81.2%\n"
     ]
    }
   ],
   "source": [
    "# Random forest classification\n",
    "\n",
    "scores_RFC_d = cross_validate(model_RFC_d,\n",
    "    features_train_drive,\n",
    "    label_train_drive,\n",
    "    cv=folds,\n",
    "    scoring=(['recall_micro','precision_micro','f1_micro','roc_auc_ovr_weighted']))\n",
    "print('Drive outcome - Random Forest Classifier (P/R/F1/ROC): {:.1%}  {:.1%}  {:.1%} {:.1%}'.format(scores_RFC_d['test_recall_micro'].mean(), \n",
    "                                                                                scores_RFC_d['test_precision_micro'].mean(), \n",
    "                                                                                scores_RFC_d['test_f1_micro'].mean(),\n",
    "                                                                                scores_RFC_d['test_roc_auc_ovr_weighted'].mean()))\n",
    "#sorted(SCORERS.keys()) "
   ]
  },
  {
   "cell_type": "code",
   "execution_count": null,
   "metadata": {},
   "outputs": [],
   "source": [
    "# feature importance study\n",
    "model_RFC_d.fit(features_train_drive, label_train_drive)\n",
    "feature_score = pd.DataFrame([feature_names_drive, model_RFC_d.feature_importances_], index=['feature','importance']).transpose()\n",
    "feature_score.sort_values(by='importance', ascending=False)"
   ]
  },
  {
   "cell_type": "markdown",
   "metadata": {},
   "source": [
    "## 2.3 drive outcome model - overtime"
   ]
  },
  {
   "cell_type": "code",
   "execution_count": 24,
   "metadata": {},
   "outputs": [],
   "source": [
    "# instantiate models\n",
    "folds = 4\n",
    "\n",
    "model_RFC_d_o = RandomForestClassifier(n_estimators=100, max_depth=10, min_samples_leaf=10, random_state=42)\n",
    "\n",
    "model_logistic_d_o = OneVsRestClassifier(LogisticRegression(solver='lbfgs', fit_intercept=True, max_iter=5000, tol=1e-3, random_state=42))"
   ]
  },
  {
   "cell_type": "code",
   "execution_count": 26,
   "metadata": {},
   "outputs": [
    {
     "name": "stdout",
     "output_type": "stream",
     "text": [
      "Drive outcome - logistic regression Classifier (P/R/F1/ROC): 48.0%  48.0%  48.0% 75.5%\n"
     ]
    }
   ],
   "source": [
    "scores_logistic_d_o = cross_validate(model_logistic_d,\n",
    "    features_drive_o,\n",
    "    label_drive_o, \n",
    "    cv=folds,\n",
    "    scoring=(['recall_micro','precision_micro','f1_micro','roc_auc_ovr_weighted']))\n",
    "print('Drive outcome - logistic regression Classifier (P/R/F1/ROC): {:.1%}  {:.1%}  {:.1%} {:.1%}'.format(scores_logistic_d_o['test_recall_micro'].mean(), \n",
    "                                                                                scores_logistic_d_o['test_precision_micro'].mean(), \n",
    "                                                                                scores_logistic_d_o['test_f1_micro'].mean(),\n",
    "                                                                                scores_logistic_d_o['test_roc_auc_ovr_weighted'].mean()))"
   ]
  },
  {
   "cell_type": "code",
   "execution_count": 25,
   "metadata": {},
   "outputs": [
    {
     "name": "stdout",
     "output_type": "stream",
     "text": [
      "Overtime drive outcome - Random Forest Classifier (P/R/F1/ROC): 51.8%  51.8%  51.8% 79.6%\n"
     ]
    }
   ],
   "source": [
    "# Random forest classification\n",
    "\n",
    "scores_RFC_d_o = cross_validate(model_RFC_d_o,\n",
    "    features_drive_o,\n",
    "    label_drive_o,\n",
    "    cv=folds,\n",
    "    scoring=(['recall_micro','precision_micro','f1_micro','roc_auc_ovr_weighted']))\n",
    "print('Overtime drive outcome - Random Forest Classifier (P/R/F1/ROC): {:.1%}  {:.1%}  {:.1%} {:.1%}'.format(scores_RFC_d_o['test_recall_micro'].mean(), \n",
    "                                                                                scores_RFC_d_o['test_precision_micro'].mean(), \n",
    "                                                                                scores_RFC_d_o['test_f1_micro'].mean(),\n",
    "                                                                                scores_RFC_d_o['test_roc_auc_ovr_weighted'].mean()))\n",
    "#sorted(SCORERS.keys()) "
   ]
  },
  {
   "cell_type": "markdown",
   "metadata": {},
   "source": [
    "# 3 Model Prediction"
   ]
  },
  {
   "cell_type": "markdown",
   "metadata": {},
   "source": [
    "## 3.1 Regular time model"
   ]
  },
  {
   "cell_type": "markdown",
   "metadata": {},
   "source": [
    "### 3.1.1 ML model"
   ]
  },
  {
   "cell_type": "code",
   "execution_count": null,
   "metadata": {},
   "outputs": [],
   "source": [
    "model_RFC.fit(features_train, label_train)"
   ]
  },
  {
   "cell_type": "code",
   "execution_count": null,
   "metadata": {},
   "outputs": [],
   "source": [
    "pred_p = model_RFC.predict_proba(features_train)[:,1]\n",
    "pred = model_RFC.predict(features_train)\n",
    "print(roc_auc_score(label_train, pred_p) )\n",
    "\n",
    "pred_p = model_RFC.predict_proba(features_test)[:,1]\n",
    "pred = model_RFC.predict(features_test)\n",
    "print(roc_auc_score(label_test, pred_p) )"
   ]
  },
  {
   "cell_type": "code",
   "execution_count": null,
   "metadata": {},
   "outputs": [],
   "source": [
    "print(f'mse: {mean_squared_error(label_test, pred_p):.3}')#' {mean_squared_error(label_test, legacy_prob):.3}')\n",
    "print(f'mae: {mean_absolute_error(label_test, pred_p):.3}')# {mean_absolute_error(label_test, legacy_prob):.3}')\n",
    "print(f\"roc_auc: {roc_auc_score(label_test, pred_p):.3}\") # \\{roc_auc_score(label_test, legacy_prob):.3}\")\n",
    "print(f\"accuracy: {accuracy_score(label_test, pred):.3}\")# {accuracy_score(label_test, legacy_prob>0.5):.3}\")\n",
    "print(f\"precision: {precision_score(label_test, pred):.3}\")# {precision_score(label_test, legacy_prob>0.5):.3}\")\n",
    "print(f\"recall: {recall_score(label_test, pred):.3}\")# {recall_score(label_test, legacy_prob>0.5):.3}\")\n",
    "print(f\"f1: {f1_score(label_test, pred):.3}\")# {f1_score(label_test, legacy_prob>0.5):.3}\")"
   ]
  },
  {
   "cell_type": "code",
   "execution_count": null,
   "metadata": {},
   "outputs": [],
   "source": [
    "# plot one game prediciton results, bowl game of 2017!"
   ]
  },
  {
   "cell_type": "markdown",
   "metadata": {},
   "source": [
    "### 3.1.2 DL model"
   ]
  },
  {
   "cell_type": "code",
   "execution_count": null,
   "metadata": {},
   "outputs": [],
   "source": [
    "#model_DL = KerasClassifier(build_fn=create_DL_model, epochs=70, verbose=1)\n",
    "model_DL=create_DL_model()\n",
    "\n",
    "history = model_DL.fit(features_train, label_train, epochs=70, validation_data=(features_test, label_test) )"
   ]
  },
  {
   "cell_type": "code",
   "execution_count": null,
   "metadata": {},
   "outputs": [],
   "source": [
    "pred_p = model_DL.predict_proba(features_train)\n",
    "pred   = model_DL.predict_classes(features_train)\n",
    "print(roc_auc_score(label_train, pred_p) )\n",
    "\n",
    "pred_p = model_DL.predict_proba(features_test)\n",
    "pred   = model_DL.predict_classes(features_test)\n",
    "print(roc_auc_score(label_test, pred_p) )"
   ]
  },
  {
   "cell_type": "code",
   "execution_count": null,
   "metadata": {},
   "outputs": [],
   "source": [
    "print(f'mse: {mean_squared_error(label_test, pred_p):.3}')#' {mean_squared_error(label_test, legacy_prob):.3}')\n",
    "print(f'mae: {mean_absolute_error(label_test, pred_p):.3}')# {mean_absolute_error(label_test, legacy_prob):.3}')\n",
    "print(f\"roc_auc: {roc_auc_score(label_test, pred_p):.3}\") # \\{roc_auc_score(label_test, legacy_prob):.3}\")\n",
    "print(f\"accuracy: {accuracy_score(label_test, pred):.3}\")# {accuracy_score(label_test, legacy_prob>0.5):.3}\")\n",
    "print(f\"precision: {precision_score(label_test, pred):.3}\")# {precision_score(label_test, legacy_prob>0.5):.3}\")\n",
    "print(f\"recall: {recall_score(label_test, pred):.3}\")# {recall_score(label_test, legacy_prob>0.5):.3}\")\n",
    "print(f\"f1: {f1_score(label_test, pred):.3}\")# {f1_score(label_test, legacy_prob>0.5):.3}\")"
   ]
  },
  {
   "cell_type": "markdown",
   "metadata": {},
   "source": [
    "## 3.2 Overtime model"
   ]
  },
  {
   "cell_type": "code",
   "execution_count": null,
   "metadata": {},
   "outputs": [],
   "source": [
    "# function to simulate outcomes of OT\n",
    "#\n",
    "# input: features for each play of one game, starting offense team id, starting defense team id, driveOutcomes\n",
    "# team_1: home_team, team_2: away_team\n",
    "\n",
    "def OvertimeWinProbabilityCalculation_CFB(features, model_drive, drive_outcomes):\n",
    "       \n",
    "    samples = 1000\n",
    "    \n",
    "    winProb = []\n",
    "\n",
    "    for index,row in features.iterrows():\n",
    "        \n",
    "        offense_team = row.offense_team\n",
    "        defense_team = row.defense_team\n",
    "        start_team = row.start_team\n",
    "        home_team = row.home_team\n",
    "        start_score_diff = row.start_score_diff\n",
    "        row.drop(['offense_team','start_team', 'home_team','defense_team','start_score_diff'], inplace=True)\n",
    "        \n",
    "        play_2_probs = createDriveOutcomeDistributionsAtSwitch(row, model_drive)\n",
    "        \n",
    "        start_time = time.time()\n",
    "        \n",
    "        team_1_wins = 0\n",
    "        team_1_score = 0\n",
    "        team_2_score = 0\n",
    "        \n",
    "        if (offense_team == start_team): \n",
    "            x = np.array(row).reshape(1,-1)\n",
    "            play_1_prob = model_drive.predict_proba(x)[0, :]\n",
    "\n",
    "            for i in range(samples):\n",
    "                re = simulatedOutcome_1(home_team, offense_team, defense_team, team_1_score, team_2_score, model_drive, \n",
    "                                        play_1_prob, play_2_probs, drive_outcomes)\n",
    "                \n",
    "                if re[0]:\n",
    "                    team_1_wins += 1\n",
    "                elif re[1] == re[2]:\n",
    "                    team_1_wins += 0.5\n",
    "                    \n",
    "        else:\n",
    "            \n",
    "            if offense_team == home_team:\n",
    "                team_1_score = start_score_diff\n",
    "            else:\n",
    "                team_2_score = start_score_diff\n",
    "            \n",
    "            # play_2_prob now needs to be conditional on current score difference!\n",
    "            x = np.array(row).reshape(1,-1)\n",
    "            play_2_prob = model_drive.predict_proba(x)[0, :]\n",
    "            \n",
    "            for i in range(samples):\n",
    "                re = simulatedOutcome_2(home_team, offense_team, team_1_score, team_2_score, model_drive, play_2_prob, drive_outcomes)\n",
    "                \n",
    "                if re[0]:\n",
    "                    team_1_wins += 1\n",
    "                elif re[1] == re[2] :\n",
    "                    team_1_wins += 0.5\n",
    "            \n",
    "        # This part is to address 2-point conversion after certain periods past in OT\n",
    "\n",
    "        \n",
    "        wp = np.sum(team_1_wins) / float(samples)\n",
    "        \n",
    "        #print(f\"--- {(time.time() - start_time)} seconds, {wp} ---\") \n",
    "        #print('final:', team_1_wins, samples)\n",
    "        winProb.append( wp )\n",
    "      \n",
    "    return winProb"
   ]
  },
  {
   "cell_type": "code",
   "execution_count": null,
   "metadata": {},
   "outputs": [],
   "source": [
    "def createDriveOutcomeDistributionsAtSwitch(feature, model_drive):\n",
    "    probs = {}\n",
    "    for score_diff in (-8,-7,-6,-3, 0):\n",
    "        # create a basic starting play for team 2\n",
    "        feature_2 = feature.copy()\n",
    "        \n",
    "        feature_2.scoreDiff = score_diff\n",
    "        feature_2.offenseScore = feature_2.offenseScore + score_diff\n",
    "        feature_2.adjScoreDiff = feature_2.scoreDiff / np.power(feature_2.remainingGameTime+1, 0.5)\n",
    "        feature_2.yardsToGo = 10\n",
    "        feature_2.yardsFromGoal = 25\n",
    "        #feature_2.offenseFavoritePoints = -feature.offenseFavoritePoints\n",
    "        feature_2.remainingOffenseTOs = feature.remainingDefenseTOs    #This feature is difficult to predict by the end of 1st play, unless we skip it! \n",
    "        feature_2.remainingDefenseTOs = feature.remainingOffenseTOs\n",
    "        feature_2['down_0'] = 0\n",
    "        feature_2['down_1'] = 1\n",
    "        feature_2['down_2'] = 0\n",
    "        feature_2['down_3'] = 0\n",
    "        feature_2['down_4'] = 0\n",
    "        feature_2['playDesign_0'] = 1\n",
    "        feature_2['playDesign_1'] = 0\n",
    "        feature_2['playDesign_2'] = 0\n",
    "        feature_2['playDesign_3'] = 0\n",
    "        \n",
    "        x = np.array(feature_2).reshape(1,-1)\n",
    "        play_2_prob = model_drive.predict_proba(x)[0, :]\n",
    "        probs[score_diff] = play_2_prob\n",
    "    \n",
    "    return probs\n",
    "\n",
    "def updateTeamScoreByDriveOutcome(re, home_team, offense_team, home_team_score, away_team_score):\n",
    "    if re in (3,):  # field goal\n",
    "        if home_team == offense_team:\n",
    "            home_team_score = home_team_score + 3\n",
    "        else:\n",
    "            away_team_score = away_team_score + 3\n",
    "    elif re in [4]:  # touch-down\n",
    "        if home_team == offense_team:\n",
    "            home_team_score = home_team_score + 6\n",
    "        else:\n",
    "            away_team_score = away_team_score + 6\n",
    "    elif re in [5]:  # touch-down\n",
    "        if home_team == offense_team:\n",
    "            home_team_score = home_team_score + 7\n",
    "        else:\n",
    "            away_team_score = away_team_score + 7\n",
    "    elif re in [6]:  # touch-down\n",
    "        if home_team == offense_team:\n",
    "            home_team_score = home_team_score + 8\n",
    "        else:\n",
    "            away_team_score = away_team_score + 8\n",
    "    elif re != 0:\n",
    "        print(\"Warning: un-tracked drive-outcome \", re)\n",
    "\n",
    "    return (home_team_score, away_team_score)"
   ]
  },
  {
   "cell_type": "code",
   "execution_count": null,
   "metadata": {},
   "outputs": [],
   "source": [
    "# this is for team 1\n",
    "\n",
    "def simulatedOutcome_1(home_team, offense_team, defense_team, team_1_score, team_2_score, model_drive, \n",
    "                       play_1_prob, play_2_probs, drive_outcomes):\n",
    "    \n",
    "    re = np.random.multinomial(n=1, pvals=play_1_prob) # This should just be the index of available action\n",
    "    re = drive_outcomes[ np.where(re)[0][0] ]\n",
    "    \n",
    "    if re in [1,2,7,8]: # safety or defense TD\n",
    "\n",
    "        if home_team == offense_team:\n",
    "            team_2_score += 2\n",
    "            #print('team 1 turn over lose!')\n",
    "            return (False, team_1_score, team_2_score)\n",
    "        else:\n",
    "            team_1_score += 2\n",
    "            #print('team 2 turn over lose!')\n",
    "            return (True, team_1_score, team_2_score)\n",
    "    else:\n",
    "        team_1_score, team_2_score = updateTeamScoreByDriveOutcome(re, home_team, offense_team,\n",
    "                                                                                  team_1_score, team_2_score)\n",
    "        \n",
    "        if home_team == offense_team:\n",
    "            scoreDiff = team_2_score - team_1_score\n",
    "        else:\n",
    "            scoreDiff = team_1_score - team_2_score\n",
    "            \n",
    "        play_2_prob = play_2_probs[scoreDiff]\n",
    "\n",
    "        return simulatedOutcome_2(home_team, defense_team, team_1_score, team_2_score, model_drive, play_2_prob, drive_outcomes)"
   ]
  },
  {
   "cell_type": "code",
   "execution_count": null,
   "metadata": {},
   "outputs": [],
   "source": [
    "# this is for team 2\n",
    "\n",
    "def simulatedOutcome_2(home_team, offense_team, team_1_score, team_2_score, model_drive, play_2_prob, drive_outcomes):\n",
    "    \n",
    "    re = np.random.multinomial(n=1, pvals=play_2_prob)\n",
    "    re = drive_outcomes[ np.where(re)[0][0] ]\n",
    "    \n",
    "    if re in [1,2,7,8]: # safety or defense TD\n",
    "        if home_team == offense_team:\n",
    "            team_2_score += 2\n",
    "            return (False, team_1_score, team_2_score)\n",
    "        else:\n",
    "            team_1_score += 2\n",
    "            return (True, team_1_score, team_2_score)\n",
    "    else:\n",
    "        team_1_score, team_2_score = updateTeamScoreByDriveOutcome(re, home_team, offense_team,\n",
    "                                                                          team_1_score, team_2_score)        \n",
    "        #print(re, team_1_score, team_2_score)\n",
    "            \n",
    "        if team_1_score > team_2_score:\n",
    "            return (True, team_1_score, team_2_score)\n",
    "        else:\n",
    "            return (False, team_1_score, team_2_score)"
   ]
  },
  {
   "cell_type": "code",
   "execution_count": null,
   "metadata": {},
   "outputs": [],
   "source": [
    "# 1 OT period: 1530292\n",
    "# 2 OT periods: 1526278\n",
    "# 3 OT periods: 1526992\n",
    "# 4 OT: 1526113\n",
    "# 5: 2026734\n",
    "# 7: 2005720\n",
    "pbp_df.loc[(pbp_df.period>6) & (pbp_df.season==2018), 'gamecode'].unique()"
   ]
  },
  {
   "cell_type": "code",
   "execution_count": null,
   "metadata": {},
   "outputs": [],
   "source": [
    "np.random.seed(0)\n",
    "\n",
    "OT_gamecode = [1530292, 1526278, 1526992, 1526113]\n",
    "#OT_gamecode = [1526113]\n",
    "\n",
    "predictions=[]\n",
    "offenseWin=[]\n",
    "\n",
    "\n",
    "fig, subplots = plt.subplots(2,2)\n",
    "fig.set_figheight(8)\n",
    "fig.set_figwidth(16)\n",
    "\n",
    "drive_outcomes = np.sort(label_drive_o.unique())\n",
    "model_RFC_d_o.fit(features_drive_o, label_drive_o) \n",
    "\n",
    "for i, game in enumerate(OT_gamecode):\n",
    "    \n",
    "    id = (pbp_df.gamecode==game) & (pbp_df.period>=5)\n",
    "    features  = transform_pipeline_drive_o.transform(pbp_df[id])\n",
    "\n",
    "    if type(features) == np.ndarray:\n",
    "        features = pd.DataFrame(features, columns=feature_names_drive_o, dtype=np.float)\n",
    "    else:\n",
    "        features = pd.DataFrame(features.toarray(), columns=feature_names_drive_o, dtype=np.float)\n",
    "    \n",
    "    print(i, game, np.sum(id))\n",
    "    \n",
    "    fs = features.copy()   # very important to make sure this is a copy!\n",
    "    fs['offense_team'] = pbp_df[id].offenseTeam.values\n",
    "    fs['defense_team'] = pbp_df[id].defenseTeam.values\n",
    "    fs['home_team'] = pbp_df[id].homeTeam.values\n",
    "    fs['start_score_diff'] = pbp_df[id].driveStartScoreDiff.values    \n",
    "    fs['start_team'] = pbp_df.period_start_offense_team[id].values\n",
    "    \n",
    "    pred = OvertimeWinProbabilityCalculation_CFB(fs, model_RFC_d_o, drive_outcomes)\n",
    "    \n",
    "    predictions.extend(pred)\n",
    "    offenseWin.extend(pbp_df.loc[id,'offenseWin'])\n",
    "    \n",
    "    plot = subplots[np.divmod(i, 2)]\n",
    "    plot.set_ylim([0.0, 1.0])\n",
    "    plot.set_title(game)\n",
    "    plot.plot(pred, marker='o', label='simulation')\n",
    "    plot.plot([0.5 for _ in pred], linestyle='--')\n",
    "    plot.legend()"
   ]
  },
  {
   "cell_type": "code",
   "execution_count": null,
   "metadata": {},
   "outputs": [],
   "source": [
    "OT_gamecode "
   ]
  },
  {
   "cell_type": "code",
   "execution_count": null,
   "metadata": {},
   "outputs": [],
   "source": [
    "np.random.seed(0)\n",
    "\n",
    "OT_gamecode = OT_gamecode = pbp_df[pbp_df.period>4].gamecode.unique()\n",
    "\n",
    "predictions=[] \n",
    "\n",
    "for i, game in enumerate(OT_gamecode):\n",
    "    \n",
    "    id = (pbp_df.gamecode==game) & (pbp_df.period>=5)\n",
    "    features  = transform_pipeline_drive_o.transform(pbp_df[id])\n",
    "\n",
    "    if type(features) == np.ndarray:\n",
    "        features = pd.DataFrame(features, columns=feature_names_drive_o, dtype=np.float)\n",
    "    else:\n",
    "        features = pd.DataFrame(features.toarray(), columns=feature_names_drive_o, dtype=np.float)\n",
    "    \n",
    "    print(i, game, np.sum(id))\n",
    "    \n",
    "    fs = features.copy()   # very important to make sure this is a copy!\n",
    "    fs['offense_team'] = pbp_df[id].offenseTeam.values\n",
    "    fs['defense_team'] = pbp_df[id].defenseTeam.values\n",
    "    fs['home_team'] = pbp_df[id].homeTeam.values\n",
    "    fs['start_score_diff'] = pbp_df[id].driveStartScoreDiff.values    \n",
    "    fs['start_team'] = pbp_df.period_start_offense_team[id].values\n",
    "    \n",
    "    pred = OvertimeWinProbabilityCalculation_CFB(fs, model_RFC_d_o, drive_outcomes)\n",
    "    \n",
    "    predictions.extend(pred)"
   ]
  },
  {
   "cell_type": "code",
   "execution_count": null,
   "metadata": {},
   "outputs": [],
   "source": [
    "print(f'mse: {mean_squared_error(pbp_df.offenseWin[pbp_df.period>4],  predictions):.3} ')\n",
    "print(f'mae: {mean_absolute_error(pbp_df.offenseWin[pbp_df.period>4], predictions):.3} ')\n",
    "print(f\"roc_auc: {roc_auc_score(pbp_df.offenseWin[pbp_df.period>4],   predictions):.3} \")"
   ]
  },
  {
   "cell_type": "code",
   "execution_count": null,
   "metadata": {},
   "outputs": [],
   "source": [
    "label_drive_o"
   ]
  },
  {
   "cell_type": "markdown",
   "metadata": {},
   "source": [
    "## 3.3 Overtime model beyond 4th OT period"
   ]
  },
  {
   "cell_type": "code",
   "execution_count": null,
   "metadata": {},
   "outputs": [],
   "source": [
    "# to be implemented due to lack of new season data\n",
    "\n",
    "id = pbp_df.playDesign == 2\n",
    "np.where(id)\n",
    "\n",
    "conversionSuccess = (pbp_df[id].scoreDiffAfter - pbp_df[id].scoreDiff) == 2\n",
    "conversionSuccessRate = np.sum(conversionSuccess)/np.sum(id)\n",
    "\n",
    "print(conversionSuccessRate)"
   ]
  },
  {
   "cell_type": "code",
   "execution_count": null,
   "metadata": {},
   "outputs": [],
   "source": [
    "pbp_df[pbp_df.gamecode==2026734]\n",
    "#pbp_df.columns"
   ]
  },
  {
   "cell_type": "markdown",
   "metadata": {},
   "source": [
    "## 3.3 2017 season championship game: reg time + overtime"
   ]
  },
  {
   "cell_type": "code",
   "execution_count": null,
   "metadata": {},
   "outputs": [],
   "source": [
    "#id = (pbp_df.season==2017) & (pbp_df.week==19)\n",
    "id_reg = (pbp_df.gamecode == 1984143) & (pbp_df.period <= 4)\n",
    "id_ot  = (pbp_df.gamecode == 1984143) & (pbp_df.period >= 5)\n",
    "print(sum(id_reg), sum(id_ot))\n",
    "\n",
    "pred_champion = model_RFC.predict_proba(features_champion)[:,1]\n",
    "\n",
    "gameData = pbp_df[id_champion].copy()\n",
    "gameTime = (gameData.period - 1) * 900 + (900 - gameData.secondsremaininginperiod)\n",
    "winProb = pred_champion\n",
    "#legacy_winProb = legacy_prob_superball.values\n",
    "\n",
    "id = (gameData.homeTeam != gameData.offenseTeam).tolist()\n",
    "winProb[id] = (1 - winProb)[id]"
   ]
  },
  {
   "cell_type": "code",
   "execution_count": null,
   "metadata": {},
   "outputs": [],
   "source": [
    "pbp_df[id_ot]"
   ]
  },
  {
   "cell_type": "code",
   "execution_count": null,
   "metadata": {},
   "outputs": [],
   "source": [
    "plt.plot(gameTime.tolist())\n",
    "plt.show()\n",
    "gameTime = gameTime.tolist()"
   ]
  },
  {
   "cell_type": "code",
   "execution_count": null,
   "metadata": {},
   "outputs": [],
   "source": [
    "# simply by \"play design\" feature itself is not good enough\n",
    "\n",
    "plt.figure(figsize=[12,9])\n",
    "plt.title(\"2017 season CFB Championship In-game Win Probability for Geogia\")\n",
    "plt.xlabel('Game Time (seconds)')\n",
    "plt.ylabel('Win Probability')\n",
    "plt.ylim([0.0,1.0])\n",
    "plt.plot(gameTime, winProb, label='baseline')\n",
    "#plt.plot(gameTime, legacy_winProb, label='legacy')\n",
    "plt.plot(gameTime, [0.5]*len(gameTime), linestyle='--')\n",
    "plt.legend()\n",
    "\n",
    "plt.plot([0,3600],[0.5,0.5], linestyle='dashed')\n",
    "plt.show()"
   ]
  },
  {
   "cell_type": "code",
   "execution_count": null,
   "metadata": {},
   "outputs": [],
   "source": [
    "pbp_df[id_champion].tail(10)\n",
    "pred_champion[-17:]"
   ]
  },
  {
   "cell_type": "code",
   "execution_count": null,
   "metadata": {},
   "outputs": [],
   "source": [
    "features_champion.tail(17)"
   ]
  },
  {
   "cell_type": "code",
   "execution_count": null,
   "metadata": {},
   "outputs": [],
   "source": [
    "pbp_df[id_champion].tail(17)"
   ]
  },
  {
   "cell_type": "code",
   "execution_count": null,
   "metadata": {},
   "outputs": [],
   "source": [
    "fig, subplots = plt.subplots(1,1)\n",
    "\n",
    "fig.set_figheight(8)\n",
    "fig.set_figwidth(8)\n",
    "\n",
    "plot = subplots[0,0]\n",
    "plot.set_ylim([0.0, 1.0])\n",
    "plot.set_title('2017 Season CFB Championship')\n",
    "plot.plot(pred_p, marker='o', label='RFC prediction')\n",
    "plot.plot([0.5 for _ in pred], linestyle='--')\n",
    "#plot.plot(legacy_p.values, marker='x', label='legacy')\n",
    "plot.legend()"
   ]
  },
  {
   "cell_type": "code",
   "execution_count": null,
   "metadata": {},
   "outputs": [],
   "source": [
    "fig, subplots = plt.subplots(2,2)\n",
    "\n",
    "fig.set_figheight(8)\n",
    "fig.set_figwidth(16)"
   ]
  }
 ],
 "metadata": {
  "kernelspec": {
   "display_name": "nfl-win-prob",
   "language": "python",
   "name": "nfl-win-prob"
  },
  "language_info": {
   "codemirror_mode": {
    "name": "ipython",
    "version": 3
   },
   "file_extension": ".py",
   "mimetype": "text/x-python",
   "name": "python",
   "nbconvert_exporter": "python",
   "pygments_lexer": "ipython3",
   "version": "3.7.3"
  }
 },
 "nbformat": 4,
 "nbformat_minor": 4
}
