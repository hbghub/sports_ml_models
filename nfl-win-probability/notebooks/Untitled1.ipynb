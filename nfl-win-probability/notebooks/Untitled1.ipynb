{
 "cells": [
  {
   "cell_type": "code",
   "execution_count": null,
   "metadata": {},
   "outputs": [],
   "source": [
    "import sklearn\n",
    "import numpy as np\n",
    "import matplotlib.pyplot as plt\n",
    "import tensorflow as tf"
   ]
  },
  {
   "cell_type": "code",
   "execution_count": null,
   "metadata": {},
   "outputs": [],
   "source": [
    "from sklearn.datasets import load_sample_image"
   ]
  },
  {
   "cell_type": "code",
   "execution_count": null,
   "metadata": {},
   "outputs": [],
   "source": [
    "china = load_sample_image(\"china.jpg\")/255\n",
    "flower = load_sample_image(\"flower.jpg\")/255\n",
    "images = np.array([china, flower])\n",
    "batch_size,height,width,channels=images.shape\n",
    "images.shape"
   ]
  },
  {
   "cell_type": "code",
   "execution_count": null,
   "metadata": {},
   "outputs": [],
   "source": [
    "filters=np.zeros(shape=[7,7,channels,2], dtype=np.float32)\n",
    "filters[:, 3, :, 0]=1 # vertical line\n",
    "filters[3, :, :, 1]=1 # horizontal line"
   ]
  },
  {
   "cell_type": "code",
   "execution_count": null,
   "metadata": {},
   "outputs": [],
   "source": [
    "plt.imshow(images[0])"
   ]
  },
  {
   "cell_type": "code",
   "execution_count": null,
   "metadata": {},
   "outputs": [],
   "source": [
    "outputs = tf.nn.conv2d(images, filters, strides=2, padding=\"SAME\")\n",
    "outputs.shape"
   ]
  },
  {
   "cell_type": "code",
   "execution_count": null,
   "metadata": {},
   "outputs": [],
   "source": [
    "plt.imshow(outputs[0,:,:,0], cmap='gray')\n",
    "plt.show()"
   ]
  },
  {
   "cell_type": "code",
   "execution_count": null,
   "metadata": {},
   "outputs": [],
   "source": [
    "plt.imshow(outputs[0,:,:,1], cmap='gray')\n",
    "plt.show()"
   ]
  },
  {
   "cell_type": "code",
   "execution_count": null,
   "metadata": {},
   "outputs": [],
   "source": [
    "new_image = tf.image.crop_and_resize(images, boxes=[[0.0,0.0,0.5,0.5]], crop_size=[224,224], box_indices=[0])\n",
    "plt.imshow(new_image)"
   ]
  },
  {
   "cell_type": "code",
   "execution_count": null,
   "metadata": {},
   "outputs": [],
   "source": [
    "y=0\n",
    "print(f\"se {y}\")"
   ]
  },
  {
   "cell_type": "code",
   "execution_count": null,
   "metadata": {},
   "outputs": [],
   "source": [
    "from IPython.core.display import display, HTML\n",
    "display(HTML('<h1>Hello, world!</h1>'))"
   ]
  },
  {
   "cell_type": "code",
   "execution_count": null,
   "metadata": {
    "jupyter": {
     "source_hidden": true
    }
   },
   "outputs": [],
   "source": [
    "from IPython.display import HTML\n",
    "\n",
    "HTML('''<script>\n",
    "code_show=true; \n",
    "function code_toggle() {\n",
    " if (code_show){\n",
    " $('div.input').hide();\n",
    " } else {\n",
    " $('div.input').show();\n",
    " }\n",
    " code_show = !code_show\n",
    "} \n",
    "$( document ).ready(code_toggle);\n",
    "</script>\n",
    "<form action=\"javascript:code_toggle()\">\n",
    "<input type=\"submit\" value=\"Click here to toggle on/off the raw code.\">\n",
    "</form>''')"
   ]
  },
  {
   "cell_type": "code",
   "execution_count": null,
   "metadata": {},
   "outputs": [],
   "source": [
    "from IPython.display import display, Markdown, Latex, HTML\n",
    "import ipywidgets as widgets\n",
    "\n",
    "w=widgets.IntSlider()\n",
    "display(w)"
   ]
  },
  {
   "cell_type": "code",
   "execution_count": 1,
   "metadata": {},
   "outputs": [],
   "source": [
    "from IPython.display import display, Markdown, Latex, HTML\n",
    "import ipywidgets as widgets\n",
    "from ipywidgets import interact, interact_manual"
   ]
  },
  {
   "cell_type": "code",
   "execution_count": 5,
   "metadata": {},
   "outputs": [
    {
     "data": {
      "application/vnd.jupyter.widget-view+json": {
       "model_id": "cf42cf0a90664e0fb248e8d65911b73c",
       "version_major": 2,
       "version_minor": 0
      },
      "text/plain": [
       "Dropdown(description='Competition', options=(1, 2, 3, 4), value=1)"
      ]
     },
     "metadata": {},
     "output_type": "display_data"
    },
    {
     "data": {
      "application/vnd.jupyter.widget-view+json": {
       "model_id": "6c924bd23f1e4b1f952a79258f176325",
       "version_major": 2,
       "version_minor": 0
      },
      "text/plain": [
       "FloatLogSlider(value=1000.0, description='# runs', max=5.0, min=2.0, step=1.0)"
      ]
     },
     "metadata": {},
     "output_type": "display_data"
    }
   ],
   "source": [
    "competition_picker = widgets.Dropdown(\n",
    "    options=list([1,2,3,4]),\n",
    "    description='Competition'\n",
    ")\n",
    "n_runs_picker = widgets.FloatLogSlider(\n",
    "    value=1000,\n",
    "    base=10,\n",
    "    min=2,\n",
    "    max=5,\n",
    "    step=1,\n",
    "    description='# runs'\n",
    ")\n",
    "\n",
    "display(competition_picker)\n",
    "display(n_runs_picker)"
   ]
  },
  {
   "cell_type": "code",
   "execution_count": 11,
   "metadata": {},
   "outputs": [],
   "source": [
    "import matplotlib.pyplot as plt\n",
    "import numpy as np"
   ]
  },
  {
   "cell_type": "code",
   "execution_count": 13,
   "metadata": {},
   "outputs": [
    {
     "data": {
      "text/plain": [
       "[0, 1, 2, 3, 4, 5, 6, 7, 8]"
      ]
     },
     "execution_count": 13,
     "metadata": {},
     "output_type": "execute_result"
    }
   ],
   "source": [
    "x=[*range(9)]\n",
    "x"
   ]
  },
  {
   "cell_type": "code",
   "execution_count": 17,
   "metadata": {},
   "outputs": [
    {
     "data": {
      "text/plain": [
       "{'whiskers': [<matplotlib.lines.Line2D at 0x11114a6d8>,\n",
       "  <matplotlib.lines.Line2D at 0x11114a978>,\n",
       "  <matplotlib.lines.Line2D at 0x111157a58>,\n",
       "  <matplotlib.lines.Line2D at 0x111157d68>],\n",
       " 'caps': [<matplotlib.lines.Line2D at 0x111119a20>,\n",
       "  <matplotlib.lines.Line2D at 0x11114aef0>,\n",
       "  <matplotlib.lines.Line2D at 0x111168080>,\n",
       "  <matplotlib.lines.Line2D at 0x111168358>],\n",
       " 'boxes': [<matplotlib.lines.Line2D at 0x11114a630>,\n",
       "  <matplotlib.lines.Line2D at 0x111157710>],\n",
       " 'medians': [<matplotlib.lines.Line2D at 0x1111571d0>,\n",
       "  <matplotlib.lines.Line2D at 0x1111685f8>],\n",
       " 'fliers': [<matplotlib.lines.Line2D at 0x1111574e0>,\n",
       "  <matplotlib.lines.Line2D at 0x1111688d0>],\n",
       " 'means': []}"
      ]
     },
     "execution_count": 17,
     "metadata": {},
     "output_type": "execute_result"
    },
    {
     "data": {
      "image/png": "[encoded data removed]",
      "text/plain": [
       "<Figure size 432x288 with 1 Axes>"
      ]
     },
     "metadata": {
      "needs_background": "light"
     },
     "output_type": "display_data"
    }
   ],
   "source": [
    "plt.boxplot(([x,x]), vert=False)"
   ]
  },
  {
   "cell_type": "code",
   "execution_count": 1,
   "metadata": {},
   "outputs": [],
   "source": [
    "import csv"
   ]
  },
  {
   "cell_type": "code",
   "execution_count": 54,
   "metadata": {},
   "outputs": [],
   "source": [
    "rows=[]\n",
    "\n",
    "filename = '/Users/binhu/projects/ai-soccer-season-predictions/src/SeasonPredictor/local_team_names.csv'\n",
    "\n",
    "with open(filename, 'r') as f:\n",
    "    csvreader = csv.reader(f)\n",
    "    \n",
    "    header = next(csvreader)\n",
    "    \n",
    "    for row in csvreader:\n",
    "        rows.append(row)\n",
    "    \n",
    "    "
   ]
  },
  {
   "cell_type": "code",
   "execution_count": 63,
   "metadata": {},
   "outputs": [
    {
     "name": "stdout",
     "output_type": "stream",
     "text": [
      "bjltc68ihd23uu3svnq0o3qrs ['Eibar']\n",
      "26fes5ubaeq0fk1nay2pj2ob2 ['Granada']\n",
      "82q9159y2u7mkfn3z6hy75r4o ['Cádiz']\n",
      "4dtdjgnpdq9uw4sdutti0vaar ['Deportivo Alavés']\n",
      "4jelr92fsge73q39is6qvhxb3 ['Real Valladolid']\n",
      "74mcjsm72vr3l9pw2i4qfjchj ['Villarreal']\n",
      "ba5e91hjacvma2sjvixn00pjo ['Valencia']\n",
      "1n1j0wsl763lq7ee1k0c11c02 ['Getafe']\n",
      "6f27yvbqcngegwsg2ozxxdj4 ['Celta de Vigo']\n",
      "egfc4v1d08dgbhkw8gxz85bzr ['Huesca']\n",
      "ah8dala7suqqkj04n2l8xz4zd ['Real Betis']\n",
      "63f5h8t5e9qm1fqmvfkb23ghh ['Real Sociedad']\n",
      "4yg9ttzw0m51048doksv8uq5r ['Elche']\n",
      "2l0ldgiwsgb8d6y3z0sfgjzyj ['Osasuna']\n",
      "4ku8o6uf87yd8iecdalipo6wd ['Atlético Madrid']\n",
      "agh9ifb2mw3ivjusgedj7c3fe ['Barcelona']\n",
      "3kq9cckrnlogidldtdie2fkbl ['Real Madrid']\n",
      "3czravw89omgc9o4s0w3l1bg5 ['Athletic Club']\n",
      "10eyb18v5puw4ez03ocaug09m ['Sevilla']\n",
      "4grc9qgcvusllap8h5j6gc5h5 ['Levante']\n",
      " []\n"
     ]
    }
   ],
   "source": [
    "lib={}\n",
    "\n",
    "with open(filename, 'r') as f:\n",
    "    data = f.read().split('\\n')\n",
    "    header = data[0]\n",
    "    for row in data[1:]:\n",
    "        cols = row.split(',')\n",
    "        id = cols.pop(0)\n",
    "        print(id, cols)\n",
    "        for proj in cols:\n",
    "            if proj not in lib:\n",
    "                lib[proj]=[name]\n",
    "            else:\n",
    "                lib[proj].append(name)"
   ]
  },
  {
   "cell_type": "code",
   "execution_count": 80,
   "metadata": {},
   "outputs": [
    {
     "name": "stdout",
     "output_type": "stream",
     "text": [
      "bjltc68ihd23uu3svnq0o3qrs ['Eibar']\n",
      "bjltc68ihd23uu3svnq0o3qrs ['Granada']\n",
      "bjltc68ihd23uu3svnq0o3qrs ['Cádiz']\n",
      "bjltc68ihd23uu3svnq0o3qrs ['Deportivo Alavés']\n",
      "bjltc68ihd23uu3svnq0o3qrs ['Real Valladolid']\n",
      "bjltc68ihd23uu3svnq0o3qrs ['Villarreal']\n",
      "bjltc68ihd23uu3svnq0o3qrs ['Valencia']\n",
      "bjltc68ihd23uu3svnq0o3qrs ['Getafe']\n",
      "bjltc68ihd23uu3svnq0o3qrs ['Celta de Vigo']\n",
      "bjltc68ihd23uu3svnq0o3qrs ['Huesca']\n",
      "bjltc68ihd23uu3svnq0o3qrs ['Real Betis']\n",
      "bjltc68ihd23uu3svnq0o3qrs ['Real Sociedad']\n",
      "bjltc68ihd23uu3svnq0o3qrs ['Elche']\n",
      "bjltc68ihd23uu3svnq0o3qrs ['Osasuna']\n",
      "bjltc68ihd23uu3svnq0o3qrs ['Atlético Madrid']\n",
      "bjltc68ihd23uu3svnq0o3qrs ['Barcelona']\n",
      "bjltc68ihd23uu3svnq0o3qrs ['Real Madrid']\n",
      "bjltc68ihd23uu3svnq0o3qrs ['Athletic Club']\n",
      "bjltc68ihd23uu3svnq0o3qrs ['Sevilla']\n",
      "bjltc68ihd23uu3svnq0o3qrs ['Levante']\n"
     ]
    }
   ],
   "source": [
    "lib={}\n",
    "\n",
    "with open(filename, 'r') as f:\n",
    "    header = f.readline().strip()\n",
    "    for line in f.readlines():\n",
    "        line = line.strip()\n",
    "        cols = line.split(',')\n",
    "        name = cols.pop(0)\n",
    "        print(id, cols)\n",
    "        for proj in cols:\n",
    "            if proj not in lib:\n",
    "                lib[proj]=[name]\n",
    "            else:\n",
    "                lib[proj].append(name)"
   ]
  },
  {
   "cell_type": "code",
   "execution_count": 81,
   "metadata": {},
   "outputs": [
    {
     "data": {
      "text/plain": [
       "{'Eibar': ['bjltc68ihd23uu3svnq0o3qrs'],\n",
       " 'Granada': ['26fes5ubaeq0fk1nay2pj2ob2'],\n",
       " 'Cádiz': ['82q9159y2u7mkfn3z6hy75r4o'],\n",
       " 'Deportivo Alavés': ['4dtdjgnpdq9uw4sdutti0vaar'],\n",
       " 'Real Valladolid': ['4jelr92fsge73q39is6qvhxb3'],\n",
       " 'Villarreal': ['74mcjsm72vr3l9pw2i4qfjchj'],\n",
       " 'Valencia': ['ba5e91hjacvma2sjvixn00pjo'],\n",
       " 'Getafe': ['1n1j0wsl763lq7ee1k0c11c02'],\n",
       " 'Celta de Vigo': ['6f27yvbqcngegwsg2ozxxdj4'],\n",
       " 'Huesca': ['egfc4v1d08dgbhkw8gxz85bzr'],\n",
       " 'Real Betis': ['ah8dala7suqqkj04n2l8xz4zd'],\n",
       " 'Real Sociedad': ['63f5h8t5e9qm1fqmvfkb23ghh'],\n",
       " 'Elche': ['4yg9ttzw0m51048doksv8uq5r'],\n",
       " 'Osasuna': ['2l0ldgiwsgb8d6y3z0sfgjzyj'],\n",
       " 'Atlético Madrid': ['4ku8o6uf87yd8iecdalipo6wd'],\n",
       " 'Barcelona': ['agh9ifb2mw3ivjusgedj7c3fe'],\n",
       " 'Real Madrid': ['3kq9cckrnlogidldtdie2fkbl'],\n",
       " 'Athletic Club': ['3czravw89omgc9o4s0w3l1bg5'],\n",
       " 'Sevilla': ['10eyb18v5puw4ez03ocaug09m'],\n",
       " 'Levante': ['4grc9qgcvusllap8h5j6gc5h5']}"
      ]
     },
     "execution_count": 81,
     "metadata": {},
     "output_type": "execute_result"
    }
   ],
   "source": [
    "lib"
   ]
  },
  {
   "cell_type": "code",
   "execution_count": 45,
   "metadata": {},
   "outputs": [
    {
     "name": "stdout",
     "output_type": "stream",
     "text": [
      "['c']\n",
      "['b']\n",
      "['bc', 'cb']\n",
      "['c']\n",
      "['a']\n",
      "['ac', 'ca']\n",
      "['b']\n",
      "['a']\n",
      "['ab', 'ba']\n",
      "['abc', 'acb', 'bac', 'bca', 'cab', 'cba']\n"
     ]
    },
    {
     "data": {
      "text/plain": [
       "['abc', 'acb', 'bac', 'bca', 'cab', 'cba']"
      ]
     },
     "execution_count": 45,
     "metadata": {},
     "output_type": "execute_result"
    }
   ],
   "source": [
    "s = 'abc'\n",
    "\n",
    "\n",
    "def findPermutation(s):\n",
    "    perms = []\n",
    "    \n",
    "    if len(s)==1:\n",
    "        perms.append(s)\n",
    "    else:\n",
    "        for x in s:\n",
    "            s_r = s.replace(x,'')\n",
    "            perms_r = findPermutation(s_r)\n",
    "            for y in perms_r:\n",
    "                perms.append(x + y)\n",
    "    \n",
    "    print(perms)\n",
    "    return perms\n",
    "\n",
    "findPermutation(s)"
   ]
  },
  {
   "cell_type": "code",
   "execution_count": 84,
   "metadata": {},
   "outputs": [
    {
     "data": {
      "text/plain": [
       "'a:6a:c'"
      ]
     },
     "execution_count": 84,
     "metadata": {},
     "output_type": "execute_result"
    }
   ],
   "source": [
    "\":\".join(['a','6a','c'])"
   ]
  },
  {
   "cell_type": "code",
   "execution_count": 87,
   "metadata": {},
   "outputs": [
    {
     "data": {
      "text/plain": [
       "{'a': 1, 'b': 2, 'c': 3}"
      ]
     },
     "execution_count": 87,
     "metadata": {},
     "output_type": "execute_result"
    }
   ],
   "source": [
    "x=['a','b','c']\n",
    "y=[1,2,3]\n",
    "z={}\n",
    "for i, j in zip(x,y):\n",
    "    z[i]=j\n",
    "z"
   ]
  },
  {
   "cell_type": "code",
   "execution_count": 89,
   "metadata": {},
   "outputs": [
    {
     "data": {
      "text/plain": [
       "{'b': 2, 'c': 3}"
      ]
     },
     "execution_count": 89,
     "metadata": {},
     "output_type": "execute_result"
    }
   ],
   "source": [
    "z.pop('a')\n",
    "z"
   ]
  },
  {
   "cell_type": "code",
   "execution_count": 90,
   "metadata": {},
   "outputs": [
    {
     "data": {
      "text/plain": [
       "('c', 3)"
      ]
     },
     "execution_count": 90,
     "metadata": {},
     "output_type": "execute_result"
    }
   ],
   "source": [
    "z.popitem()"
   ]
  },
  {
   "cell_type": "code",
   "execution_count": 94,
   "metadata": {},
   "outputs": [
    {
     "data": {
      "text/plain": [
       "('he', 'l', 'lo world')"
      ]
     },
     "execution_count": 94,
     "metadata": {},
     "output_type": "execute_result"
    }
   ],
   "source": [
    "s='hello world'\n",
    "s.partition('l')"
   ]
  },
  {
   "cell_type": "code",
   "execution_count": 99,
   "metadata": {},
   "outputs": [
    {
     "data": {
      "text/plain": [
       "array([0, 1, 2])"
      ]
     },
     "execution_count": 99,
     "metadata": {},
     "output_type": "execute_result"
    }
   ],
   "source": [
    "import numpy as np\n",
    "a = np.array([0, 1, 2])\n",
    "a"
   ]
  },
  {
   "cell_type": "code",
   "execution_count": 100,
   "metadata": {},
   "outputs": [
    {
     "data": {
      "text/plain": [
       "array([[[0, 1, 2, 0, 1, 2],\n",
       "        [0, 1, 2, 0, 1, 2]],\n",
       "\n",
       "       [[0, 1, 2, 0, 1, 2],\n",
       "        [0, 1, 2, 0, 1, 2]]])"
      ]
     },
     "execution_count": 100,
     "metadata": {},
     "output_type": "execute_result"
    }
   ],
   "source": [
    "np.tile(a, [2,2,2])"
   ]
  },
  {
   "cell_type": "code",
   "execution_count": 102,
   "metadata": {},
   "outputs": [
    {
     "data": {
      "text/plain": [
       "array([[[0, 1, 2, 0, 1, 2]],\n",
       "\n",
       "       [[0, 1, 2, 0, 1, 2]]])"
      ]
     },
     "execution_count": 102,
     "metadata": {},
     "output_type": "execute_result"
    }
   ],
   "source": [
    "np.tile(a, [2,1,2])"
   ]
  },
  {
   "cell_type": "code",
   "execution_count": 103,
   "metadata": {},
   "outputs": [
    {
     "data": {
      "text/plain": [
       "array([[[0, 1, 2],\n",
       "        [0, 1, 2]],\n",
       "\n",
       "       [[0, 1, 2],\n",
       "        [0, 1, 2]]])"
      ]
     },
     "execution_count": 103,
     "metadata": {},
     "output_type": "execute_result"
    }
   ],
   "source": [
    "np.tile(a, [2,2,1])"
   ]
  },
  {
   "cell_type": "code",
   "execution_count": 104,
   "metadata": {},
   "outputs": [
    {
     "data": {
      "text/plain": [
       "array([[0, 1, 2, 0, 1, 2],\n",
       "       [0, 1, 2, 0, 1, 2]])"
      ]
     },
     "execution_count": 104,
     "metadata": {},
     "output_type": "execute_result"
    }
   ],
   "source": [
    "np.tile(a, [2,2])"
   ]
  },
  {
   "cell_type": "code",
   "execution_count": 105,
   "metadata": {},
   "outputs": [
    {
     "data": {
      "text/plain": [
       "array([[0, 1, 2],\n",
       "       [0, 1, 2]])"
      ]
     },
     "execution_count": 105,
     "metadata": {},
     "output_type": "execute_result"
    }
   ],
   "source": [
    "np.tile(a, [2,1])"
   ]
  },
  {
   "cell_type": "code",
   "execution_count": 106,
   "metadata": {},
   "outputs": [
    {
     "data": {
      "text/plain": [
       "array([[0, 1, 2, 0, 1, 2]])"
      ]
     },
     "execution_count": 106,
     "metadata": {},
     "output_type": "execute_result"
    }
   ],
   "source": [
    "np.tile(a, [1,2])"
   ]
  },
  {
   "cell_type": "code",
   "execution_count": 108,
   "metadata": {},
   "outputs": [
    {
     "data": {
      "text/plain": [
       "array([[[0, 1, 2],\n",
       "        [0, 1, 2],\n",
       "        [0, 1, 2]],\n",
       "\n",
       "       [[0, 1, 2],\n",
       "        [0, 1, 2],\n",
       "        [0, 1, 2]]])"
      ]
     },
     "execution_count": 108,
     "metadata": {},
     "output_type": "execute_result"
    }
   ],
   "source": [
    "np.tile(a, [2,3,1])"
   ]
  },
  {
   "cell_type": "code",
   "execution_count": null,
   "metadata": {},
   "outputs": [],
   "source": []
  }
 ],
 "metadata": {
  "kernelspec": {
   "display_name": "Python 3",
   "language": "python",
   "name": "python3"
  },
  "language_info": {
   "codemirror_mode": {
    "name": "ipython",
    "version": 3
   },
   "file_extension": ".py",
   "mimetype": "text/x-python",
   "name": "python",
   "nbconvert_exporter": "python",
   "pygments_lexer": "ipython3",
   "version": "3.7.3"
  }
 },
 "nbformat": 4,
 "nbformat_minor": 4
}
