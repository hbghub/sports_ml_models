{
 "cells": [
  {
   "cell_type": "code",
   "execution_count": 1,
   "metadata": {},
   "outputs": [],
   "source": [
    "# Change directory so that code in \"src\" directory is easily importable.\n",
    "import os\n",
    "os.chdir('../')"
   ]
  },
  {
   "cell_type": "code",
   "execution_count": 2,
   "metadata": {},
   "outputs": [],
   "source": [
    "import pandas as pd\n",
    "import numpy as np\n",
    "import matplotlib.pyplot as plt\n",
    "\n",
    "import requests\n",
    "\n",
    "from pyathena import connect\n",
    "from pyathena.pandas_cursor import PandasCursor\n",
    "\n",
    "#from sklearn.linear_model import LinearRegression, SGDRegressor\n",
    "from sklearn.linear_model import LogisticRegression, SGDClassifier\n",
    "from sklearn.svm import LinearSVR, LinearSVC\n",
    "from sklearn.ensemble import RandomForestRegressor, RandomForestClassifier\n",
    "\n",
    "from sklearn.model_selection import cross_val_score, cross_validate, train_test_split\n",
    "from sklearn.metrics import mean_absolute_error, mean_squared_error, roc_auc_score, accuracy_score, balanced_accuracy_score\n",
    "from sklearn.metrics import make_scorer, SCORERS, f1_score, precision_score, recall_score\n",
    "\n",
    "from sklearn.compose import ColumnTransformer\n",
    "from sklearn.preprocessing import StandardScaler, OneHotEncoder\n",
    "\n",
    "import tensorflow as tf\n",
    "from tensorflow import keras\n",
    "\n",
    "import time\n",
    "\n",
    "import warnings\n",
    "\n",
    "#warnings.simplefilter(action='ignore', category=FutureWarning)\n",
    "\n",
    "pd.options.mode.chained_assignment = None  # default='warn'\n",
    "#pd.options.display.max_columns = 30\n",
    "#pd.options.display.max_rows = 50\n",
    "\n",
    "pd.set_option('display.max_rows', 50)\n",
    "pd.set_option('display.max_columns', 100)\n",
    "\n",
    "# Define connection to DB\n",
    "conn = connect(\n",
    "    s3_staging_dir='s3://aws-athena-query-results-323906537337-us-east-1/',\n",
    "    region_name='us-east-1',\n",
    "    cursor_class=PandasCursor\n",
    "    )\n",
    "cursor = conn.cursor()"
   ]
  },
  {
   "cell_type": "code",
   "execution_count": null,
   "metadata": {},
   "outputs": [],
   "source": [
    "tf.__version__"
   ]
  },
  {
   "cell_type": "markdown",
   "metadata": {},
   "source": [
    "# 0 Data"
   ]
  },
  {
   "cell_type": "markdown",
   "metadata": {},
   "source": [
    "## 0.1 pbp data"
   ]
  },
  {
   "cell_type": "code",
   "execution_count": 3,
   "metadata": {},
   "outputs": [
    {
     "name": "stdout",
     "output_type": "stream",
     "text": [
      "<class 'pandas.core.frame.DataFrame'>\n",
      "RangeIndex: 173665 entries, 0 to 173664\n",
      "Data columns (total 31 columns):\n",
      " #   Column                    Non-Null Count   Dtype  \n",
      "---  ------                    --------------   -----  \n",
      " 0   season                    173665 non-null  Int64  \n",
      " 1   week                      173665 non-null  Int64  \n",
      " 2   gamecode                  173665 non-null  Int64  \n",
      " 3   eventtypeid               173665 non-null  Int64  \n",
      " 4   gameUTCTime               173665 non-null  Int64  \n",
      " 5   homeTeam                  173665 non-null  Int64  \n",
      " 6   awayTeam                  173665 non-null  Int64  \n",
      " 7   offenseTeam               173665 non-null  Int64  \n",
      " 8   defenseTeam               173665 non-null  Int64  \n",
      " 9   playid                    173665 non-null  Int64  \n",
      " 10  driveid                   173665 non-null  Int64  \n",
      " 11  period                    173665 non-null  Int64  \n",
      " 12  secondsRemainingInPeriod  173665 non-null  float64\n",
      " 13  gameTime                  173665 non-null  float64\n",
      " 14  remainingGameTime         173665 non-null  Int64  \n",
      " 15  halfGame                  173665 non-null  Int64  \n",
      " 16  down                      173665 non-null  Int64  \n",
      " 17  yardsToGo                 173665 non-null  float64\n",
      " 18  yardsFromGoal             173665 non-null  float64\n",
      " 19  awayScore                 173665 non-null  Int64  \n",
      " 20  homeScore                 173665 non-null  Int64  \n",
      " 21  awayScoreAfter            173665 non-null  Int64  \n",
      " 22  homeScoreAfter            173665 non-null  Int64  \n",
      " 23  homeFinalScore            173665 non-null  Int64  \n",
      " 24  awayFinalScore            173665 non-null  Int64  \n",
      " 25  offenseScore              173665 non-null  Int64  \n",
      " 26  playtypeid                173665 non-null  Int64  \n",
      " 27  playName                  173665 non-null  object \n",
      " 28  playDesign                173665 non-null  Int64  \n",
      " 29  offenseTimeout            173665 non-null  Int64  \n",
      " 30  defenseTimeout            173665 non-null  Int64  \n",
      "dtypes: Int64(26), float64(4), object(1)\n",
      "memory usage: 45.4+ MB\n",
      "None\n"
     ]
    }
   ],
   "source": [
    "# playtypeid:\n",
    "# 1 = pass attempt\n",
    "# 2 = incomplete pass attempt\n",
    "# 3 = sack\n",
    "# 4 = designed rush OR scramble\n",
    "# 9 = intercepted pass attempt\n",
    "\n",
    "simple_query = f'''\n",
    "select\n",
    "    cast(season as integer) season,\n",
    "    eventmetadata.week, eventmetadata.gamecode, eventmetadata.eventtypeid, eventmetadata.gamedateutcepoch gameUTCTime,\n",
    "    if(teammetadata[1].ishometeam, teammetadata[1].teamid, teammetadata[2].teamid) homeTeam,\n",
    "    if(teammetadata[2].ishometeam, teammetadata[1].teamid, teammetadata[2].teamid) awayTeam,\n",
    "        \n",
    "    pbp.startpossessionteamid offenseTeam, \n",
    "    -- pbp.endpossessionteamid,\n",
    "    if(pbp.startpossessionteamid = teammetadata[1].teamid, teammetadata[2].teamid, teammetadata[1].teamid) defenseTeam,\n",
    "    \n",
    "    cast(playid as integer) playid, pbp.driveid, pbp.period,  \n",
    "    cast(secondsremaininginperiod as double) secondsRemainingInPeriod,\n",
    "    \n",
    "    cast((pbp.period - 1) * 900 + (900 - secondsRemainingInPeriod) as double) gameTime,\n",
    "    secondsRemainingInPeriod + GREATEST(4 - pbp.period, 0) * 900 remainingGameTime,\n",
    "    \n",
    "    case \n",
    "        when pbp.period in (1,2) then 1\n",
    "        when pbp.period in (3,4) then 2\n",
    "        else 3\n",
    "        end halfGame,\n",
    "    \n",
    "    case \n",
    "        when pbp.down is null then 0\n",
    "        else pbp.down\n",
    "        end down,\n",
    "        \n",
    "    case\n",
    "        when pbp.distance is null then 0.0\n",
    "        else cast(pbp.distance as double) \n",
    "        end yardsToGo,\n",
    "        \n",
    "    cast(pbp.startyardsfromgoal as double) yardsFromGoal, \n",
    "\n",
    "    pbp.awayscorebefore awayScore, \n",
    "    pbp.homescorebefore homeScore,\n",
    "    pbp.awayscoreafter  awayScoreAfter, \n",
    "    pbp.homescoreafter  homeScoreAfter,\n",
    "    if(teammetadata[1].ishometeam, teammetadata[1].score, teammetadata[2].score) homeFinalScore,\n",
    "    if(teammetadata[2].ishometeam, teammetadata[1].score, teammetadata[2].score) awayFinalScore,\n",
    "    \n",
    "    case\n",
    "    when teammetadata[1].teamid = pbp.startpossessionteamid and teammetadata[1].ishometeam then pbp.homescorebefore\n",
    "    when teammetadata[2].teamid = pbp.startpossessionteamid and teammetadata[2].ishometeam then pbp.homescorebefore\n",
    "    else pbp.awayscorebefore\n",
    "    end as offenseScore,\n",
    "    \n",
    "    pbp.playtype.playtypeid, pbp.playtype.name playName,\n",
    "    \n",
    "    --ceate known playtype pre-play\n",
    "    case\n",
    "        when pbp.playtype.playtypeid in (22) then 1\n",
    "        when pbp.playtype.playtypeid in (52, 53, 54, 55, 56) then 2\n",
    "        when pbp.playtype.playtypeid in (42, 35, 36) then 3\n",
    "        else 0\n",
    "        end playDesign,\n",
    "    \n",
    "    case \n",
    "        when pbp.playtype.playtypeid = 57 then 1\n",
    "        else 0\n",
    "        end offenseTimeout,\n",
    "        \n",
    "    case \n",
    "        when pbp.playtype.playtypeid = 58 then 1\n",
    "        else 0\n",
    "        end defenseTimeout\n",
    "        \n",
    "from \n",
    "    datalakefootball.pbp_xinfo_enriched\n",
    "where \n",
    "    season>='2016' and season<='2019'\n",
    "    and eventmetadata.eventtypeid in (1,2)\n",
    "    -- pbp.period <= 4\n",
    "    -- and pbp.down is not null -- this will elliminate field goal attempts and a few other actions\n",
    "    and pbp.playtype.playtypeid not in (5,13) -- 2-min warning, kickoff\n",
    "order by season, eventmetadata.week, eventmetadata.gamecode, pbp.period, playid, secondsremaininginperiod desc\n",
    "'''\n",
    "\n",
    "if True:\n",
    "    pbp_df = cursor.execute(simple_query).as_pandas()\n",
    "    print(pbp_df.info())\n",
    "else:\n",
    "    print(\"Failed to query!\")"
   ]
  },
  {
   "cell_type": "code",
   "execution_count": 4,
   "metadata": {},
   "outputs": [],
   "source": [
    "# fix a DB error\n",
    "id = (pbp_df.gamecode==1744923) & (pbp_df.driveid.isin([22]))\n",
    "pbp_df.loc[id, 'offenseTeam'] = 354\n",
    "pbp_df.loc[id, 'defenseTeam'] = 339"
   ]
  },
  {
   "cell_type": "code",
   "execution_count": 5,
   "metadata": {},
   "outputs": [],
   "source": [
    "pbp_df['scoreDiff'] = pbp_df.homeScore - pbp_df.awayScore\n",
    "pbp_df.loc[pbp_df.offenseTeam==pbp_df.awayTeam, 'scoreDiff'] = pbp_df.awayScore - pbp_df.homeScore\n",
    "pbp_df.scoreDiff = pbp_df.scoreDiff.astype('float64') #important for num features\n",
    "\n",
    "pbp_df['scoreDiffAfter'] = pbp_df.homeScoreAfter - pbp_df.awayScoreAfter\n",
    "pbp_df.loc[pbp_df.offenseTeam==pbp_df.awayTeam, 'scoreDiffAfter'] = pbp_df.awayScoreAfter - pbp_df.homeScoreAfter\n",
    "pbp_df.scoreDiffAfter = pbp_df.scoreDiffAfter.astype('float64') #important for num features"
   ]
  },
  {
   "cell_type": "code",
   "execution_count": 6,
   "metadata": {},
   "outputs": [],
   "source": [
    "#pbp_df['adjScoreDiff'] = pbp_df.scoreDiff / np.sqrt(pbp_df.remainingGameTime+1)\n",
    "pbp_df['adjScoreDiff'] = pbp_df.scoreDiff / np.power(pbp_df.remainingGameTime+1, 0.5)"
   ]
  },
  {
   "cell_type": "code",
   "execution_count": 7,
   "metadata": {},
   "outputs": [],
   "source": [
    "# calculate remaining TO\n",
    "# > calculate timeout used in each half game\n",
    "\n",
    "pbp_df[['homeTO','awayTO','remainingHomeTOs','remainingAwayTOs']] = 0\n",
    "\n",
    "id = ((pbp_df.offenseTimeout == 1) & (pbp_df.offenseTeam == pbp_df.homeTeam)) | \\\n",
    "        ((pbp_df.defenseTimeout == 1) & (pbp_df.defenseTeam == pbp_df.homeTeam))\n",
    "pbp_df.loc[id, 'homeTO'] = 1\n",
    "\n",
    "id = ((pbp_df.offenseTimeout == 1) & (pbp_df.offenseTeam == pbp_df.awayTeam)) | \\\n",
    "        ((pbp_df.defenseTimeout == 1) & (pbp_df.defenseTeam == pbp_df.awayTeam))\n",
    "pbp_df.loc[id, 'awayTO'] = 1\n",
    "\n",
    "gd = pbp_df.groupby(['gamecode','halfGame'])\n",
    "pbp_df[['remainingHomeTOs','remainingAwayTOs']] = 3 - gd[['homeTO','awayTO']].cumsum()\n",
    "\n",
    "pbp_df[['remainingOffenseTOs','remainingDefenseTOs']] = pbp_df[['remainingHomeTOs','remainingAwayTOs']].copy()\n",
    "\n",
    "id = (pbp_df.offenseTeam == pbp_df.awayTeam)\n",
    "\n",
    "pbp_df.loc[id, 'remainingOffenseTOs'] = pbp_df.loc[id, 'remainingAwayTOs'].values.astype('float64')\n",
    "pbp_df.loc[id, 'remainingDefenseTOs'] = pbp_df.loc[id, 'remainingHomeTOs'].values.astype('float64')"
   ]
  },
  {
   "cell_type": "code",
   "execution_count": 8,
   "metadata": {},
   "outputs": [
    {
     "data": {
      "text/plain": [
       "(array([0.0000e+00, 3.2300e+02, 0.0000e+00, 0.0000e+00, 1.0000e+00,\n",
       "        5.8000e+01, 0.0000e+00, 1.6149e+04, 2.9400e+02, 2.3000e+01,\n",
       "        3.4550e+03, 9.0000e+00, 0.0000e+00, 5.2700e+02, 4.5930e+03]),\n",
       " array([-7, -6, -5, -4, -3, -2, -1,  0,  1,  2,  3,  4,  5,  6,  7,  8]),\n",
       " <BarContainer object of 15 artists>)"
      ]
     },
     "execution_count": 8,
     "metadata": {},
     "output_type": "execute_result"
    },
    {
     "data": {
      "image/png": "[encoded data removed]",
      "text/plain": [
       "<Figure size 432x288 with 1 Axes>"
      ]
     },
     "metadata": {
      "needs_background": "light"
     },
     "output_type": "display_data"
    }
   ],
   "source": [
    "# calculate outcome for each drive - applied for over-time model\n",
    "eScoreDiff = pbp_df.groupby(['gamecode','driveid','offenseTeam'])[['gamecode','driveid','offenseTeam','scoreDiffAfter']].tail(1).\\\n",
    "                reset_index(drop=True)\n",
    "sScoreDiff = pbp_df.groupby(['gamecode','driveid','offenseTeam'])[['gamecode','driveid','offenseTeam','scoreDiff']].head(1).reset_index(drop=True)\n",
    "\n",
    "eScoreDiff['driveScoreDiffChange'] = (eScoreDiff.scoreDiffAfter - sScoreDiff.scoreDiff)\n",
    "eScoreDiff['driveOutcome'] = 0  # no-score\n",
    "eScoreDiff.loc[eScoreDiff.driveScoreDiffChange ==1, 'driveOutcome'] = 1  # FG\n",
    "eScoreDiff.loc[eScoreDiff.driveScoreDiffChange ==2, 'driveOutcome'] = 2  # FG\n",
    "eScoreDiff.loc[eScoreDiff.driveScoreDiffChange ==3, 'driveOutcome'] = 3  # FG\n",
    "eScoreDiff.loc[eScoreDiff.driveScoreDiffChange ==6, 'driveOutcome'] = 4  # TD w.o. extra point\n",
    "eScoreDiff.loc[eScoreDiff.driveScoreDiffChange ==7, 'driveOutcome'] = 5  # TD w extra point\n",
    "eScoreDiff.loc[eScoreDiff.driveScoreDiffChange ==8, 'driveOutcome'] = 6  # TD w extra point\n",
    "eScoreDiff.loc[eScoreDiff.driveScoreDiffChange ==-2, 'driveOutcome'] = 7 # defense points from offense turn-over\n",
    "eScoreDiff.loc[eScoreDiff.driveScoreDiffChange ==-6, 'driveOutcome'] = 8 # defense points from offense turn-over\n",
    "\n",
    "plt.hist(eScoreDiff.driveScoreDiffChange, bins=range(-7,9))"
   ]
  },
  {
   "cell_type": "code",
   "execution_count": 9,
   "metadata": {},
   "outputs": [
    {
     "data": {
      "text/html": [
       "<div>\n",
       "<style scoped>\n",
       "    .dataframe tbody tr th:only-of-type {\n",
       "        vertical-align: middle;\n",
       "    }\n",
       "\n",
       "    .dataframe tbody tr th {\n",
       "        vertical-align: top;\n",
       "    }\n",
       "\n",
       "    .dataframe thead th {\n",
       "        text-align: right;\n",
       "    }\n",
       "</style>\n",
       "<table border=\"1\" class=\"dataframe\">\n",
       "  <thead>\n",
       "    <tr style=\"text-align: right;\">\n",
       "      <th></th>\n",
       "      <th>offenseTeam</th>\n",
       "      <th>driveOutcome</th>\n",
       "      <th>share</th>\n",
       "    </tr>\n",
       "  </thead>\n",
       "  <tbody>\n",
       "    <tr>\n",
       "      <th>40</th>\n",
       "      <td>329</td>\n",
       "      <td>0</td>\n",
       "      <td>0.700258</td>\n",
       "    </tr>\n",
       "    <tr>\n",
       "      <th>41</th>\n",
       "      <td>329</td>\n",
       "      <td>1</td>\n",
       "      <td>0.003876</td>\n",
       "    </tr>\n",
       "    <tr>\n",
       "      <th>42</th>\n",
       "      <td>329</td>\n",
       "      <td>3</td>\n",
       "      <td>0.103359</td>\n",
       "    </tr>\n",
       "    <tr>\n",
       "      <th>43</th>\n",
       "      <td>329</td>\n",
       "      <td>4</td>\n",
       "      <td>0.028424</td>\n",
       "    </tr>\n",
       "    <tr>\n",
       "      <th>44</th>\n",
       "      <td>329</td>\n",
       "      <td>5</td>\n",
       "      <td>0.133075</td>\n",
       "    </tr>\n",
       "    <tr>\n",
       "      <th>45</th>\n",
       "      <td>329</td>\n",
       "      <td>6</td>\n",
       "      <td>0.010336</td>\n",
       "    </tr>\n",
       "    <tr>\n",
       "      <th>46</th>\n",
       "      <td>329</td>\n",
       "      <td>7</td>\n",
       "      <td>0.006460</td>\n",
       "    </tr>\n",
       "    <tr>\n",
       "      <th>47</th>\n",
       "      <td>329</td>\n",
       "      <td>8</td>\n",
       "      <td>0.014212</td>\n",
       "    </tr>\n",
       "  </tbody>\n",
       "</table>\n",
       "</div>"
      ],
      "text/plain": [
       "    offenseTeam  driveOutcome     share\n",
       "40          329             0  0.700258\n",
       "41          329             1  0.003876\n",
       "42          329             3  0.103359\n",
       "43          329             4  0.028424\n",
       "44          329             5  0.133075\n",
       "45          329             6  0.010336\n",
       "46          329             7  0.006460\n",
       "47          329             8  0.014212"
      ]
     },
     "execution_count": 9,
     "metadata": {},
     "output_type": "execute_result"
    }
   ],
   "source": [
    "# eScoreDiff.head()\n",
    "driveOutcomes = eScoreDiff[['offenseTeam','driveOutcome']].copy()\n",
    "driveOutcomes[['share']] = 0\n",
    "driveOutcomes = driveOutcomes.groupby(['offenseTeam','driveOutcome'])[['share']].count()\n",
    "driveOutcomes = driveOutcomes.groupby(['offenseTeam']).apply(lambda x: x/x.sum())\n",
    "driveOutcomes.reset_index(inplace=True)\n",
    "\n",
    "driveOutcomes[driveOutcomes.offenseTeam==329] # 348 NE, 329 Cleveland"
   ]
  },
  {
   "cell_type": "code",
   "execution_count": 10,
   "metadata": {},
   "outputs": [
    {
     "data": {
      "text/plain": [
       "(263, 3)"
      ]
     },
     "execution_count": 10,
     "metadata": {},
     "output_type": "execute_result"
    }
   ],
   "source": [
    "eScoreDiff.shape\n",
    "driveOutcomes.shape\n",
    "#pbp_df.shape"
   ]
  },
  {
   "cell_type": "code",
   "execution_count": 11,
   "metadata": {
    "collapsed": true,
    "jupyter": {
     "outputs_hidden": true
    }
   },
   "outputs": [
    {
     "name": "stdout",
     "output_type": "stream",
     "text": [
      "<class 'pandas.core.frame.DataFrame'>\n",
      "Int64Index: 173665 entries, 0 to 173664\n",
      "Data columns (total 43 columns):\n",
      " #   Column                    Non-Null Count   Dtype  \n",
      "---  ------                    --------------   -----  \n",
      " 0   season                    173665 non-null  Int64  \n",
      " 1   week                      173665 non-null  Int64  \n",
      " 2   gamecode                  173665 non-null  Int64  \n",
      " 3   eventtypeid               173665 non-null  Int64  \n",
      " 4   gameUTCTime               173665 non-null  Int64  \n",
      " 5   homeTeam                  173665 non-null  Int64  \n",
      " 6   awayTeam                  173665 non-null  Int64  \n",
      " 7   offenseTeam               173665 non-null  Int64  \n",
      " 8   defenseTeam               173665 non-null  Int64  \n",
      " 9   playid                    173665 non-null  Int64  \n",
      " 10  driveid                   173665 non-null  Int64  \n",
      " 11  period                    173665 non-null  Int64  \n",
      " 12  secondsRemainingInPeriod  173665 non-null  float64\n",
      " 13  gameTime                  173665 non-null  float64\n",
      " 14  remainingGameTime         173665 non-null  Int64  \n",
      " 15  halfGame                  173665 non-null  Int64  \n",
      " 16  down                      173665 non-null  Int64  \n",
      " 17  yardsToGo                 173665 non-null  float64\n",
      " 18  yardsFromGoal             173665 non-null  float64\n",
      " 19  awayScore                 173665 non-null  Int64  \n",
      " 20  homeScore                 173665 non-null  Int64  \n",
      " 21  awayScoreAfter            173665 non-null  Int64  \n",
      " 22  homeScoreAfter            173665 non-null  Int64  \n",
      " 23  homeFinalScore            173665 non-null  Int64  \n",
      " 24  awayFinalScore            173665 non-null  Int64  \n",
      " 25  offenseScore              173665 non-null  Int64  \n",
      " 26  playtypeid                173665 non-null  Int64  \n",
      " 27  playName                  173665 non-null  object \n",
      " 28  playDesign                173665 non-null  Int64  \n",
      " 29  offenseTimeout            173665 non-null  Int64  \n",
      " 30  defenseTimeout            173665 non-null  Int64  \n",
      " 31  scoreDiff                 173665 non-null  float64\n",
      " 32  scoreDiffAfter            173665 non-null  float64\n",
      " 33  adjScoreDiff              173665 non-null  float64\n",
      " 34  homeTO                    173665 non-null  int64  \n",
      " 35  awayTO                    173665 non-null  int64  \n",
      " 36  remainingHomeTOs          173665 non-null  int64  \n",
      " 37  remainingAwayTOs          173665 non-null  int64  \n",
      " 38  remainingOffenseTOs       173665 non-null  float64\n",
      " 39  remainingDefenseTOs       173665 non-null  float64\n",
      " 40  driveScoreDiffChange      173665 non-null  float64\n",
      " 41  driveOutcome              173665 non-null  int64  \n",
      " 42  driveStartScoreDiff       173665 non-null  float64\n",
      "dtypes: Int64(26), float64(11), int64(5), object(1)\n",
      "memory usage: 62.6+ MB\n"
     ]
    }
   ],
   "source": [
    "pbp_df = pd.merge(pbp_df, eScoreDiff[['gamecode','driveid','offenseTeam','driveScoreDiffChange','driveOutcome']], on=['gamecode','driveid','offenseTeam'])\n",
    "sScoreDiff.rename(columns={'scoreDiff':'driveStartScoreDiff'}, inplace=True)\n",
    "pbp_df = pd.merge(pbp_df, sScoreDiff[['gamecode','driveid','offenseTeam','driveStartScoreDiff']], on=['gamecode','driveid','offenseTeam'])\n",
    "pbp_df.info()"
   ]
  },
  {
   "cell_type": "markdown",
   "metadata": {},
   "source": [
    "## 0.2 Game data"
   ]
  },
  {
   "cell_type": "code",
   "execution_count": 30,
   "metadata": {},
   "outputs": [],
   "source": [
    "id = (win_df.homeTeam==win_df.offenseTeam) & (win_df.homeFinalScore>win_df.awayFinalScore)\n",
    "id = id | ((win_df.awayTeam==win_df.offenseTeam) & (win_df.homeFinalScore<win_df.awayFinalScore))\n",
    "\n",
    "win_df['offenseWin'] = id.astype('bool')\n",
    "\n",
    "# regular game time outcome: 0: lose, 1: win, 2: tie\n",
    "win_df['regularTimeResultForOffense'] = 0\n",
    "win_df.loc[win_df.offenseWin,'regularTimeResultForOffense'] = 1\n",
    "win_df.loc[win_df.overTime, 'regularTimeResultForOffense'] = 2"
   ]
  },
  {
   "cell_type": "code",
   "execution_count": 12,
   "metadata": {
    "collapsed": true,
    "jupyter": {
     "outputs_hidden": true
    }
   },
   "outputs": [
    {
     "name": "stdout",
     "output_type": "stream",
     "text": [
      "<class 'pandas.core.frame.DataFrame'>\n",
      "RangeIndex: 2552 entries, 0 to 2551\n",
      "Data columns (total 6 columns):\n",
      " #   Column                     Non-Null Count  Dtype  \n",
      "---  ------                     --------------  -----  \n",
      " 0   teamid                     2552 non-null   Int64  \n",
      " 1   gamecode                   2552 non-null   Int64  \n",
      " 2   gametimeinseconds          2552 non-null   float64\n",
      " 3   timeofpossessioninseconds  2552 non-null   float64\n",
      " 4   totalpoints                2552 non-null   Int64  \n",
      " 5   overTime                   2552 non-null   bool   \n",
      "dtypes: Int64(3), bool(1), float64(2)\n",
      "memory usage: 109.8 KB\n",
      "None\n"
     ]
    },
    {
     "data": {
      "text/plain": [
       "130"
      ]
     },
     "execution_count": 12,
     "metadata": {},
     "output_type": "execute_result"
    }
   ],
   "source": [
    "# query team game-level stats\n",
    "\n",
    "simple_query = f'''\n",
    "select \n",
    "   teamid,\n",
    "   eventmetadata.gameCode as gamecode,\n",
    "   gametimeinseconds,\n",
    "   timeofpossessioninseconds,\n",
    "   totalpoints,\n",
    "   case \n",
    "       when gametimeinminutes > 60 then True\n",
    "       else False\n",
    "       end\n",
    "       overTime\n",
    "       \n",
    "from datalakefootball.team_aggregated_game_stats\n",
    "where \n",
    "    season>='2016' and\n",
    "    eventmetadata.week is not null\n",
    "    and eventmetadata.eventtypeid in (1,2)\n",
    "'''\n",
    "\n",
    "if True:\n",
    "    game_df = cursor.execute(simple_query).as_pandas()\n",
    "    print(game_df.info())\n",
    "else:\n",
    "    print(\"Failed to query!\")\n",
    "        \n",
    "np.sum(game_df.overTime)"
   ]
  },
  {
   "cell_type": "code",
   "execution_count": 13,
   "metadata": {},
   "outputs": [
    {
     "data": {
      "text/html": [
       "<div>\n",
       "<style scoped>\n",
       "    .dataframe tbody tr th:only-of-type {\n",
       "        vertical-align: middle;\n",
       "    }\n",
       "\n",
       "    .dataframe tbody tr th {\n",
       "        vertical-align: top;\n",
       "    }\n",
       "\n",
       "    .dataframe thead th {\n",
       "        text-align: right;\n",
       "    }\n",
       "</style>\n",
       "<table border=\"1\" class=\"dataframe\">\n",
       "  <thead>\n",
       "    <tr style=\"text-align: right;\">\n",
       "      <th></th>\n",
       "      <th>teamid</th>\n",
       "      <th>gamecode</th>\n",
       "      <th>gametimeinseconds</th>\n",
       "      <th>timeofpossessioninseconds</th>\n",
       "      <th>totalpoints</th>\n",
       "      <th>overTime</th>\n",
       "    </tr>\n",
       "  </thead>\n",
       "  <tbody>\n",
       "    <tr>\n",
       "      <th>311</th>\n",
       "      <td>332</td>\n",
       "      <td>1635660</td>\n",
       "      <td>3600.0</td>\n",
       "      <td>2362.0</td>\n",
       "      <td>25</td>\n",
       "      <td>False</td>\n",
       "    </tr>\n",
       "  </tbody>\n",
       "</table>\n",
       "</div>"
      ],
      "text/plain": [
       "     teamid  gamecode  gametimeinseconds  timeofpossessioninseconds  \\\n",
       "311     332   1635660             3600.0                     2362.0   \n",
       "\n",
       "     totalpoints  overTime  \n",
       "311           25     False  "
      ]
     },
     "execution_count": 13,
     "metadata": {},
     "output_type": "execute_result"
    }
   ],
   "source": [
    "# fix a DB error: 2016 Denver vs Saints\n",
    "id = (game_df.gamecode == 1635660) & (game_df.teamid==332)\n",
    "game_df.loc[id, 'totalpoints'] = 25\n",
    "game_df[id]"
   ]
  },
  {
   "cell_type": "code",
   "execution_count": 14,
   "metadata": {
    "collapsed": true,
    "jupyter": {
     "outputs_hidden": true
    }
   },
   "outputs": [
    {
     "name": "stdout",
     "output_type": "stream",
     "text": [
      "<class 'pandas.core.frame.DataFrame'>\n",
      "Int64Index: 173665 entries, 0 to 173664\n",
      "Data columns (total 49 columns):\n",
      " #   Column                    Non-Null Count   Dtype  \n",
      "---  ------                    --------------   -----  \n",
      " 0   season                    173665 non-null  Int64  \n",
      " 1   week                      173665 non-null  Int64  \n",
      " 2   gamecode                  173665 non-null  Int64  \n",
      " 3   eventtypeid               173665 non-null  Int64  \n",
      " 4   gameUTCTime               173665 non-null  Int64  \n",
      " 5   homeTeam                  173665 non-null  Int64  \n",
      " 6   awayTeam                  173665 non-null  Int64  \n",
      " 7   offenseTeam               173665 non-null  Int64  \n",
      " 8   defenseTeam               173665 non-null  Int64  \n",
      " 9   playid                    173665 non-null  Int64  \n",
      " 10  driveid                   173665 non-null  Int64  \n",
      " 11  period                    173665 non-null  Int64  \n",
      " 12  secondsRemainingInPeriod  173665 non-null  float64\n",
      " 13  gameTime                  173665 non-null  float64\n",
      " 14  remainingGameTime         173665 non-null  Int64  \n",
      " 15  halfGame                  173665 non-null  Int64  \n",
      " 16  down                      173665 non-null  Int64  \n",
      " 17  yardsToGo                 173665 non-null  float64\n",
      " 18  yardsFromGoal             173665 non-null  float64\n",
      " 19  awayScore                 173665 non-null  Int64  \n",
      " 20  homeScore                 173665 non-null  Int64  \n",
      " 21  awayScoreAfter            173665 non-null  Int64  \n",
      " 22  homeScoreAfter            173665 non-null  Int64  \n",
      " 23  homeFinalScore            173665 non-null  Int64  \n",
      " 24  awayFinalScore            173665 non-null  Int64  \n",
      " 25  offenseScore              173665 non-null  Int64  \n",
      " 26  playtypeid                173665 non-null  Int64  \n",
      " 27  playName                  173665 non-null  object \n",
      " 28  playDesign                173665 non-null  Int64  \n",
      " 29  offenseTimeout            173665 non-null  Int64  \n",
      " 30  defenseTimeout            173665 non-null  Int64  \n",
      " 31  scoreDiff                 173665 non-null  float64\n",
      " 32  scoreDiffAfter            173665 non-null  float64\n",
      " 33  adjScoreDiff              173665 non-null  float64\n",
      " 34  homeTO                    173665 non-null  int64  \n",
      " 35  awayTO                    173665 non-null  int64  \n",
      " 36  remainingHomeTOs          173665 non-null  int64  \n",
      " 37  remainingAwayTOs          173665 non-null  int64  \n",
      " 38  remainingOffenseTOs       173665 non-null  float64\n",
      " 39  remainingDefenseTOs       173665 non-null  float64\n",
      " 40  driveScoreDiffChange      173665 non-null  float64\n",
      " 41  driveOutcome              173665 non-null  int64  \n",
      " 42  driveStartScoreDiff       173665 non-null  float64\n",
      " 43  home_TOP                  173665 non-null  float64\n",
      " 44  home_points               173665 non-null  Int64  \n",
      " 45  overTime                  173665 non-null  bool   \n",
      " 46  gametimeinseconds         173665 non-null  float64\n",
      " 47  away_TOP                  173665 non-null  float64\n",
      " 48  away_points               173665 non-null  Int64  \n",
      "dtypes: Int64(28), bool(1), float64(14), int64(5), object(1)\n",
      "memory usage: 69.7+ MB\n"
     ]
    }
   ],
   "source": [
    "# merge info for offense team\n",
    "win_df = pd.merge(pbp_df, game_df, left_on=['gamecode','homeTeam'], right_on=['gamecode','teamid'])\n",
    "\n",
    "win_df.rename(columns={'timeofpossessioninseconds':'home_TOP', 'totalpoints':'home_points'}, inplace=True)\n",
    "\n",
    "win_df.drop(columns=['teamid','gametimeinseconds'], inplace=True)\n",
    "\n",
    "# merge info for defense team\n",
    "win_df = pd.merge(win_df, game_df.drop(['overTime'],axis=1), left_on=['gamecode','awayTeam'], right_on=['gamecode','teamid'])\n",
    "\n",
    "win_df.rename(columns={'timeofpossessioninseconds':'away_TOP', 'totalpoints':'away_points'}, inplace=True)\n",
    "\n",
    "win_df.drop(columns=['teamid'], inplace=True)\n",
    "\n",
    "win_df.info()"
   ]
  },
  {
   "cell_type": "code",
   "execution_count": 15,
   "metadata": {},
   "outputs": [],
   "source": [
    "id = (win_df.homeTeam==win_df.offenseTeam) & (win_df.home_points>win_df.away_points)\n",
    "id = id | ((win_df.awayTeam==win_df.offenseTeam) & (win_df.home_points<win_df.away_points))\n",
    "\n",
    "win_df['offenseWin'] = id.astype('bool')"
   ]
  },
  {
   "cell_type": "code",
   "execution_count": 16,
   "metadata": {},
   "outputs": [],
   "source": [
    "# NCAA not allowing for tie\n",
    "id = (win_df.homeTeam==win_df.offenseTeam) & (win_df.homeFinalScore>win_df.awayFinalScore)\n",
    "id = id | ((win_df.awayTeam==win_df.offenseTeam) & (win_df.homeFinalScore<win_df.awayFinalScore))\n",
    "\n",
    "win_df['offenseWin_2'] = id.astype('bool')"
   ]
  },
  {
   "cell_type": "code",
   "execution_count": 18,
   "metadata": {
    "collapsed": true,
    "jupyter": {
     "outputs_hidden": true
    }
   },
   "outputs": [
    {
     "data": {
      "text/plain": [
       "(array([29328, 29329, 29330, 29331, 29332, 29333, 29334, 29335, 29336,\n",
       "        29337, 29338, 29339, 29340, 29341, 29342, 29343, 29344, 29345,\n",
       "        29346, 29347, 29348, 29349, 29350, 29351, 29352, 29353, 29354,\n",
       "        29355, 29356, 29357, 29358, 29359, 29360, 29361, 29362, 29363,\n",
       "        29364, 29365, 29366, 29367, 29368, 29369, 29370, 29371, 29372,\n",
       "        29373, 29374, 29375, 29376, 29377, 29378, 29379, 29380, 29381,\n",
       "        29382, 29383, 29384, 29385, 29386, 29387, 29388, 29389, 29390,\n",
       "        29391, 29392, 29393, 29394, 29395, 29396, 29397, 29398, 29399,\n",
       "        29400, 29401, 29402, 29403, 29404, 29405, 29406, 29407, 29408,\n",
       "        29409, 29410, 29411, 29412, 29413, 29414, 29415, 29416, 29417,\n",
       "        29418, 29419, 29420, 29421, 29422, 29423, 29424, 29425, 29426,\n",
       "        29427, 29428, 29429, 29430, 29431, 29432, 29433, 29434, 29435,\n",
       "        29436, 29437, 29438, 29439, 29440, 29441, 29442, 29443, 29444,\n",
       "        29445, 29446, 29447, 29448, 29449, 29450, 29451, 29452, 29453,\n",
       "        29454, 29455, 29456, 29457, 29458, 29459, 29460, 29461, 29462,\n",
       "        29463, 29464, 29465, 29466, 29467, 29468, 29469, 29470, 29471,\n",
       "        29472, 29473, 29474, 29475, 29476, 29477, 29478, 29479]),)"
      ]
     },
     "execution_count": 18,
     "metadata": {},
     "output_type": "execute_result"
    }
   ],
   "source": [
    "np.where(win_df.offenseWin != win_df.offenseWin_2)"
   ]
  },
  {
   "cell_type": "code",
   "execution_count": 28,
   "metadata": {},
   "outputs": [],
   "source": [
    "win_df[29327:29337]\n",
    "win_df['regularTimeResultForOffense'] = 0\n",
    "win_df.loc[win_df.offenseWin_2,'regularTimeResultForOffense'] = 1\n",
    "win_df.loc[win_df.overTime, 'regularTimeResultForOffense'] = 2"
   ]
  },
  {
   "cell_type": "code",
   "execution_count": 29,
   "metadata": {},
   "outputs": [
    {
     "name": "stdout",
     "output_type": "stream",
     "text": [
      "79201\n",
      "84137\n",
      "10327\n"
     ]
    }
   ],
   "source": [
    "print(sum(win_df.regularTimeResultForOffense==0))\n",
    "print(sum(win_df.regularTimeResultForOffense==1))\n",
    "print(sum(win_df.regularTimeResultForOffense==2))"
   ]
  },
  {
   "cell_type": "code",
   "execution_count": 25,
   "metadata": {},
   "outputs": [],
   "source": [
    "# regular game time outcome: 0: lose, 1: win, 2: tie\n",
    "win_df['regularTimeResultForOffense'] = 0\n",
    "\n",
    "id = (win_df.homeTeam==win_df.offenseTeam) & (win_df.home_points>win_df.away_points)\n",
    "id = id | ((win_df.awayTeam==win_df.offenseTeam) & (win_df.home_points<win_df.away_points))\n",
    "\n",
    "win_df.regularTimeResultForOffense[id] = 1\n",
    "\n",
    "id = win_df.overTime\n",
    "win_df.regularTimeResultForOffense[id] = 2"
   ]
  },
  {
   "cell_type": "code",
   "execution_count": 31,
   "metadata": {},
   "outputs": [
    {
     "name": "stdout",
     "output_type": "stream",
     "text": [
      "79201\n",
      "84137\n",
      "10327\n"
     ]
    }
   ],
   "source": [
    "print(sum(win_df.regularTimeResultForOffense==0))\n",
    "print(sum(win_df.regularTimeResultForOffense==1))\n",
    "print(sum(win_df.regularTimeResultForOffense==2))"
   ]
  },
  {
   "cell_type": "code",
   "execution_count": null,
   "metadata": {},
   "outputs": [],
   "source": [
    "sum(win_df.regularTimeResultForOffense==2)"
   ]
  },
  {
   "cell_type": "markdown",
   "metadata": {},
   "source": [
    "## 0.3 Pre-game odds"
   ]
  },
  {
   "cell_type": "code",
   "execution_count": 32,
   "metadata": {},
   "outputs": [
    {
     "name": "stdout",
     "output_type": "stream",
     "text": [
      "<class 'pandas.core.frame.DataFrame'>\n",
      "RangeIndex: 1331 entries, 0 to 1330\n",
      "Data columns (total 5 columns):\n",
      " #   Column          Non-Null Count  Dtype  \n",
      "---  ------          --------------  -----  \n",
      " 0   gamecode        1331 non-null   Int64  \n",
      " 1   lineScope       1331 non-null   object \n",
      " 2   lineType        1331 non-null   object \n",
      " 3   favoritepoints  1331 non-null   float64\n",
      " 4   favoriteteamid  1331 non-null   Int64  \n",
      "dtypes: Int64(2), float64(1), object(2)\n",
      "memory usage: 54.7+ KB\n",
      "None\n"
     ]
    }
   ],
   "source": [
    "simple_query = f'''\n",
    "WITH subQuery AS\n",
    "(\n",
    "    SELECT\n",
    "        event.eventId AS eventId,\n",
    "        lineList.scope.name AS lineScope,\n",
    "        lineList.line AS lineData,\n",
    "        cast(season as integer) season,\n",
    "        eventmetadata.gamecode gamecode\n",
    "    FROM datalakefootball.odds,\n",
    "        UNNEST(event.lines) t(lineList)\n",
    "    WHERE leagueid='8'\n",
    ")\n",
    "SELECT\n",
    "    --season,\n",
    "    gamecode,\n",
    "    --eventId,\n",
    "    lineScope,\n",
    "    sublineList.lineType.name AS lineType,\n",
    "    --sublineList.total AS overUnderPoints,\n",
    "    sublineList.favoritePoints,\n",
    "    sublineList.favoriteTeamId\n",
    "    --sublineList\n",
    "FROM subQuery,\n",
    "    UNNEST(lineData) t(sublineList)\n",
    "WHERE sublineList.lineType.name = 'current' and season >= 2016 and season <= 2019\n",
    "'''\n",
    "\n",
    "if True:\n",
    "    odds_df = cursor.execute(simple_query).as_pandas()\n",
    "    print(odds_df.info())\n",
    "else:\n",
    "    print(\"Failed to query!\")"
   ]
  },
  {
   "cell_type": "code",
   "execution_count": 33,
   "metadata": {},
   "outputs": [],
   "source": [
    "win_df = pd.merge(win_df, odds_df, left_on=['gamecode'], right_on=['gamecode'])\n",
    "\n",
    "win_df['offenseFavoritePoints'] = win_df.favoritepoints\n",
    "id = win_df.defenseTeam == win_df.favoriteteamid\n",
    "win_df.loc[id, 'offenseFavoritePoints'] = win_df.favoritepoints[id] * (-1)"
   ]
  },
  {
   "cell_type": "markdown",
   "metadata": {},
   "source": [
    "## 0.4 legacy in-game win probability"
   ]
  },
  {
   "cell_type": "code",
   "execution_count": null,
   "metadata": {},
   "outputs": [],
   "source": [
    "def parseInGameWinProb(url):\n",
    "\n",
    "    legacy_win = requests.get(legacy_win_url).json()\n",
    "\n",
    "    gameList = []\n",
    "\n",
    "    for j_obj in legacy_win['apiResults'][0]['league']['season']['eventType'][0]['winProbability']:\n",
    "        eventId = j_obj['eventId']\n",
    "        print(eventId)\n",
    "\n",
    "        oneGame = pd.json_normalize(j_obj['pbp'], ['teams'], ['playId'], record_prefix='', errors='ignore')\n",
    "        oneGame['gamecode'] = eventId\n",
    "\n",
    "        gameList.append(oneGame)\n",
    "        \n",
    "    print(len(gameList))\n",
    "\n",
    "    df = pd.concat(gameList)\n",
    "    \n",
    "    return df"
   ]
  },
  {
   "cell_type": "code",
   "execution_count": null,
   "metadata": {},
   "outputs": [],
   "source": [
    "# 2019 week 1, 20190908\n",
    "legacy_win_url = 'http://api.stats.com/v1/stats/football/nfl/winProbability/?date=2019-09-08&accept=json&api_key=nv8332hg23gc6sqtxmwkk7c7&sig=2c6cb7e118f75f22b56d6494bba13974d78b126a7531c622a3ffcf9fe854cf65'\n",
    "legacy_win_1 = parseInGameWinProb(legacy_win_url)"
   ]
  },
  {
   "cell_type": "code",
   "execution_count": null,
   "metadata": {},
   "outputs": [],
   "source": [
    "# 2019 week 5, 20191006\n",
    "legacy_win_url = 'http://api.stats.com/v1/stats/football/nfl/winProbability/?date=2019-10-06&accept=json&api_key=nv8332hg23gc6sqtxmwkk7c7&sig=0de6c1ef4bba89822a64e68b86ef4b79a1ec02d6684f690f627ffefc912d18e8'\n",
    "legacy_win_5 = parseInGameWinProb(legacy_win_url)"
   ]
  },
  {
   "cell_type": "code",
   "execution_count": null,
   "metadata": {},
   "outputs": [],
   "source": [
    "# 2019 week 9, 20191103\n",
    "legacy_win_url = 'http://api.stats.com/v1/stats/football/nfl/winProbability/?date=2019-11-03&accept=json&api_key=nv8332hg23gc6sqtxmwkk7c7&sig=eb2892743069d4f78ce5fe4412d77c6cc2bd740e00b7c46fb88ed1eaeb709647'\n",
    "legacy_win_9 = parseInGameWinProb(legacy_win_url)"
   ]
  },
  {
   "cell_type": "code",
   "execution_count": null,
   "metadata": {},
   "outputs": [],
   "source": [
    "# 2019 week 10, 20191111\n",
    "legacy_win_url = 'http://api.stats.com/v1/stats/football/nfl/winProbability/?date=2019-11-11&accept=json&api_key=nv8332hg23gc6sqtxmwkk7c7&sig=4710d87e5f884d99d5b27bcb7500167f9f28f9b4e7d60b2aafde272d04d25f1a'\n",
    "legacy_win_10 = parseInGameWinProb(legacy_win_url)"
   ]
  },
  {
   "cell_type": "code",
   "execution_count": null,
   "metadata": {},
   "outputs": [],
   "source": [
    "# 2019 week 14, 20191209\n",
    "legacy_win_url = 'http://api.stats.com/v1/stats/football/nfl/winProbability/?date=2019-12-09&accept=json&api_key=nv8332hg23gc6sqtxmwkk7c7&sig=d1f710b76f8340919da81cde7947b21c110bf545d905fd174e13793dcdf7b027'\n",
    "legacy_win_14 = parseInGameWinProb(legacy_win_url)"
   ]
  },
  {
   "cell_type": "code",
   "execution_count": null,
   "metadata": {},
   "outputs": [],
   "source": [
    "# 2019 week 16, 20191222\n",
    "legacy_win_url = 'http://api.stats.com/v1/stats/football/nfl/winProbability/?date=2019-11-03&accept=json&api_key=nv8332hg23gc6sqtxmwkk7c7&sig=eb2892743069d4f78ce5fe4412d77c6cc2bd740e00b7c46fb88ed1eaeb709647'\n",
    "legacy_win_16 = parseInGameWinProb(legacy_win_url)"
   ]
  },
  {
   "cell_type": "code",
   "execution_count": null,
   "metadata": {},
   "outputs": [],
   "source": [
    "# 2019 week 18, gamecode: 2142279\n",
    "legacy_win_url = 'http://api.stats.com/v1/stats/football/nfl/winProbability/2142279?accept=json&api_key=nv8332hg23gc6sqtxmwkk7c7&sig=872cd6167a0accece08b4951f65fbb3c0d424fadc55aff33053f75ea46ac5c20'\n",
    "legacy_win_18_1 = parseInGameWinProb(legacy_win_url)"
   ]
  },
  {
   "cell_type": "code",
   "execution_count": null,
   "metadata": {},
   "outputs": [],
   "source": [
    "# 2019 week 18, gamecode: 2142276\n",
    "legacy_win_url = 'http://api.stats.com/v1/stats/football/nfl/winProbability/2142276?accept=json&api_key=nv8332hg23gc6sqtxmwkk7c7&sig=3beff69bcc717c094c45246d55788caf08f29ca1fdb73b82fa3796ceb817a5f7'\n",
    "legacy_win_18_2 = parseInGameWinProb(legacy_win_url)"
   ]
  },
  {
   "cell_type": "code",
   "execution_count": null,
   "metadata": {},
   "outputs": [],
   "source": [
    "# 2019 week 22, superball, gamecode: \n",
    "legacy_win_url = 'http://api.stats.com/v1/stats/football/nfl/winProbability/2142306?accept=json&api_key=nv8332hg23gc6sqtxmwkk7c7&sig=8b7e53342dabecf2d4cbda6cba59989f7c6d585911a8149b1e8ccd5a9088d3aa'\n",
    "legacy_win_22 = parseInGameWinProb(legacy_win_url)"
   ]
  },
  {
   "cell_type": "code",
   "execution_count": null,
   "metadata": {},
   "outputs": [],
   "source": [
    "legacy_win = pd.concat([legacy_win_1, legacy_win_5, legacy_win_9, legacy_win_10, legacy_win_14, \\\n",
    "                        legacy_win_16, legacy_win_18_1, legacy_win_18_2, legacy_win_22], axis=0)\n",
    "legacy_win.shape"
   ]
  },
  {
   "cell_type": "code",
   "execution_count": null,
   "metadata": {},
   "outputs": [],
   "source": [
    "legacy_win['winProbability.before'] = legacy_win['winProbability.before'].astype('float64')\n",
    "legacy_win['winProbability.after'] = legacy_win['winProbability.after'].astype('float64')\n",
    "legacy_win['playId'] = legacy_win['playId'].astype('int64')\n",
    "legacy_win.info()"
   ]
  },
  {
   "cell_type": "code",
   "execution_count": null,
   "metadata": {},
   "outputs": [],
   "source": [
    "win_df.drop(['teamId','winProbability.before','winProbability.after','playId'], axis=1, inplace=True)\n",
    "#win_df[win_df.season==2019].gamecode.unique()"
   ]
  },
  {
   "cell_type": "code",
   "execution_count": null,
   "metadata": {},
   "outputs": [],
   "source": [
    "win_df=pd.merge(win_df, legacy_win, left_on=['gamecode', 'offenseTeam','playid'], right_on=['gamecode','teamId','playId'], how='left')\n",
    "win_df.info()"
   ]
  },
  {
   "cell_type": "code",
   "execution_count": null,
   "metadata": {},
   "outputs": [],
   "source": [
    "legacy_win.gamecode.unique().shape"
   ]
  },
  {
   "cell_type": "markdown",
   "metadata": {},
   "source": [
    "# 1 Feature/label creation"
   ]
  },
  {
   "cell_type": "markdown",
   "metadata": {},
   "source": [
    "## 1.1 features during regular time"
   ]
  },
  {
   "cell_type": "markdown",
   "metadata": {},
   "source": [
    "### (1) features for drive outcome"
   ]
  },
  {
   "cell_type": "code",
   "execution_count": 34,
   "metadata": {},
   "outputs": [
    {
     "name": "stdout",
     "output_type": "stream",
     "text": [
      "(129351, 25) (43165, 25)\n"
     ]
    }
   ],
   "source": [
    "reg_df = win_df[win_df.period<=4]\n",
    "\n",
    "id_train = (reg_df.season < 2019)  #| (win_df.week < 22)) & (win_df.period<=4)\n",
    "id_test  = (reg_df.season == 2019) # & (~win_df['winProbability.before'].isnull())\n",
    "id_superball = (reg_df.season == 2019) & (reg_df.week==22) # & (~win_df['winProbability.before'].isnull()) & (win_df.week==22)\n",
    "\n",
    "num_fields = [\n",
    "                'scoreDiff',\n",
    "                'adjScoreDiff',\n",
    "                #'expectedExtraScore',\n",
    "                #'expectedScoreDiff',\n",
    "                #'expectedAdjScoreDiff',\n",
    "                #'expectedDriveScoreDiff',\n",
    "                #'driveStartScoreDiff',\n",
    "                #'expectedDriveScore',\n",
    "                #'expectedAdjDriveScoreDiff', \n",
    "                'secondsRemainingInPeriod',\n",
    "                'remainingGameTime',\n",
    "                'yardsToGo',\n",
    "                'yardsFromGoal',\n",
    "                'offenseFavoritePoints',\n",
    "                'offenseScore',\n",
    "                'remainingOffenseTOs',\n",
    "                'remainingDefenseTOs',\n",
    "             ]\n",
    "\n",
    "cat_fields = [\n",
    "                'eventtypeid',\n",
    "                 'period',\n",
    "                 'down',\n",
    "                 'playDesign'\n",
    "                #'offenseTimeout',\n",
    "                #'defenseTimeout'\n",
    "             ] \n",
    "\n",
    "# None-StandardScaler version\n",
    "transform_pipeline_drive = ColumnTransformer(transformers=[\n",
    "                                            ('num', 'passthrough', num_fields),\n",
    "                                            ('cat', OneHotEncoder(categories='auto'), cat_fields)\n",
    "                                        ])\n",
    "\n",
    "features_train_drive = transform_pipeline_drive.fit_transform(reg_df[id_train])\n",
    "features_test_drive = transform_pipeline_drive.transform(reg_df[id_test])\n",
    "\n",
    "feature_names = num_fields.copy()\n",
    "cat_one_hot_fields = list(transform_pipeline_drive.named_transformers_.cat.get_feature_names(input_features=cat_fields))\n",
    "feature_names.extend(cat_one_hot_fields)\n",
    "cat_one_hot_fields\n",
    "\n",
    "if type(features_train_drive) == np.ndarray:\n",
    "    features_train_drive = pd.DataFrame(features_train_drive, columns=feature_names, dtype=np.float)\n",
    "    features_test_drive  = pd.DataFrame(features_test_drive, columns=feature_names, dtype=np.float)\n",
    "else:\n",
    "    features_train_drive = pd.DataFrame(features_train_drive.toarray(), columns=feature_names, dtype=np.float)\n",
    "    features_test_drive  = pd.DataFrame(features_test_drive.toarray(), columns=feature_names, dtype=np.float)\n",
    "\n",
    "print(features_train_drive.shape, features_test_drive.shape)"
   ]
  },
  {
   "cell_type": "code",
   "execution_count": 35,
   "metadata": {},
   "outputs": [],
   "source": [
    "# classification label for the whole game\n",
    "label_train_drive = reg_df.driveOutcome[id_train]\n",
    "label_test_drive  = reg_df.driveOutcome[id_test]"
   ]
  },
  {
   "cell_type": "code",
   "execution_count": 36,
   "metadata": {},
   "outputs": [
    {
     "data": {
      "text/plain": [
       "RandomForestClassifier(max_depth=25, min_samples_leaf=20, n_estimators=500,\n",
       "                       random_state=42)"
      ]
     },
     "execution_count": 36,
     "metadata": {},
     "output_type": "execute_result"
    }
   ],
   "source": [
    "model_RFC_drive = RandomForestClassifier(n_estimators=500, max_depth=25, min_samples_leaf=20, random_state=42)\n",
    "model_RFC_drive.fit(features_train_drive, label_train_drive) # features is from section 1.0\n",
    "#pred_d = model_RFC_drive.predict_proba(features)"
   ]
  },
  {
   "cell_type": "markdown",
   "metadata": {},
   "source": [
    "### (2) features for game outcome"
   ]
  },
  {
   "cell_type": "code",
   "execution_count": 37,
   "metadata": {},
   "outputs": [],
   "source": [
    "# use drive outcome model to create a feature \n",
    "# calculate expected score\n",
    "\n",
    "features_drive = transform_pipeline_drive.transform(reg_df)\n",
    "\n",
    "pred_d = model_RFC_drive.predict_proba(features_drive)\n",
    "\n",
    "reg_df['expectedDriveScore'] = np.dot(pred_d, np.array([0,1,2,3,6,7,8,-2,-6]))\n",
    "reg_df['expectedScoreDiff'] = reg_df.driveStartScoreDiff + reg_df.expectedDriveScore\n",
    "reg_df['adjExpectedScoreDiff'] = reg_df.expectedScoreDiff / np.power(reg_df.remainingGameTime+1, 0.5)\n",
    "\n",
    "reg_df['expectedExtraScore'] = reg_df.driveStartScoreDiff - reg_df.scoreDiff + reg_df.expectedDriveScore"
   ]
  },
  {
   "cell_type": "code",
   "execution_count": 38,
   "metadata": {},
   "outputs": [
    {
     "name": "stdout",
     "output_type": "stream",
     "text": [
      "(129351, 26) (43165, 26) (157, 26)\n"
     ]
    }
   ],
   "source": [
    "num_fields = [\n",
    "                'scoreDiff',\n",
    "                'expectedExtraScore',\n",
    "                #'adjScoreDiff',\n",
    "                #'expectedScoreDiff',\n",
    "                #'expectedAdjScoreDiff',\n",
    "                #'expectedDriveScoreDiff',\n",
    "                #'driveStartScoreDiff',\n",
    "                #'expectedDriveScore',\n",
    "                'adjExpectedScoreDiff', \n",
    "                'secondsRemainingInPeriod',\n",
    "                'remainingGameTime',\n",
    "                'yardsToGo',\n",
    "                'yardsFromGoal',\n",
    "                'offenseFavoritePoints',\n",
    "                'offenseScore',\n",
    "                'remainingOffenseTOs',\n",
    "                'remainingDefenseTOs',\n",
    "             ]\n",
    "\n",
    "cat_fields = [\n",
    "                'eventtypeid',\n",
    "                 'period',\n",
    "                 'down',\n",
    "                 'playDesign'\n",
    "                #'offenseTimeout',\n",
    "                #'defenseTimeout'\n",
    "             ] \n",
    "\n",
    "# None-StandardScaler version\n",
    "transform_pipeline_2 = ColumnTransformer(transformers=[\n",
    "                                            ('num', 'passthrough', num_fields),\n",
    "                                            ('cat', OneHotEncoder(categories='auto'), cat_fields)\n",
    "                                        ])\n",
    "features_train = transform_pipeline_2.fit_transform(reg_df[id_train])\n",
    "features_test  = transform_pipeline_2.transform(reg_df[id_test])\n",
    "features_superball = transform_pipeline_2.transform(reg_df[id_superball])\n",
    "#print(features.shape)\n",
    "\n",
    "feature_names = num_fields.copy()\n",
    "cat_one_hot_fields = list(transform_pipeline_2.named_transformers_.cat.get_feature_names(input_features=cat_fields))\n",
    "feature_names.extend(cat_one_hot_fields)\n",
    "cat_one_hot_fields\n",
    "\n",
    "if type(features_train) == np.ndarray:\n",
    "    features_train = pd.DataFrame(features_train, columns=feature_names, dtype=np.float)\n",
    "    features_test  = pd.DataFrame(features_test,  columns=feature_names, dtype=np.float)\n",
    "    features_superball  = pd.DataFrame(features_superball,  columns=feature_names, dtype=np.float)\n",
    "else:\n",
    "    features_train = pd.DataFrame(features_train.toarray(), columns=feature_names, dtype=np.float)\n",
    "    features_test  = pd.DataFrame(features_test.toarray(),  columns=feature_names, dtype=np.float)\n",
    "    features_superball  = pd.DataFrame(features_superball.toarray(),  columns=feature_names, dtype=np.float)\n",
    "\n",
    "print(features_train.shape, features_test.shape, features_superball.shape)"
   ]
  },
  {
   "cell_type": "code",
   "execution_count": 39,
   "metadata": {},
   "outputs": [],
   "source": [
    "# classification label for the whole game\n",
    "label_train = reg_df.offenseWin[id_train]\n",
    "label_test  = reg_df.offenseWin[id_test]\n",
    "label_superball  = reg_df.offenseWin[id_superball]"
   ]
  },
  {
   "cell_type": "code",
   "execution_count": null,
   "metadata": {},
   "outputs": [],
   "source": [
    "print(sum(id_test) )\n",
    "legacy_prob=reg_df['winProbability.before'][id_test]\n",
    "legacy_prob_superball=reg_df['winProbability.before'][id_superball]"
   ]
  },
  {
   "cell_type": "code",
   "execution_count": null,
   "metadata": {},
   "outputs": [],
   "source": [
    "features_superball.info()"
   ]
  },
  {
   "cell_type": "markdown",
   "metadata": {},
   "source": [
    "## 1.2 features during over-time"
   ]
  },
  {
   "cell_type": "code",
   "execution_count": null,
   "metadata": {},
   "outputs": [],
   "source": [
    "# note: for OT, starting the 2nd round, only a field goal is enough, so the probability to do that is much higher!!!\n",
    "\n",
    "num_fields = [\n",
    "                'scoreDiff',\n",
    "                #'adjScoreDiff',\n",
    "                #'secondsRemainingInPeriod',\n",
    "                'yardsToGo',\n",
    "                'yardsFromGoal',\n",
    "                'offenseFavoritePoints',\n",
    "                #'remainingGameTime',\n",
    "                #'offenseScore',\n",
    "                'remainingOffenseTOs',\n",
    "                'remainingDefenseTOs',\n",
    "             ]\n",
    "\n",
    "cat_fields = [\n",
    "                'eventtypeid',\n",
    "                #'period',\n",
    "                'down',\n",
    "                'playDesign'\n",
    "                #'offenseTimeout',\n",
    "                #'defenseTimeout'\n",
    "             ] \n",
    "\n",
    "# None-StandardScaler version\n",
    "transform_pipeline_2 = ColumnTransformer(transformers=[\n",
    "                                            ('num', 'passthrough', num_fields),\n",
    "                                            ('cat', OneHotEncoder(categories='auto'), cat_fields)\n",
    "                                        ])\n",
    "features = transform_pipeline_2.fit_transform(win_df)\n",
    "print(features.shape)\n",
    "\n",
    "feature_names_o = num_fields.copy()\n",
    "cat_one_hot_fields = list(transform_pipeline_2.named_transformers_.cat.get_feature_names(input_features=cat_fields))\n",
    "feature_names_o.extend(cat_one_hot_fields)\n",
    "cat_one_hot_fields\n",
    "\n",
    "if type(features) == np.ndarray:\n",
    "    features = pd.DataFrame(features, columns=feature_names_o)\n",
    "else:\n",
    "    features = pd.DataFrame(features.toarray(), columns=feature_names_o)\n",
    "\n",
    "features.info()"
   ]
  },
  {
   "cell_type": "code",
   "execution_count": null,
   "metadata": {},
   "outputs": [],
   "source": [
    "id_train_o = (win_df.season < 2019) #| ~win_df.overTime\n",
    "id_test_o  = (win_df.season == 2019) #& win_df.overTime #& (~win_df['winProbability.before'].isnull())\n",
    "\n",
    "# classification label for the whole game\n",
    "label_o_train = win_df.driveOutcome[id_train_o]\n",
    "label_o_test  = win_df.driveOutcome[id_test_o]\n",
    "#label_o_superball  = win_df.driveOutcome[id_superball]\n",
    "\n",
    "features_o_train=features.loc[id_train_o]\n",
    "features_o_test =features.loc[id_test_o]\n",
    "#features_o_superball =features.loc[id_superball]\n",
    "\n",
    "print(sum(id_train_o), sum(id_test_o))"
   ]
  },
  {
   "cell_type": "code",
   "execution_count": null,
   "metadata": {},
   "outputs": [],
   "source": [
    "cat_fields = [\n",
    "                'offenseTeam',\n",
    "             ] \n",
    "\n",
    "# None-StandardScaler version\n",
    "transform_pipeline_3 = ColumnTransformer(transformers=[\n",
    "                                            ('cat', OneHotEncoder(categories='auto'), cat_fields)\n",
    "                                        ])\n",
    "\n",
    "features = transform_pipeline_3.fit_transform(win_df)\n",
    "print(features.shape)\n",
    "\n",
    "feature_names_d = []\n",
    "cat_one_hot_fields = list(transform_pipeline_3.named_transformers_.cat.get_feature_names(input_features=cat_fields))\n",
    "feature_names_d.extend(cat_one_hot_fields)\n",
    "print(cat_one_hot_fields)\n",
    "\n",
    "if type(features) == np.ndarray:\n",
    "    features = pd.DataFrame(features, columns=feature_names_d)\n",
    "else:\n",
    "    features = pd.DataFrame(features.toarray(), columns=feature_names_d)\n",
    "\n",
    "id_train_o = (win_df.season < 2019) #| ~win_df.overTime\n",
    "id_test_o  = (win_df.season == 2019) #& win_df.overTime #& (~win_df['winProbability.before'].isnull())\n",
    "\n",
    "features_d_train=features.loc[id_train_o]\n",
    "features_d_test =features.loc[id_test_o]\n",
    "\n",
    "# classification label for the whole game\n",
    "label_d_train = (win_df.driveOutcome==0)[id_train_o]\n",
    "label_d_test  = (win_df.driveOutcome==0)[id_test_o]"
   ]
  },
  {
   "cell_type": "code",
   "execution_count": null,
   "metadata": {},
   "outputs": [],
   "source": [
    "driveOutcomes[driveOutcomes.offenseTeam.isin([357,338, 332])]"
   ]
  },
  {
   "cell_type": "code",
   "execution_count": null,
   "metadata": {},
   "outputs": [],
   "source": [
    "print(sum(id_test_o) )\n",
    "legacy_prob_o=win_df['winProbability.before'][id_test_o]"
   ]
  },
  {
   "cell_type": "markdown",
   "metadata": {},
   "source": [
    "# 2 Model Study"
   ]
  },
  {
   "cell_type": "markdown",
   "metadata": {},
   "source": [
    "## 2.0 play outcome model"
   ]
  },
  {
   "cell_type": "code",
   "execution_count": null,
   "metadata": {},
   "outputs": [],
   "source": [
    "# instantiate models\n",
    "folds = 5\n",
    "\n",
    "model_RFC_play = RandomForestClassifier(n_estimators=200, max_depth=15, min_samples_leaf=20, random_state=42)"
   ]
  },
  {
   "cell_type": "code",
   "execution_count": null,
   "metadata": {},
   "outputs": [],
   "source": [
    "# Random forest classification\n",
    "\n",
    "scores_RFC_play = cross_validate(model_RFC_play,\n",
    "    features_train_play,\n",
    "    label_train_play,\n",
    "    cv=folds,\n",
    "    scoring=(['recall_micro','precision_micro','f1_micro','roc_auc_ovr_weighted']))\n",
    "print('Win Probability - Random Forest Classifier (P/R/F1/ROC): {:.1%}  {:.1%}  {:.1%} {:.1%}'.format(scores_RFC_play['test_recall_micro'].mean(), \n",
    "                                                                                scores_RFC_play['test_precision_micro'].mean(), \n",
    "                                                                                scores_RFC_play['test_f1_micro'].mean(),\n",
    "                                                                                scores_RFC_play['test_roc_auc_ovr_weighted'].mean()))\n",
    "#sorted(SCORERS.keys()) "
   ]
  },
  {
   "cell_type": "code",
   "execution_count": null,
   "metadata": {},
   "outputs": [],
   "source": [
    "# feature importance study\n",
    "model_RFC_plfeatures_trainay.fit(_play, label_train_play)\n",
    "feature_score = pd.DataFrame([feature_names_play, model_RFC_play.feature_importances_], index=['feature','importance']).transpose()\n",
    "feature_score.sort_values(by='importance', ascending=False)"
   ]
  },
  {
   "cell_type": "markdown",
   "metadata": {},
   "source": [
    "## 2.1 Regular game time"
   ]
  },
  {
   "cell_type": "code",
   "execution_count": 40,
   "metadata": {},
   "outputs": [],
   "source": [
    "# instantiate models\n",
    "folds = 5\n",
    "\n",
    "model_logistic = LogisticRegression(solver='lbfgs', fit_intercept=True, max_iter=10000, tol=1e-4, random_state=42)\n",
    "\n",
    "model_RFC = RandomForestClassifier(n_estimators=100, max_depth=10, min_samples_leaf=10, random_state=42)\n",
    "\n",
    "model_SGD = SGDClassifier(loss='log', penalty=None, fit_intercept=True, max_iter=10000, tol=1e-4, random_state=42)\n",
    "\n",
    "model_SVC = LinearSVC(max_iter=10000, tol=1e-4, random_state=42)\n",
    "\n",
    "model_RFR = RandomForestRegressor(n_estimators=100, max_depth=20, min_samples_leaf=10, random_state=42)"
   ]
  },
  {
   "cell_type": "code",
   "execution_count": 41,
   "metadata": {},
   "outputs": [],
   "source": [
    "from tensorflow.keras.wrappers.scikit_learn import KerasClassifier\n",
    "\n",
    "def create_DL_model():\n",
    "    model_DL = keras.models.Sequential([\n",
    "        keras.layers.Flatten(input_shape=[26,]),\n",
    "        keras.layers.BatchNormalization(),\n",
    "        keras.layers.Dense(250, activation='elu', kernel_initializer=\"he_normal\"),\n",
    "        keras.layers.BatchNormalization(),\n",
    "        keras.layers.Dense(150, activation='elu', kernel_initializer=\"he_normal\"),\n",
    "        keras.layers.BatchNormalization(),\n",
    "        keras.layers.Dense(80, activation='elu', kernel_initializer=\"he_normal\"),\n",
    "        keras.layers.BatchNormalization(),\n",
    "        keras.layers.Dense(30, activation='elu', kernel_initializer=\"he_normal\"),\n",
    "        keras.layers.BatchNormalization(),\n",
    "        keras.layers.Dense(1, activation='sigmoid')\n",
    "    ])\n",
    "\n",
    "    # multi-nomial classification\n",
    "    #model.compile(loss='sparse_categorical_crossentropy', optimizer='sgd', metrics=['AUC'])\n",
    "\n",
    "    # binary classification\n",
    "    optimizer = keras.optimizers.SGD(learning_rate=0.01, decay=1e-4)\n",
    "    model_DL.compile(loss='binary_crossentropy', optimizer=optimizer, metrics=[['accuracy', 'AUC']])\n",
    "\n",
    "    #model_DL.summary()\n",
    "    \n",
    "    return model_DL\n",
    "\n",
    "model_DL = KerasClassifier(build_fn=create_DL_model, epochs=70, verbose=1)"
   ]
  },
  {
   "cell_type": "code",
   "execution_count": 42,
   "metadata": {},
   "outputs": [],
   "source": [
    "def create_DL_2_model():\n",
    "    input_ = keras.layers.Input(shape=features_train_drive.shape[1:], name='input')\n",
    "    input_a = keras.layers.Input(shape=features_train_drive.shape[1:], name='input_a')\n",
    "\n",
    "    hidden_1 = keras.layers.BatchNormalization()(input_)\n",
    "\n",
    "    hidden_a1 = keras.layers.BatchNormalization()(input_a)\n",
    "    hidden_a2 = keras.layers.Dense(100, activation='elu', kernel_initializer=\"he_normal\")(hidden_a1)\n",
    "    hidden_a3 = keras.layers.BatchNormalization()(hidden_a2)\n",
    "    hidden_a4 = keras.layers.Dense(20, activation='elu', kernel_initializer=\"he_normal\")(hidden_a3)\n",
    "    hidden_a5 = keras.layers.BatchNormalization()(hidden_a4)\n",
    "\n",
    "    aux_output = keras.layers.Dense(9, name='aux_output', activation='softmax')(hidden_a5)\n",
    "\n",
    "    concat = keras.layers.concatenate([hidden_1, aux_output])\n",
    "\n",
    "\n",
    "    hidden_2 = keras.layers.Dense(250, activation='elu', kernel_initializer=\"he_normal\")(concat)\n",
    "    hidden_3 = keras.layers.BatchNormalization()(hidden_2)\n",
    "\n",
    "    hidden_4 = keras.layers.Dense(150, activation='elu', kernel_initializer=\"he_normal\")(hidden_3)\n",
    "    hidden_5 = keras.layers.BatchNormalization()(hidden_4)\n",
    "\n",
    "    hidden_6 = keras.layers.Dense(80, activation='elu', kernel_initializer=\"he_normal\")(hidden_5)\n",
    "    hidden_7 = keras.layers.BatchNormalization()(hidden_6)\n",
    "\n",
    "    hidden_8 = keras.layers.Dense(80, activation='elu', kernel_initializer=\"he_normal\")(hidden_7)\n",
    "    hidden_9 = keras.layers.BatchNormalization()(hidden_8)\n",
    "\n",
    "    #concat = keras.layers.concatenate([hidden_7, aux_output])\n",
    "\n",
    "    output = keras.layers.Dense(1, name='main_output', activation='sigmoid')(hidden_9)\n",
    "\n",
    "    model_DL_2 = keras.Model(inputs=[input_, input_a], outputs=[output, aux_output])\n",
    "\n",
    "    optimizer = keras.optimizers.SGD(learning_rate=0.01, decay=1e-4)\n",
    "    model_DL_2.compile(loss=['binary_crossentropy','sparse_categorical_crossentropy'], loss_weights=[0.90, 0.10], \n",
    "                    optimizer=optimizer, metrics=[['accuracy'],['accuracy']])\n",
    "\n",
    "    return model_DL_2\n",
    "\n",
    "model_DL_2 = KerasClassifier(build_fn=create_DL_2_model, epochs=70, verbose=1)"
   ]
  },
  {
   "cell_type": "code",
   "execution_count": null,
   "metadata": {},
   "outputs": [],
   "source": [
    "# Logistic regression model\n",
    "\n",
    "scores_logistic = cross_validate(model_logistic,\n",
    "    features_train,\n",
    "    label_train,\n",
    "    cv=folds,\n",
    "    scoring=(['recall','precision','f1','roc_auc']))\n",
    "print('Pass - Linear logistic regression (P/R/F1/ROC): {:.1%}  {:.1%}  {:.1%} {:.1%}'.format(scores_logistic['test_recall'].mean(), \n",
    "                                                                                   scores_logistic['test_precision'].mean(), \n",
    "                                                                                   scores_logistic['test_f1'].mean(),\n",
    "                                                                                  scores_logistic['test_roc_auc'].mean()))"
   ]
  },
  {
   "cell_type": "code",
   "execution_count": 43,
   "metadata": {},
   "outputs": [
    {
     "name": "stdout",
     "output_type": "stream",
     "text": [
      "Win Probability - Random Forest Classifier (P/R/F1/ROC): 80.17%  79.48%  79.82% 87.77%\n"
     ]
    }
   ],
   "source": [
    "# Random forest classification\n",
    "\n",
    "scores_RFC = cross_validate(model_RFC,\n",
    "    features_train,\n",
    "    label_train,\n",
    "    cv=folds,\n",
    "    scoring=(['recall','precision','f1','roc_auc']))\n",
    "print('Win Probability - Random Forest Classifier (P/R/F1/ROC): {:.2%}  {:.2%}  {:.2%} {:.2%}'.format(scores_RFC['test_recall'].mean(), \n",
    "                                                                                scores_RFC['test_precision'].mean(), \n",
    "                                                                                scores_RFC['test_f1'].mean(),\n",
    "                                                                                scores_RFC['test_roc_auc'].mean()))"
   ]
  },
  {
   "cell_type": "code",
   "execution_count": null,
   "metadata": {},
   "outputs": [],
   "source": [
    "# Deep learning classification\n",
    "\n",
    "scores_DL = cross_validate(model_DL,\n",
    "    features_train,\n",
    "    label_train,\n",
    "    cv=folds,\n",
    "    scoring=(['recall','precision','f1','roc_auc']))\n",
    "print('Win Probability - Random Forest Classifier (P/R/F1/ROC): {:.2%}  {:.2%}  {:.2%} {:.2%}'.format(scores_DL['test_recall'].mean(), \n",
    "                                                                                scores_DL['test_precision'].mean(), \n",
    "                                                                                scores_DL['test_f1'].mean(),\n",
    "                                                                                scores_DL['test_roc_auc'].mean()))"
   ]
  },
  {
   "cell_type": "code",
   "execution_count": null,
   "metadata": {},
   "outputs": [],
   "source": [
    "# Deep learning classification\n",
    "\n",
    "scores_DL2 = cross_validate(model_DL,\n",
    "    features_train,\n",
    "    label_train,\n",
    "    cv=folds,\n",
    "    scoring=(['recall','precision','f1','roc_auc']))\n",
    "print('Win Probability - Random Forest Classifier (P/R/F1/ROC): {:.2%}  {:.2%}  {:.2%} {:.2%}'.format(scores_DL2['test_recall'].mean(), \n",
    "                                                                                scores_DL2['test_precision'].mean(), \n",
    "                                                                                scores_DL2['test_f1'].mean(),\n",
    "                                                                                scores_DL2['test_roc_auc'].mean()))"
   ]
  },
  {
   "cell_type": "code",
   "execution_count": null,
   "metadata": {},
   "outputs": [],
   "source": [
    "# Random forest regression\n",
    "\n",
    "scores_RFR = cross_validate(model_RFR,\n",
    "    features_train,\n",
    "    label_train,\n",
    "    cv=folds,\n",
    "    scoring=(['neg_mean_absolute_error', 'neg_root_mean_squared_error', 'r2']))\n",
    "print(f\"Win Probability - Random Forest Regression (mae/rmse/r2): \\\n",
    "      {-scores_RFR['test_neg_mean_absolute_error'].mean():.3} \\\n",
    "      {-scores_RFR['test_neg_root_mean_squared_error'].mean():.3} \\\n",
    "      {scores_RFR['test_r2'].mean():.3}\")"
   ]
  },
  {
   "cell_type": "code",
   "execution_count": null,
   "metadata": {},
   "outputs": [],
   "source": [
    "# feature importance study\n",
    "model_RFC.fit(features_train, label_train)\n",
    "feature_score = pd.DataFrame([feature_names, model_RFC.feature_importances_], index=['feature','importance']).transpose()\n",
    "feature_score.sort_values(by='importance', ascending=False)"
   ]
  },
  {
   "cell_type": "markdown",
   "metadata": {},
   "source": [
    "## 2.2 Overtime"
   ]
  },
  {
   "cell_type": "code",
   "execution_count": null,
   "metadata": {},
   "outputs": [],
   "source": [
    "# instantiate models\n",
    "folds = 5\n",
    "\n",
    "model_logistic = LogisticRegression(solver='lbfgs', fit_intercept=True, max_iter=10000, tol=1e-4, random_state=42)\n",
    "\n",
    "model_RFC_o = RandomForestClassifier(n_estimators=200, max_depth=15, min_samples_leaf=10, random_state=42)\n",
    "\n",
    "model_RFC_d = RandomForestClassifier(n_estimators=100, max_depth=10, min_samples_leaf=10, random_state=42)\n"
   ]
  },
  {
   "cell_type": "code",
   "execution_count": null,
   "metadata": {},
   "outputs": [],
   "source": [
    "from sklearn.multiclass import OneVsRestClassifier\n",
    "\n",
    "\n",
    "model_multi_class = OneVsRestClassifier(LogisticRegression(solver='lbfgs', fit_intercept=True, max_iter=10000, tol=1e-4, random_state=42))"
   ]
  },
  {
   "cell_type": "code",
   "execution_count": null,
   "metadata": {},
   "outputs": [],
   "source": [
    "# Logistic regression model\n",
    "\n",
    "scores_logistic_o = cross_validate(model_multi_class,\n",
    "    features_o_train,\n",
    "    label_o_train,\n",
    "    cv=folds,\n",
    "    scoring=(['recall_micro','precision_micro','f1_micro','roc_auc_ovr_weighted']))\n",
    "print('Drive outcome - logistic regression Classifier (P/R/F1/ROC): {:.1%}  {:.1%}  {:.1%} {:.1%}'.format(scores_logistic_o['test_recall_micro'].mean(), \n",
    "                                                                                scores_logistic_o['test_precision_micro'].mean(), \n",
    "                                                                                scores_logistic_o['test_f1_micro'].mean(),\n",
    "                                                                                scores_logistic_o['test_roc_auc_ovr_weighted'].mean()))"
   ]
  },
  {
   "cell_type": "code",
   "execution_count": null,
   "metadata": {},
   "outputs": [],
   "source": [
    "# Random forest classification\n",
    "\n",
    "scores_RFC_o = cross_validate(model_RFC,\n",
    "    features_o_train,\n",
    "    label_o_train,\n",
    "    cv=folds,\n",
    "    scoring=(['recall_micro','precision_micro','f1_micro','roc_auc_ovr_weighted']))\n",
    "print('Drive outcome - Random Forest Classifier (P/R/F1/ROC): {:.1%}  {:.1%}  {:.1%} {:.1%}'.format(scores_RFC_o['test_recall_micro'].mean(), \n",
    "                                                                                scores_RFC_o['test_precision_micro'].mean(), \n",
    "                                                                                scores_RFC_o['test_f1_micro'].mean(),\n",
    "                                                                                scores_RFC_o['test_roc_auc_ovr_weighted'].mean()))\n",
    "#sorted(SCORERS.keys()) "
   ]
  },
  {
   "cell_type": "code",
   "execution_count": 3,
   "metadata": {},
   "outputs": [
    {
     "data": {
      "text/plain": [
       "'2.3.1'"
      ]
     },
     "execution_count": 3,
     "metadata": {},
     "output_type": "execute_result"
    }
   ],
   "source": [
    "tf.__version__"
   ]
  },
  {
   "cell_type": "code",
   "execution_count": null,
   "metadata": {},
   "outputs": [],
   "source": [
    "# feature importance study\n",
    "model_RFC_o.fit(features_o_train, label_o_train)\n",
    "feature_score = pd.DataFrame([feature_names_o, model_RFC_o.feature_importances_], index=['feature','importance']).transpose()\n",
    "feature_score.sort_values(by='importance', ascending=False)"
   ]
  },
  {
   "cell_type": "code",
   "execution_count": null,
   "metadata": {},
   "outputs": [],
   "source": [
    "tmp=features_o_test[:1]\n",
    "tmp"
   ]
  },
  {
   "cell_type": "code",
   "execution_count": null,
   "metadata": {},
   "outputs": [],
   "source": [
    "pred_train = model_RFC_o.predict_proba(features_o_train) #features_o_test[:1])\n",
    "roc_auc_score(label_o_train, pred_train, multi_class='ovr')"
   ]
  },
  {
   "cell_type": "code",
   "execution_count": null,
   "metadata": {},
   "outputs": [],
   "source": [
    "pred_test = model_RFC_o.predict_proba(features_o_test) #features_o_test[:1])\n",
    "roc_auc_score(label_o_test, pred_test, multi_class='ovr')"
   ]
  },
  {
   "cell_type": "code",
   "execution_count": null,
   "metadata": {},
   "outputs": [],
   "source": []
  },
  {
   "cell_type": "code",
   "execution_count": null,
   "metadata": {},
   "outputs": [],
   "source": [
    "model_logistic.fit(features_d_train, label_d_train)\n",
    "\n",
    "from sklearn.linear_model import LinearRegression\n",
    "model_linear = LinearRegression(fit_intercept=False)\n",
    "model_linear.fit(features_d_train, label_d_train)"
   ]
  },
  {
   "cell_type": "code",
   "execution_count": null,
   "metadata": {},
   "outputs": [],
   "source": [
    "model_logistic.predict_proba(features_d_train[:3])"
   ]
  },
  {
   "cell_type": "code",
   "execution_count": null,
   "metadata": {},
   "outputs": [],
   "source": [
    "model_linear.predict(features_d_train[:3])"
   ]
  },
  {
   "cell_type": "code",
   "execution_count": null,
   "metadata": {},
   "outputs": [],
   "source": [
    "driveOutcomes[driveOutcomes.offenseTeam==332]"
   ]
  },
  {
   "cell_type": "code",
   "execution_count": null,
   "metadata": {},
   "outputs": [],
   "source": [
    "features_d_train[:3]"
   ]
  },
  {
   "cell_type": "markdown",
   "metadata": {},
   "source": [
    "# 3 Model prediction"
   ]
  },
  {
   "cell_type": "markdown",
   "metadata": {},
   "source": [
    "## 3.1 regular time model"
   ]
  },
  {
   "cell_type": "markdown",
   "metadata": {},
   "source": [
    "### 3.1.1 ML model"
   ]
  },
  {
   "cell_type": "code",
   "execution_count": null,
   "metadata": {},
   "outputs": [],
   "source": [
    "model_RFC.fit(features_train, label_train)\n",
    "#model_logistic.fit(features_train, label_train)"
   ]
  },
  {
   "cell_type": "code",
   "execution_count": null,
   "metadata": {},
   "outputs": [],
   "source": [
    "pred_p = model_RFC.predict_proba(features_train)\n",
    "pred = model_RFC.predict(features_train)\n",
    "print(roc_auc_score(label_train, pred_p[:,1]) )\n",
    "\n",
    "pred_p = model_RFC.predict_proba(features_test)\n",
    "pred = model_RFC.predict(features_test)\n",
    "print(roc_auc_score(label_test, pred_p[:,1]) )"
   ]
  },
  {
   "cell_type": "code",
   "execution_count": null,
   "metadata": {},
   "outputs": [],
   "source": [
    "roc_auc_score(label_test, pred_p[:,1])"
   ]
  },
  {
   "cell_type": "code",
   "execution_count": null,
   "metadata": {},
   "outputs": [],
   "source": [
    "print(f'mse: {mean_squared_error(label_test, pred_p[:,1]):.3} {mean_squared_error(label_test, legacy_prob):.3}')\n",
    "print(f'mae: {mean_absolute_error(label_test, pred_p[:,1]):.3} {mean_absolute_error(label_test, legacy_prob):.3}')\n",
    "print(f\"roc_auc: {roc_auc_score(label_test, pred_p[:,1], multi_class='ovr'):.3} \\\n",
    "      {roc_auc_score(label_test, legacy_prob, multi_class='ovr'):.3}\")\n",
    "print(f\"accuracy: {accuracy_score(label_test, pred):.3} {accuracy_score(label_test, legacy_prob>0.5):.3}\")\n",
    "print(f\"precision: {precision_score(label_test, pred):.3} {precision_score(label_test, legacy_prob>0.5):.3}\")\n",
    "print(f\"recall: {recall_score(label_test, pred):.3} {recall_score(label_test, legacy_prob>0.5):.3}\")\n",
    "print(f\"f1: {f1_score(label_test, pred):.3} {f1_score(label_test, legacy_prob>0.5):.3}\")"
   ]
  },
  {
   "cell_type": "code",
   "execution_count": null,
   "metadata": {},
   "outputs": [],
   "source": [
    "# plot the win-prob graph for superball 2019\n",
    "\n",
    "pred_superball = model_RFC.predict_proba(features_superball)\n",
    "\n",
    "gameData = win_df[id_superball].copy()\n",
    "gameTime = (gameData.period - 1) * 900 + (900 - gameData.secondsRemainingInPeriod)\n",
    "winProb = pred_superball[:,1]\n",
    "#legacy_winProb = legacy_prob_superball.values\n",
    "\n",
    "id = (gameData.homeTeam != gameData.offenseTeam).tolist()\n",
    "winProb[id] = (1 - winProb)[id]\n",
    "#legacy_winProb[id] = (1-legacy_winProb)[id]\n",
    "\n",
    "#lossProb = 1 - winProb - tieProb"
   ]
  },
  {
   "cell_type": "code",
   "execution_count": null,
   "metadata": {},
   "outputs": [],
   "source": [
    "# simply by \"play design\" feature itself is not good enough\n",
    "\n",
    "plt.figure(figsize=[12,9])\n",
    "plt.title(\"Super Bowl LIV In-game Win Probability for Kansas Chief\")\n",
    "plt.xlabel('Game Time (seconds)')\n",
    "plt.ylabel('Win Probability')\n",
    "plt.plot(gameTime, winProb, label='baseline')\n",
    "#plt.plot(gameTime, legacy_winProb, label='legacy')\n",
    "plt.plot(gameTime, [0.5]*len(gameTime), linestyle='--')\n",
    "plt.legend()\n",
    "\n",
    "plt.plot([0,3600],[0.5,0.5], linestyle='dashed')\n",
    "plt.show()"
   ]
  },
  {
   "cell_type": "code",
   "execution_count": null,
   "metadata": {},
   "outputs": [],
   "source": [
    "tmp=win_df[id_superball]\n",
    "tmp['p']=winProb\n",
    "tmp[41:55]"
   ]
  },
  {
   "cell_type": "code",
   "execution_count": null,
   "metadata": {},
   "outputs": [],
   "source": [
    "pred_d[np.where(id_superball)][41:55]"
   ]
  },
  {
   "cell_type": "code",
   "execution_count": null,
   "metadata": {},
   "outputs": [],
   "source": [
    "plt.figure(figsize=[12,9])\n",
    "plt.title(\"Super Bowl LIV In-game Win Probability for Kansas Chief\")\n",
    "plt.xlabel('Game Time (seconds)')\n",
    "plt.ylabel('Win Probability')\n",
    "plt.plot(gameTime, winProb, label='baseline')\n",
    "#plt.plot(gameTime, legacy_winProb, label='legacy')\n",
    "plt.plot(gameTime, [0.5]*len(gameTime), linestyle='--')\n",
    "plt.legend()\n",
    "\n",
    "plt.plot([0,3600],[0.5,0.5], linestyle='dashed')\n",
    "plt.show()"
   ]
  },
  {
   "cell_type": "code",
   "execution_count": null,
   "metadata": {},
   "outputs": [],
   "source": [
    "plt.figure(figsize=[12,9])\n",
    "plt.title(\"Super Bowl LIV In-game Win Probability for Kansas Chief\")\n",
    "plt.xlabel('Game Time (seconds)')\n",
    "plt.ylabel('Win Probability')\n",
    "plt.plot(gameTime, winProb, label='baseline')\n",
    "plt.plot(gameTime, legacy_winProb, label='legacy')\n",
    "plt.plot(gameTime, [0.5]*len(gameTime), linestyle='--')\n",
    "plt.legend()\n",
    "\n",
    "plt.plot([0,3600],[0.5,0.5], linestyle='dashed')\n",
    "plt.show()"
   ]
  },
  {
   "cell_type": "code",
   "execution_count": null,
   "metadata": {},
   "outputs": [],
   "source": [
    "# the baseline model is slow to detect the high probability of touchdown\n",
    "# for this play, can we add an expected score diff for this drive as a new feature?\n",
    "# this value can be based on prob distribution: TD, feild goal, no score, saftey and interception -> TD\n",
    "features_superball.iloc[28:31,:]\n",
    "win_df[id_superball].iloc[25:31,:]"
   ]
  },
  {
   "cell_type": "code",
   "execution_count": null,
   "metadata": {},
   "outputs": [],
   "source": [
    "gameData = win_df[id_test].copy()\n",
    "gameTime = (gameData.period - 1) * 900 + (900 - gameData.secondsRemainingInPeriod)\n",
    "winProb = pred[:,1]\n",
    "\n",
    "id = (gameData.homeTeam != gameData.offenseTeam).tolist()\n",
    "winProb[id] = (1 - winProb)[id]\n",
    "\n",
    "plt.figure(figsize=[12,9])\n",
    "plt.title(\"Super Bowl LIV In-game Win Probability for Kansas Chief\")\n",
    "plt.xlabel('Game Time (seconds)')\n",
    "plt.ylabel('Win Probability')\n",
    "plt.plot(gameTime, winProb)\n",
    "plt.plot([0,3600],[0.5,0.5], linestyle='dashed')\n",
    "plt.show()"
   ]
  },
  {
   "cell_type": "code",
   "execution_count": null,
   "metadata": {},
   "outputs": [],
   "source": [
    "tmp=win_df[id_test]\n",
    "plt.plot((tmp.homeScore - tmp.awayScore).tolist())"
   ]
  },
  {
   "cell_type": "code",
   "execution_count": null,
   "metadata": {},
   "outputs": [],
   "source": [
    "id= (win_df.period==1) & (win_df.homeScore-win_df.awayScore==7)\n",
    "\n",
    "id1 = id & (win_df.home_points > win_df.away_points)\n",
    "\n",
    "print(sum(id), sum(id1), sum(id1)/sum(id))\n",
    "\n",
    "id= (win_df.period==2) & (win_df.homeScore-win_df.awayScore==7)\n",
    "\n",
    "id1 = id & (win_df.home_points > win_df.away_points)\n",
    "\n",
    "print(sum(id), sum(id1), sum(id1)/sum(id))\n",
    "\n",
    "id= (win_df.period==3) & (win_df.homeScore-win_df.awayScore==7)\n",
    "\n",
    "id1 = id & (win_df.home_points > win_df.away_points)\n",
    "\n",
    "print(sum(id), sum(id1), sum(id1)/sum(id))\n",
    "\n",
    "id= (win_df.period==4) & (win_df.homeScore-win_df.awayScore==7)\n",
    "\n",
    "id1 = id & (win_df.home_points > win_df.away_points)\n",
    "\n",
    "print(sum(id), sum(id1), sum(id1)/sum(id))"
   ]
  },
  {
   "cell_type": "markdown",
   "metadata": {},
   "source": [
    "### 3.1.2 DL model"
   ]
  },
  {
   "cell_type": "markdown",
   "metadata": {},
   "source": [
    "### (1) Sequential deep NN"
   ]
  },
  {
   "cell_type": "code",
   "execution_count": null,
   "metadata": {},
   "outputs": [],
   "source": [
    "#model_DL = KerasClassifier(build_fn=create_DL_model, epochs=70, verbose=1)\n",
    "model_DL=create_DL_model()\n",
    "\n",
    "history = model_DL.fit(features_train, label_train, epochs=70, validation_data=(features_test, label_test) )"
   ]
  },
  {
   "cell_type": "code",
   "execution_count": null,
   "metadata": {},
   "outputs": [],
   "source": [
    "pred_p = model_DL.predict_proba(features_train)\n",
    "pred   = model_DL.predict_classes(features_train)\n",
    "print(roc_auc_score(label_train, pred_p) )\n",
    "\n",
    "pred_p = model_DL.predict_proba(features_test)\n",
    "pred   = model_DL.predict_classes(features_test)\n",
    "print(roc_auc_score(label_test, pred_p) )"
   ]
  },
  {
   "cell_type": "code",
   "execution_count": null,
   "metadata": {},
   "outputs": [],
   "source": [
    "print(f'mse: {mean_squared_error(label_test, pred_p):.3}')#' {mean_squared_error(label_test, legacy_prob):.3}')\n",
    "print(f'mae: {mean_absolute_error(label_test, pred_p):.3}')# {mean_absolute_error(label_test, legacy_prob):.3}')\n",
    "print(f\"roc_auc: {roc_auc_score(label_test, pred_p):.3}\") # \\{roc_auc_score(label_test, legacy_prob):.3}\")\n",
    "print(f\"accuracy: {accuracy_score(label_test, pred):.3}\")# {accuracy_score(label_test, legacy_prob>0.5):.3}\")\n",
    "print(f\"precision: {precision_score(label_test, pred):.3}\")# {precision_score(label_test, legacy_prob>0.5):.3}\")\n",
    "print(f\"recall: {recall_score(label_test, pred):.3}\")# {recall_score(label_test, legacy_prob>0.5):.3}\")\n",
    "print(f\"f1: {f1_score(label_test, pred):.3}\")# {f1_score(label_test, legacy_prob>0.5):.3}\")"
   ]
  },
  {
   "cell_type": "markdown",
   "metadata": {},
   "source": [
    "### (2) Wide & deep NN"
   ]
  },
  {
   "cell_type": "code",
   "execution_count": null,
   "metadata": {},
   "outputs": [],
   "source": [
    "model_DL_2 = create_DL_2_model()\n",
    "\n",
    "history_2 = model_DL_2.fit([features_train_drive, features_train_drive], [label_train, label_train_drive], epochs=70, \\\n",
    "                      validation_data=([features_test_drive, features_test_drive], [label_test, label_test_drive]) )"
   ]
  },
  {
   "cell_type": "code",
   "execution_count": null,
   "metadata": {},
   "outputs": [],
   "source": [
    "pred_p = model_DL_2.predict([features_train_drive, features_train_drive])[0]\n",
    "pred   = pred_p > 0.5\n",
    "print(roc_auc_score(label_train, pred_p) )\n",
    "\n",
    "pred_p = model_DL_2.predict([features_test_drive, features_test_drive])[0]\n",
    "pred   = pred_p > 0.5\n",
    "print(roc_auc_score(label_test, pred_p) )"
   ]
  },
  {
   "cell_type": "code",
   "execution_count": null,
   "metadata": {},
   "outputs": [],
   "source": [
    "print(f'mse: {mean_squared_error(label_test, pred_p):.3}')#' {mean_squared_error(label_test, legacy_prob):.3}')\n",
    "print(f'mae: {mean_absolute_error(label_test, pred_p):.3}')# {mean_absolute_error(label_test, legacy_prob):.3}')\n",
    "print(f\"roc_auc: {roc_auc_score(label_test, pred_p):.3}\") # \\{roc_auc_score(label_test, legacy_prob):.3}\")\n",
    "print(f\"accuracy: {accuracy_score(label_test, pred):.3}\")# {accuracy_score(label_test, legacy_prob>0.5):.3}\")\n",
    "print(f\"precision: {precision_score(label_test, pred):.3}\")# {precision_score(label_test, legacy_prob>0.5):.3}\")\n",
    "print(f\"recall: {recall_score(label_test, pred):.3}\")# {recall_score(label_test, legacy_prob>0.5):.3}\")\n",
    "print(f\"f1: {f1_score(label_test, pred):.3}\")# {f1_score(label_test, legacy_prob>0.5):.3}\")"
   ]
  },
  {
   "cell_type": "code",
   "execution_count": null,
   "metadata": {},
   "outputs": [],
   "source": [
    "model.save(\"in-game-win-prob-DL-model.h5\")"
   ]
  },
  {
   "cell_type": "markdown",
   "metadata": {},
   "source": [
    "## 3.2 Overtime model"
   ]
  },
  {
   "cell_type": "code",
   "execution_count": null,
   "metadata": {},
   "outputs": [],
   "source": [
    "# function to simulate outcomes of OT\n",
    "#\n",
    "# input: features for each play, starting offense team id, starting defense team id, driveOutcomes\n",
    "# \n",
    "\n",
    "def OvertimeWinProbabilityCalculation(features, team_1, team_2, driveOutcomes):\n",
    "       \n",
    "    samples = 100\n",
    "    \n",
    "    winProb = []\n",
    "    \n",
    "    team_1_prob = driveOutcomes[driveOutcomes.offenseTeam==team_1].share\n",
    "    team_2_prob = driveOutcomes[driveOutcomes.offenseTeam==team_2].share\n",
    "\n",
    "    for index, row in features.iterrows():\n",
    "        \n",
    "        driveId = index\n",
    "        offenseTeam = row.teamid\n",
    "        row.drop('teamid', inplace=True)\n",
    "        \n",
    "        # drive prob prediction from current play\n",
    "        x = np.array(row).reshape(1,-1)\n",
    "        \n",
    "        start_time = time.time()\n",
    "        \n",
    "        play_prob = model_RFC_o.predict_proba(x)[0, :]\n",
    "        \n",
    "        print(offenseTeam, play_prob)\n",
    "        \n",
    "        team_1_wins = 0\n",
    "        team_1_score = 0\n",
    "        team_2_score = 0\n",
    "         \n",
    "        if driveId == 0: \n",
    "            for i in range(samples):\n",
    "                re = simulatedOutcome_1(team_1, team_2, team_1_score, team_2_score, team_1_prob, team_2_prob, play_prob)\n",
    "                if re[0]:\n",
    "                    team_1_wins = team_1_wins + 1\n",
    "                    #print(team_1, team_2, team_1_score, team_2_score, re[1], re[2])  \n",
    "                    \n",
    "        elif driveId == 1:\n",
    "            team_2_score = row.scoreDiff\n",
    "            \n",
    "            for i in range(samples):\n",
    "                re = simulatedOutcome_2(team_1, team_2, team_1_score, team_2_score, team_1_prob, team_2_prob, play_prob)\n",
    "                if re[0]:\n",
    "                    team_1_wins = team_1_wins + 1\n",
    "                    #print(team_1, team_2, team_1_score, team_2_score, re[1], re[2])\n",
    "    \n",
    "        else:\n",
    "            if offenseTeam==team_1:\n",
    "                defenseTeam=team_2\n",
    "                team_o_prob=team_1_prob\n",
    "                team_d_prob=team_2_prob\n",
    "            else:\n",
    "                defenseTeam=team_1\n",
    "                team_o_prob=team_2_prob\n",
    "                team_d_prob=team_1_prob\n",
    "                    \n",
    "            for i in range(samples):\n",
    "                re = simulatedOutcome_3(team_1, offenseTeam, defenseTeam, 0, 0, team_o_prob, team_d_prob, play_prob)\n",
    "                if re[0]:\n",
    "                    team_1_wins = team_1_wins + 1\n",
    "                    #print(team_1, team_2, team_1_score, team_2_score, re[1], re[2])\n",
    "        \n",
    "        #break\n",
    "        wp = np.sum(team_1_wins) / float(samples) \n",
    "        \n",
    "        print(f\"--- {(time.time() - start_time)} seconds, {wp} ---\") \n",
    "        \n",
    "        \n",
    "        winProb.append( wp )\n",
    "        \n",
    "    return winProb\n"
   ]
  },
  {
   "cell_type": "code",
   "execution_count": null,
   "metadata": {},
   "outputs": [],
   "source": [
    "# this is for team 1\n",
    "from numpy import random\n",
    "\n",
    "def simulatedOutcome_1(team_1, team_2, team_1_score, team_2_score, team_1_prob, team_2_prob, play_prob):\n",
    "    \n",
    "    re = random.multinomial(n=1, pvals=play_prob)\n",
    "    re = np.where(re)[0][0]\n",
    "    \n",
    "    if re in [4,5,6]: # touch-down\n",
    "        team_1_score = team_1_score + 6\n",
    "        return (True, team_1_score, team_2_score)\n",
    "    \n",
    "    elif re in (3,): # field goal\n",
    "        team_1_score = team_1_score + 3\n",
    "        return simulatedOutcome_2(team_1, team_2, team_1_score, team_2_score, team_1_prob, team_2_prob, team_2_prob)\n",
    "    \n",
    "    elif re in (0,): # no score\n",
    "        return simulatedOutcome_2(team_1, team_2, team_1_score, team_2_score, team_1_prob, team_2_prob, team_2_prob)\n",
    "\n",
    "    else:          # safety or defense TD\n",
    "        team_2_score += 2\n",
    "        return (False, team_1_score, team_2_score)\n",
    "    "
   ]
  },
  {
   "cell_type": "code",
   "execution_count": null,
   "metadata": {},
   "outputs": [],
   "source": [
    "# this is for team 2\n",
    "\n",
    "def simulatedOutcome_2(team_1, team_2, team_1_score, team_2_score, team_1_prob, team_2_prob, play_prob):\n",
    "    \n",
    "    re = np.random.multinomial(n=1, pvals=play_prob)\n",
    "    re = np.where(re)[0][0]\n",
    "    \n",
    "    if re in (4,5,6): # touch-down\n",
    "        team_2_score = team_2_score + 6\n",
    "        return (False, team_1_score, team_2_score)\n",
    "    \n",
    "    elif re in (3,): # field goal\n",
    "        team_2_score = team_2_score + 3\n",
    "        if team_2_score > team_1_score:\n",
    "            #print('#2: team 2 field goal win the game')\n",
    "            return (False, team_1_score, team_2_score)\n",
    "        elif team_2_score == team_1_score: # move to restart, 3rd drive\n",
    "            #print(\"restart after team 2 field goal\")\n",
    "            return simulatedOutcome_3(team_1, team_1, team_2, team_1_score, team_2_score, team_1_prob, team_2_prob, team_1_prob)\n",
    "        else:\n",
    "            print(\"Error: team_2 field goal,\", team_1_score, team_2_score)\n",
    "            return (False, team_1_score, team_2_score)\n",
    "        \n",
    "    elif re in (0,):\n",
    "        if team_1_score > team_2_score:\n",
    "            #print('#1: team 1 field goal win the game', team_1_score, team_2_score)\n",
    "            return (True, team_1_score, team_2_score)\n",
    "        elif team_1_score == team_2_score:\n",
    "            #print(\"restart after team 2 no score\")\n",
    "            return simulatedOutcome_3(team_1, team_1, team_2, team_1_score, team_2_score, team_1_prob, team_2_prob, team_1_prob)\n",
    "        else:\n",
    "            print(\"Error: team_2 no score\")\n",
    "            return (False, team_1_score, team_2_score)\n",
    "        \n",
    "    else:          # safety or defense TD\n",
    "        team_1_score += 2\n",
    "        #print(\"safety, team_1 wins,\", team_1_score, team_2_score)\n",
    "        return (True, team_1_score, team_2_score)\n",
    "    "
   ]
  },
  {
   "cell_type": "code",
   "execution_count": null,
   "metadata": {},
   "outputs": [],
   "source": [
    "# After the 1st round of one drive each team\n",
    "# team_1 means the team start offense from the beginning of OT\n",
    "# team_o and team_d mean offense team and defense team for each drive after the 1st round\n",
    "\n",
    "def simulatedOutcome_3(team_1, team_o, team_d, team_o_score, team_d_score, team_o_prob, team_d_prob, play_prob):\n",
    "    \n",
    "    re = random.multinomial(n=1, pvals=play_prob)\n",
    "    re = np.where(re)[0][0]\n",
    "    \n",
    "    if re in (3, 4, 5, 6): # touch-down or field goal\n",
    "        team_o_score = team_o_score + 6\n",
    "        if team_o == team_1:\n",
    "            return (True, team_o_score, team_d_score)\n",
    "        else:\n",
    "            return (False, team_d_score, team_o_score)\n",
    "    elif re == 0:\n",
    "        return simulatedOutcome_3(team_1, team_d, team_o, team_d_score, team_o_score, team_d_prob, team_o_prob, team_d_prob)\n",
    "    else:          # safety or defense TD\n",
    "        team_d_score += 2\n",
    "        if team_d == team_1:\n",
    "            return (True, team_d_score, team_o_score)\n",
    "        else:\n",
    "            return (False, team_o_score, team_d_score)"
   ]
  },
  {
   "cell_type": "code",
   "execution_count": null,
   "metadata": {},
   "outputs": [],
   "source": [
    "model_RFC_o.fit(features_o_train, label_o_train)\n",
    "\n",
    "pred_p_o = model_RFC_o.predict_proba(features_o_test)\n",
    "\n",
    "pred_o = model_RFC_o.predict(features_o_test)\n",
    "\n",
    "print(balanced_accuracy_score(label_o_test, pred_o) )\n",
    "#roc_auc_score(label_o_test, pred_p_o, multi_class='ovr')"
   ]
  },
  {
   "cell_type": "code",
   "execution_count": null,
   "metadata": {},
   "outputs": [],
   "source": [
    "# only 091/1/09-08 is a tie\n",
    "# only 187/17 is a win by defense from an interception\n",
    "# 1st TD win: 082/1/09-08, 139/9/11-03, 301/14/12-09, 129/16/12-22, 276/18/01-05\n",
    "# multiple drives and offense still wins: 043/10/11-11, 119/16/12-22, 160/5/10-06, 279/18/01-04\n",
    "\n",
    "id = (win_df.period>=5) & (win_df.season==2019)\n",
    "print(win_df[id].gamecode.unique())\n",
    "id = (win_df.period>=5) & (win_df.gamecode==2142276)\n",
    "win_df[id]"
   ]
  },
  {
   "cell_type": "code",
   "execution_count": null,
   "metadata": {},
   "outputs": [],
   "source": [
    "driveOutcomes[driveOutcomes.offenseTeam==338]\n",
    "#driveOutcomes.columns"
   ]
  },
  {
   "cell_type": "code",
   "execution_count": null,
   "metadata": {},
   "outputs": [],
   "source": [
    "np.random.seed(0)\n",
    "\n",
    "OT_gamecode = [2142082, 2142160, 2142139, 2142043, 2142301, 2142119, 2142129, 2142276, 2142279]\n",
    "#[2142091]\n",
    "\n",
    "predictions=[]\n",
    "team_1_id = []\n",
    "legacy_probs = []\n",
    "\n",
    "fig, subplots = plt.subplots(5,2)\n",
    "\n",
    "fig.set_figheight(32)\n",
    "fig.set_figwidth(16)\n",
    "\n",
    "for i, game in enumerate(OT_gamecode[:1]):\n",
    "    id = (win_df.gamecode==game) & (win_df.period>=5) #& (~win_df['winProbability.before'].isnull())\n",
    "    \n",
    "    print(i, game, sum(id))\n",
    "    \n",
    "    fs = features[id]\n",
    "    fs['teamid'] = win_df[id].offenseTeam\n",
    "    fs['driveid']= win_df[id].driveid - win_df[id].driveid.values[0]\n",
    "    fs.set_index('driveid', inplace=True)\n",
    "\n",
    "    # teanm_1 is the starting offense team in OT\n",
    "    team_1, team_2 = win_df[id].offenseTeam.values[0], win_df[id].defenseTeam.values[0]\n",
    "    \n",
    "    pred = OvertimeWinProbabilityCalculation(fs, team_1, team_2, driveOutcomes)\n",
    "    \n",
    "    predictions.extend(pred)\n",
    "    \n",
    "    isStartingTeam = win_df[id].offenseTeam == win_df[id].offenseTeam.values[0]\n",
    "    team_1_id.extend(isStartingTeam)\n",
    "    \n",
    "#     legacy_p = win_df['winProbability.before'][id]\n",
    "#     legacy_p[~isStartingTeam] = 1.0 - legacy_p[~isStartingTeam].copy()\n",
    "    \n",
    "#     legacy_probs.extend(legacy_p)\n",
    "    \n",
    "    plot = subplots[np.divmod(i, 2)]\n",
    "    plot.set_ylim([0.0, 1.0])\n",
    "    plot.set_title(game)\n",
    "    plot.plot(pred, marker='o', label='simulation')\n",
    "    plot.plot([0.5 for _ in pred], linestyle='--')\n",
    "    #plot.plot(legacy_p.values, marker='x', label='legacy')\n",
    "    plot.legend()\n",
    "    \n",
    "#     print(i, game, sum(id), mean_squared_error([win_df.offenseWin[id].values[0]]*sum(id), pred),\\\n",
    "#          mean_squared_error([win_df.offenseWin[id].values[0]]*sum(id), legacy_p))\n",
    "    \n",
    "    #break\n",
    "    "
   ]
  },
  {
   "cell_type": "code",
   "execution_count": null,
   "metadata": {},
   "outputs": [],
   "source": [
    "len(predictions)\n",
    "id = (win_df.gamecode.isin(OT_gamecode)) & (win_df.period>=5) & (~win_df['winProbability.before'].isnull())\n",
    "\n",
    "offensePredictions = pd.Series(predictions)\n",
    "offensePredictions[~np.array(team_1_id)] = 1-offensePredictions[~np.array(team_1_id)]"
   ]
  },
  {
   "cell_type": "code",
   "execution_count": null,
   "metadata": {},
   "outputs": [],
   "source": [
    "#id = (win_df.period>=5) & (~win_df['winProbability.before'].isnull())\n",
    "\n",
    "legacy_p_o = win_df['winProbability.before'][id]\n",
    "print(f'mse: {mean_squared_error(win_df.offenseWin[id], offensePredictions):.3} {mean_squared_error(win_df.offenseWin[id], legacy_p_o):.3}')\n",
    "print(f'mae: {mean_absolute_error(win_df.offenseWin[id], offensePredictions):.3} {mean_absolute_error(win_df.offenseWin[id], legacy_p_o):.3}')"
   ]
  },
  {
   "cell_type": "code",
   "execution_count": null,
   "metadata": {},
   "outputs": [],
   "source": [
    "print(f'mse: {mean_squared_error(win_df.offenseWin[id], offensePredictions):.3} {mean_squared_error(win_df.offenseWin[id], legacy_p_o):.3}')\n",
    "print(f\"roc_auc: {roc_auc_score(win_df.offenseWin[id], offensePredictions):.3} {roc_auc_score(win_df.offenseWin[id], legacy_p_o):.3}\")"
   ]
  }
 ],
 "metadata": {
  "kernelspec": {
   "display_name": "nfl-win-prob",
   "language": "python",
   "name": "nfl-win-prob"
  },
  "language_info": {
   "codemirror_mode": {
    "name": "ipython",
    "version": 3
   },
   "file_extension": ".py",
   "mimetype": "text/x-python",
   "name": "python",
   "nbconvert_exporter": "python",
   "pygments_lexer": "ipython3",
   "version": "3.7.3"
  }
 },
 "nbformat": 4,
 "nbformat_minor": 4
}
